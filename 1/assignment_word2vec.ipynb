{
 "cells": [
  {
   "cell_type": "markdown",
   "metadata": {
    "id": "nTSf4ro-qU0d"
   },
   "source": [
    "## Бонусное задание: word2vec на PyTorch\n",
    "\n",
    "Как вы уже могли заметить, идея, лежащая в основе [word2vec](https://arxiv.org/pdf/1310.4546), достаточно общая. В данном задании вы реализуете его самостоятельно.\n",
    "\n",
    "Дисклеймер: не стоит удивляться тому, что реализация от `gensim` (или аналоги) обучается быстрее и работает точнее. Она использует множество доработок и ускорений, а также достаточно эффективный код. Ваша задача добиться промежуточных результатов за разумное время.\n",
    "\n",
    "P.s. Как ни странно, GPU в этом задании нам не потребуется."
   ]
  },
  {
   "cell_type": "markdown",
   "metadata": {},
   "source": [
    "__Requirements:__ if you're running locally, in the selected environment run the following command:\n",
    "\n",
    "```pip install --upgrade nltk bokeh umap-learn```\n"
   ]
  },
  {
   "cell_type": "code",
   "execution_count": null,
   "metadata": {
    "id": "Oipe2DU8qfm7"
   },
   "outputs": [],
   "source": [
    "#!pip install --upgrade nltk bokeh umap-learn"
   ]
  },
  {
   "cell_type": "code",
   "execution_count": 2,
   "metadata": {
    "id": "pqPU4Lu2qU0h"
   },
   "outputs": [],
   "source": [
    "import itertools\n",
    "import random\n",
    "import string\n",
    "from collections import Counter\n",
    "from itertools import chain\n",
    "\n",
    "import matplotlib.pyplot as plt\n",
    "import numpy as np\n",
    "import torch\n",
    "import torch.autograd as autograd\n",
    "import torch.nn as nn\n",
    "import torch.nn.functional as F\n",
    "import torch.optim as optim\n",
    "import umap\n",
    "from IPython.display import clear_output\n",
    "from matplotlib import pyplot as plt\n",
    "from nltk.tokenize import WordPunctTokenizer\n",
    "from torch.optim.lr_scheduler import ReduceLROnPlateau, StepLR\n",
    "from tqdm.auto import tqdm as tqdma"
   ]
  },
  {
   "cell_type": "code",
   "execution_count": 7,
   "metadata": {
    "colab": {
     "base_uri": "https://localhost:8080/"
    },
    "id": "8Fbx57z3qU0i",
    "outputId": "699ab6a7-41b9-402f-b842-039142bea06a"
   },
   "outputs": [
    {
     "name": "stdout",
     "output_type": "stream",
     "text": [
      "zsh:1: no matches found: https://www.dropbox.com/s/obaitrix9jyu84r/quora.txt?dl=1\n",
      "zsh:1: command not found: wget\n"
     ]
    }
   ],
   "source": [
    "# download the data:\n",
    "!wget https://www.dropbox.com/s/obaitrix9jyu84r/quora.txt?dl=1 -O ./quora.txt -nc\n",
    "\n",
    "# alternative download link: https://yadi.sk/i/BPQrUu1NaTduEw"
   ]
  },
  {
   "cell_type": "code",
   "execution_count": 2,
   "metadata": {},
   "outputs": [
    {
     "name": "stdout",
     "output_type": "stream",
     "text": [
      "  % Total    % Received % Xferd  Average Speed   Time    Time     Time  Current\n",
      "                                 Dload  Upload   Total   Spent    Left  Speed\n",
      "100   126  100   126    0     0    299      0 --:--:-- --:--:-- --:--:--   300\n",
      "100    17  100    17    0     0     14      0  0:00:01  0:00:01 --:--:--  3400\n",
      "100 32.2M  100 32.2M    0     0  4284k      0  0:00:07  0:00:07 --:--:-- 6584k\n"
     ]
    }
   ],
   "source": [
    "!curl -L 'https://www.dropbox.com/s/obaitrix9jyu84r/quora.txt?dl=1' -o ./quora.txt"
   ]
  },
  {
   "cell_type": "code",
   "execution_count": 3,
   "metadata": {
    "colab": {
     "base_uri": "https://localhost:8080/",
     "height": 37
    },
    "id": "8EYy5dQpqU0i",
    "outputId": "57a393d2-d5f5-4fa9-f46d-1b268d7798ae",
    "scrolled": false
   },
   "outputs": [
    {
     "data": {
      "text/plain": [
       "\"What TV shows or books help you read people's body language?\\n\""
      ]
     },
     "execution_count": 3,
     "metadata": {},
     "output_type": "execute_result"
    }
   ],
   "source": [
    "data = list(open(\"./quora.txt\", encoding=\"utf-8\"))\n",
    "data[50]"
   ]
  },
  {
   "cell_type": "markdown",
   "metadata": {
    "id": "feBEGI2eqU0j"
   },
   "source": [
    "Токенизация – первый шаг.\n",
    "Тексты, с которыми мы работаем, включают в себя пунктуацию, смайлики и прочие нестандартные токены, так что простой `str.split` не подойдет.\n",
    "\n",
    "Обратимся к `nltk` - библиотеку, нашла широкое применеие в области NLP."
   ]
  },
  {
   "cell_type": "code",
   "execution_count": 4,
   "metadata": {
    "colab": {
     "base_uri": "https://localhost:8080/"
    },
    "id": "7mWTvm50qU0j",
    "outputId": "18272985-9762-4288-8457-76fa78a44d52"
   },
   "outputs": [
    {
     "name": "stdout",
     "output_type": "stream",
     "text": [
      "['What', 'TV', 'shows', 'or', 'books', 'help', 'you', 'read', 'people', \"'\", 's', 'body', 'language', '?']\n"
     ]
    }
   ],
   "source": [
    "tokenizer = WordPunctTokenizer()\n",
    "\n",
    "print(tokenizer.tokenize(data[50]))"
   ]
  },
  {
   "cell_type": "code",
   "execution_count": 5,
   "metadata": {
    "id": "HzC05EHWqU0j"
   },
   "outputs": [],
   "source": [
    "data_tok = [\n",
    "    tokenizer.tokenize(\n",
    "        line.translate(str.maketrans(\"\", \"\", string.punctuation)).lower()\n",
    "    )\n",
    "    for line in data\n",
    "]\n",
    "data_tok = [x for x in data_tok if len(x) >= 3]"
   ]
  },
  {
   "cell_type": "markdown",
   "metadata": {
    "id": "6azRAgHIqU0k"
   },
   "source": [
    "Несколько проверок:"
   ]
  },
  {
   "cell_type": "code",
   "execution_count": 6,
   "metadata": {
    "id": "Cp8UpxdWqU0k"
   },
   "outputs": [],
   "source": [
    "assert all(\n",
    "    isinstance(row, (list, tuple)) for row in data_tok\n",
    "), \"please convert each line into a list of tokens (strings)\"\n",
    "assert all(\n",
    "    all(isinstance(tok, str) for tok in row) for row in data_tok\n",
    "), \"please convert each line into a list of tokens (strings)\"\n",
    "is_latin = lambda tok: all(\"a\" <= x.lower() <= \"z\" for x in tok)\n",
    "assert all(\n",
    "    map(lambda l: not is_latin(l) or l.islower(), map(\" \".join, data_tok))\n",
    "), \"please make sure to lowercase the data\""
   ]
  },
  {
   "cell_type": "markdown",
   "metadata": {
    "id": "37e7-MIhqU0x"
   },
   "source": [
    "Ниже заданы константы ширины окна контекста и проведена предобработка для построения skip-gram модели."
   ]
  },
  {
   "cell_type": "code",
   "execution_count": 8,
   "metadata": {
    "id": "fugc1IomqU0x"
   },
   "outputs": [],
   "source": [
    "min_count = 5\n",
    "window_radius = 5"
   ]
  },
  {
   "cell_type": "code",
   "execution_count": 9,
   "metadata": {},
   "outputs": [],
   "source": [
    "vocabulary_with_counter = Counter(chain.from_iterable(data_tok))\n",
    "\n",
    "word_count_dict = dict()\n",
    "for word, counter in vocabulary_with_counter.items():\n",
    "    if counter >= min_count:\n",
    "        word_count_dict[word] = counter\n",
    "\n",
    "vocabulary = set(word_count_dict.keys())\n",
    "del vocabulary_with_counter"
   ]
  },
  {
   "cell_type": "code",
   "execution_count": 10,
   "metadata": {},
   "outputs": [],
   "source": [
    "word_to_index = {word: index for index, word in enumerate(vocabulary)}\n",
    "index_to_word = {index: word for word, index in word_to_index.items()}"
   ]
  },
  {
   "cell_type": "markdown",
   "metadata": {
    "id": "4Y8rlBfqqU0x"
   },
   "source": [
    "Пары `(слово, контекст)` на основе доступного датасета сгенерированы ниже."
   ]
  },
  {
   "cell_type": "code",
   "execution_count": 11,
   "metadata": {
    "id": "h2-aqyyaqU0x"
   },
   "outputs": [
    {
     "name": "stdout",
     "output_type": "stream",
     "text": [
      "Generated 40220313 pairs of target and context words.\n"
     ]
    }
   ],
   "source": [
    "context_pairs = []\n",
    "\n",
    "for text in data_tok:\n",
    "    for i, central_word in enumerate(text):\n",
    "        context_indices = range(\n",
    "            max(0, i - window_radius), min(i + window_radius, len(text))\n",
    "        )\n",
    "        for j in context_indices:\n",
    "            if j == i:\n",
    "                continue\n",
    "            context_word = text[j]\n",
    "            if central_word in vocabulary and context_word in vocabulary:\n",
    "                context_pairs.append(\n",
    "                    (word_to_index[central_word], word_to_index[context_word])\n",
    "                )\n",
    "\n",
    "print(f\"Generated {len(context_pairs)} pairs of target and context words.\")"
   ]
  },
  {
   "cell_type": "markdown",
   "metadata": {},
   "source": [
    "#### Подзадача №1: subsampling\n",
    "Для того, чтобы сгладить разницу в частоте встречаемсости слов, необходимо реализовать механизм subsampling'а.\n",
    "Для этого вам необходимо реализовать функцию ниже.\n",
    "\n",
    "Вероятность **исключить** слово из обучения (на фиксированном шаге) вычисляется как\n",
    "$$\n",
    "P_\\text{drop}(w_i)=1 - \\sqrt{\\frac{t}{f(w_i)}},\n",
    "$$\n",
    "\n",
    "где $f(w_i)$ – нормированная частота встречаемости слова, а $t$ – заданный порог (threshold)."
   ]
  },
  {
   "cell_type": "code",
   "execution_count": null,
   "metadata": {},
   "outputs": [],
   "source": [
    "def subsample_frequent_words(word_count_dict, threshold=1e-5):\n",
    "    \"\"\"\n",
    "    Calculates the subsampling probabilities for words based on their frequencies.\n",
    "\n",
    "    This function is used to determine the probability of keeping a word in the dataset\n",
    "    when subsampling frequent words. The method used is inspired by the subsampling approach\n",
    "    in Word2Vec, where each word's frequency affects its probability of being kept.\n",
    "\n",
    "    Parameters:\n",
    "    - word_count_dict (dict): A dictionary where keys are words and values are the counts of those words.\n",
    "    - threshold (float, optional): A threshold parameter used to adjust the frequency of word subsampling.\n",
    "                                   Defaults to 1e-5.\n",
    "\n",
    "    Returns:\n",
    "    - dict: A dictionary where keys are words and values are the probabilities of keeping each word.\n",
    "\n",
    "    Example:\n",
    "    >>> word_counts = {'the': 5000, 'is': 1000, 'apple': 50}\n",
    "    >>> subsample_frequent_words(word_counts)\n",
    "    {'the': 0.028, 'is': 0.223, 'apple': 1.0}\n",
    "    \"\"\"\n",
    "\n",
    "    ### YOUR CODE HERE\n",
    "    keep_prob_dict = {\n",
    "        word: 0 for word in word_count_dict.keys()\n",
    "    }  # THIS IS A PLACEHOLDER!\n",
    "    return keep_prob_dict"
   ]
  },
  {
   "cell_type": "code",
   "execution_count": 12,
   "metadata": {},
   "outputs": [],
   "source": [
    "def subsample_frequent_words(word_count_dict, threshold=1e-5):\n",
    "    \"\"\"\n",
    "    Calculates the subsampling probabilities for words based on their frequencies.\n",
    "\n",
    "    This function is used to determine the probability of keeping a word in the dataset\n",
    "    when subsampling frequent words. The method used is inspired by the subsampling approach\n",
    "    in Word2Vec, where each word's frequency affects its probability of being kept.\n",
    "\n",
    "    Parameters:\n",
    "    - word_count_dict (dict): A dictionary where keys are words and values are the counts of those words.\n",
    "    - threshold (float, optional): A threshold parameter used to adjust the frequency of word subsampling.\n",
    "                                   Defaults to 1e-5.\n",
    "\n",
    "    Returns:\n",
    "    - dict: A dictionary where keys are words and values are the probabilities of keeping each word.\n",
    "    \"\"\"\n",
    "    \n",
    "    \n",
    "    total_words = sum(word_count_dict.values())\n",
    "    keep_prob_dict = {}\n",
    "    for word, count in word_count_dict.items():\n",
    "        freq = count / total_words\n",
    "        drop_prob = 1 - (threshold / freq)**0.5\n",
    "        keep_prob_dict[word] = max(0, min(1, drop_prob))\n",
    "    return keep_prob_dict"
   ]
  },
  {
   "cell_type": "markdown",
   "metadata": {},
   "source": [
    "#### Подзадача №2: negative sampling\n",
    "Для более эффективного обучения необходимо не только предсказывать высокие вероятности для слов из контекста, но и предсказывать низкие для слов, не встреченных в контексте. Для этого вам необходимо вычислить вероятност использовать слово в качестве negative sample, реализовав функцию ниже.\n",
    "\n",
    "В оригинальной статье предлагается оценивать вероятность слов выступать в качестве negative sample согласно распределению $P_n(w)$\n",
    "$$\n",
    "P_n(w) = \\frac{U(w)^{3/4}}{Z},\n",
    "$$\n",
    "\n",
    "где $U(w)$ распределение слов по частоте (или, как его еще называют, по униграммам), а $Z$ – нормировочная константа, чтобы общая мера была равна $1$."
   ]
  },
  {
   "cell_type": "code",
   "execution_count": 13,
   "metadata": {},
   "outputs": [],
   "source": [
    "def get_negative_sampling_prob(word_count_dict):\n",
    "    \"\"\"\n",
    "    Calculates the negative sampling probabilities for words based on their frequencies.\n",
    "\n",
    "    This function adjusts the frequency of each word raised to the power of 0.75, which is\n",
    "    commonly used in algorithms like Word2Vec to moderate the influence of very frequent words.\n",
    "    It then normalizes these adjusted frequencies to ensure they sum to 1, forming a probability\n",
    "    distribution used for negative sampling.\n",
    "\n",
    "    Parameters:\n",
    "    - word_count_dict (dict): A dictionary where keys are words and values are the counts of those words.\n",
    "\n",
    "    Returns:\n",
    "    - dict: A dictionary where keys are words and values are the probabilities of selecting each word\n",
    "            for negative sampling.\n",
    "\n",
    "    Example:\n",
    "    >>> word_counts = {'the': 5000, 'is': 1000, 'apple': 50}\n",
    "    >>> get_negative_sampling_prob(word_counts)\n",
    "    {'the': 0.298, 'is': 0.160, 'apple': 0.042}\n",
    "    \"\"\"\n",
    "\n",
    "    ### YOUR CODE HERE\n",
    "    negative_sampling_prob_dict = {\n",
    "        word: 0 for word in word_count_dict.keys()\n",
    "    }  # THIS IS A PLACEHOLDER!\n",
    "    return negative_sampling_prob_dict"
   ]
  },
  {
   "cell_type": "code",
   "execution_count": 14,
   "metadata": {},
   "outputs": [],
   "source": [
    "def get_negative_sampling_prob(word_count_dict):\n",
    "    \"\"\"\n",
    "    Calculates the negative sampling probabilities for words based on their frequencies.\n",
    "\n",
    "    Parameters:\n",
    "    - word_count_dict (dict): A dictionary where keys are words and values are the counts of those words.\n",
    "\n",
    "    Returns:\n",
    "    - dict: A dictionary where keys are words and values are the probabilities of selecting each word\n",
    "            for negative sampling.\n",
    "    \"\"\"\n",
    "\n",
    "    \n",
    "    total_words = sum(word_count_dict.values())\n",
    "    unigram_dist_3_4 = {word: (count / total_words) ** 0.75 for word, count in word_count_dict.items()}\n",
    "    Z = sum(unigram_dist_3_4.values())\n",
    "    negative_sampling_prob_dict = {word: unigram_dist / Z for word, unigram_dist in unigram_dist_3_4.items()}\n",
    "    return negative_sampling_prob_dict"
   ]
  },
  {
   "cell_type": "markdown",
   "metadata": {},
   "source": [
    "Для удобства, преобразуем полученные словари в массивы (т.к. все слова все равно уже пронумерованы)."
   ]
  },
  {
   "cell_type": "code",
   "execution_count": 15,
   "metadata": {},
   "outputs": [],
   "source": [
    "keep_prob_dict = subsample_frequent_words(word_count_dict)\n",
    "assert keep_prob_dict.keys() == word_count_dict.keys()"
   ]
  },
  {
   "cell_type": "code",
   "execution_count": 16,
   "metadata": {},
   "outputs": [],
   "source": [
    "negative_sampling_prob_dict = get_negative_sampling_prob(word_count_dict)\n",
    "assert negative_sampling_prob_dict.keys() == negative_sampling_prob_dict.keys()\n",
    "assert np.allclose(sum(negative_sampling_prob_dict.values()), 1)"
   ]
  },
  {
   "cell_type": "code",
   "execution_count": 17,
   "metadata": {},
   "outputs": [],
   "source": [
    "keep_prob_array = np.array(\n",
    "    [keep_prob_dict[index_to_word[idx]] for idx in range(len(word_to_index))]\n",
    ")\n",
    "negative_sampling_prob_array = np.array(\n",
    "    [\n",
    "        negative_sampling_prob_dict[index_to_word[idx]]\n",
    "        for idx in range(len(word_to_index))\n",
    "    ]\n",
    ")"
   ]
  },
  {
   "cell_type": "markdown",
   "metadata": {},
   "source": [
    "Если все прошло успешно, функция ниже поможет вам с генерацией подвыборок (батчей)."
   ]
  },
  {
   "cell_type": "code",
   "execution_count": 18,
   "metadata": {},
   "outputs": [],
   "source": [
    "def generate_batch_with_neg_samples(\n",
    "    context_pairs,\n",
    "    batch_size,\n",
    "    keep_prob_array,\n",
    "    word_to_index,\n",
    "    num_negatives,\n",
    "    negative_sampling_prob_array,\n",
    "):\n",
    "    batch = []\n",
    "    neg_samples = []\n",
    "\n",
    "    while len(batch) < batch_size:\n",
    "        center, context = random.choice(context_pairs)\n",
    "        if random.random() < keep_prob_array[center]:\n",
    "            batch.append((center, context))\n",
    "            neg_sample = np.random.choice(\n",
    "                range(len(negative_sampling_prob_array)),\n",
    "                size=num_negatives,\n",
    "                p=negative_sampling_prob_array,\n",
    "            )\n",
    "            neg_samples.append(neg_sample)\n",
    "    batch = np.array(batch)\n",
    "    neg_samples = np.vstack(neg_samples)\n",
    "    return batch, neg_samples"
   ]
  },
  {
   "cell_type": "code",
   "execution_count": 19,
   "metadata": {},
   "outputs": [],
   "source": [
    "batch_size = 4\n",
    "num_negatives = 15\n",
    "batch, neg_samples = generate_batch_with_neg_samples(\n",
    "    context_pairs,\n",
    "    batch_size,\n",
    "    keep_prob_array,\n",
    "    word_to_index,\n",
    "    num_negatives,\n",
    "    negative_sampling_prob_array,\n",
    ")"
   ]
  },
  {
   "cell_type": "markdown",
   "metadata": {},
   "source": [
    "Наконец, время реализовать модель. Обращаем ваше внимание, использование линейных слоев (`nn.Linear`) далеко не всегда оправданно!\n",
    "\n",
    "Напомним, что в случае negative sampling решается задача максимизации следующего функционала:\n",
    "\n",
    "$$\n",
    "\\mathcal{L} = \\log \\sigma({\\mathbf{v}'_{w_O}}^\\top \\mathbf{v}_{w_I}) + \\sum_{i=1}^{k} \\mathbb{E}_{w_i \\sim P_n(w)} \\left[ \\log \\sigma({-\\mathbf{v}'_{w_i}}^\\top \\mathbf{v}_{w_I}) \\right],\n",
    "$$\n",
    "\n",
    "где:\n",
    "- $\\mathbf{v}_{w_I}$ – вектор центрального слова $w_I$,\n",
    "- $\\mathbf{v}'_{w_O}$ – вектор слова из контекста $w_O$,\n",
    "- $k$ – число negative samplesЮ,\n",
    "- $P_n(w)$ – распределение negative samples, заданное выше,\n",
    "- $\\sigma$ – сигмоида."
   ]
  },
  {
   "cell_type": "code",
   "execution_count": 20,
   "metadata": {},
   "outputs": [],
   "source": [
    "class SkipGramModelWithNegSampling(nn.Module):\n",
    "    def __init__(self, vocab_size, embedding_dim):\n",
    "        super().__init__()\n",
    "        # Эмбеддинги для центральных слов (центральные слова, которые мы пытаемся предсказать)\n",
    "        self.center_embeddings = nn.Embedding(vocab_size, embedding_dim)\n",
    "        # Эмбеддинги для контекстных слов (слова в контексте центрального слова)\n",
    "        self.context_embeddings = nn.Embedding(vocab_size, embedding_dim)\n",
    "\n",
    "        # Инициализация весов эмбеддингов для лучшего обучения\n",
    "        self.center_embeddings.weight.data.uniform_(-1, 1)\n",
    "        self.context_embeddings.weight.data.uniform_(-1, 1)\n",
    "\n",
    "    def forward(self, center_words, pos_context_words, neg_context_words):\n",
    "        # Извлечение эмбеддингов для центральных слов\n",
    "        center_embeds = self.center_embeddings(center_words)  # Размер: (batch_size, embedding_dim)\n",
    "        \n",
    "        # Извлечение эмбеддингов для позитивных контекстных слов\n",
    "        pos_context_embeds = self.context_embeddings(pos_context_words)  # Размер: (batch_size, embedding_dim)\n",
    "        \n",
    "        # Извлечение эмбеддингов для негативных контекстных слов\n",
    "        neg_context_embeds = self.context_embeddings(neg_context_words)  # Размер: (batch_size, num_negatives, embedding_dim)\n",
    "        \n",
    "        # Позитивные оценки: скалярное произведение центральных и позитивных контекстных слов\n",
    "        pos_scores = torch.mul(center_embeds, pos_context_embeds).sum(dim=1)  # Скалярное произведение (batch_size)\n",
    "        \n",
    "        # Негативные оценки: скалярное произведение центральных и негативных контекстных слов\n",
    "        neg_scores = torch.bmm(neg_context_embeds, center_embeds.unsqueeze(2)).squeeze(2)  # Размер: (batch_size, num_negatives)\n",
    "        \n",
    "        \n",
    "\n",
    "        # Возвращаем суммы позитивных и негативных оценок\n",
    "        return pos_scores, neg_scores"
   ]
  },
  {
   "cell_type": "code",
   "execution_count": 24,
   "metadata": {},
   "outputs": [
    {
     "name": "stdout",
     "output_type": "stream",
     "text": [
      "MPS (GPU) is available and will be used.\n"
     ]
    }
   ],
   "source": [
    "\n",
    "if torch.backends.mps.is_available():\n",
    "    device = torch.device(\"mps\")\n",
    "    print(\"MPS (GPU) is available and will be used.\")\n",
    "else:\n",
    "    device = torch.device(\"cpu\")\n",
    "    print(\"MPS is not available, using CPU.\")"
   ]
  },
  {
   "cell_type": "code",
   "execution_count": 25,
   "metadata": {},
   "outputs": [],
   "source": [
    "vocab_size = len(word_to_index)\n",
    "embedding_dim = 32\n",
    "num_negatives = 15\n",
    "\n",
    "model = SkipGramModelWithNegSampling(vocab_size, embedding_dim).to(device)\n",
    "optimizer = optim.Adam(model.parameters(), lr=0.05)\n",
    "lr_scheduler = ReduceLROnPlateau(optimizer, factor=0.5, patience=150)\n",
    "criterion = nn.BCEWithLogitsLoss()"
   ]
  },
  {
   "cell_type": "code",
   "execution_count": 26,
   "metadata": {},
   "outputs": [],
   "source": [
    "params_counter = 0\n",
    "for weights in model.parameters():\n",
    "    params_counter += weights.shape.numel()\n",
    "assert params_counter == len(word_to_index) * embedding_dim * 2"
   ]
  },
  {
   "cell_type": "code",
   "execution_count": 27,
   "metadata": {},
   "outputs": [],
   "source": [
    "def train_skipgram_with_neg_sampling(\n",
    "    model,\n",
    "    context_pairs,\n",
    "    keep_prob_array,\n",
    "    word_to_index,\n",
    "    batch_size,\n",
    "    num_negatives,\n",
    "    negative_sampling_prob_array,\n",
    "    steps,\n",
    "    optimizer=optimizer,\n",
    "    lr_scheduler=lr_scheduler,\n",
    "    device=device,\n",
    "):\n",
    "    pos_labels = torch.ones(batch_size,1).to(device)\n",
    "    neg_labels = torch.zeros(batch_size, num_negatives).to(device)\n",
    "    loss_history = []\n",
    "    for step in tqdma(range(steps)):\n",
    "        batch, neg_samples = generate_batch_with_neg_samples(\n",
    "            context_pairs,\n",
    "            batch_size,\n",
    "            keep_prob_array,\n",
    "            word_to_index,\n",
    "            num_negatives,\n",
    "            negative_sampling_prob_array,\n",
    "        )\n",
    "        center_words = torch.tensor([pair[0] for pair in batch], dtype=torch.long).to(\n",
    "            device\n",
    "        )\n",
    "        pos_context_words = torch.tensor(\n",
    "            [pair[1] for pair in batch], dtype=torch.long\n",
    "        ).to(device)\n",
    "        neg_context_words = torch.tensor(neg_samples, dtype=torch.long).to(device)\n",
    "\n",
    "        optimizer.zero_grad()\n",
    "        pos_scores, neg_scores = model(\n",
    "            center_words, pos_context_words, neg_context_words\n",
    "        )\n",
    "\n",
    "        loss_pos = criterion(pos_scores, pos_labels.squeeze(1))\n",
    "        loss_neg = criterion(neg_scores, neg_labels)\n",
    "\n",
    "        loss = loss_pos + loss_neg\n",
    "        loss.backward()\n",
    "        optimizer.step()\n",
    "\n",
    "        loss_history.append(loss.item())\n",
    "        lr_scheduler.step(loss_history[-1])\n",
    "\n",
    "        if step % 100 == 0:\n",
    "            print(\n",
    "                f\"Step {step}, Loss: {np.mean(loss_history[-100:])}, learning rate: {lr_scheduler._last_lr}\"\n",
    "            )"
   ]
  },
  {
   "cell_type": "code",
   "execution_count": 29,
   "metadata": {},
   "outputs": [
    {
     "data": {
      "application/vnd.jupyter.widget-view+json": {
       "model_id": "f9fccce6420642769fb23f9e175b5396",
       "version_major": 2,
       "version_minor": 0
      },
      "text/plain": [
       "  0%|          | 0/2500 [00:00<?, ?it/s]"
      ]
     },
     "metadata": {},
     "output_type": "display_data"
    },
    {
     "name": "stdout",
     "output_type": "stream",
     "text": [
      "Step 0, Loss: 1.339148759841919, learning rate: [0.0015625]\n",
      "Step 100, Loss: 1.2861972427368165, learning rate: [0.0015625]\n",
      "Step 200, Loss: 1.2868422281742096, learning rate: [0.00078125]\n",
      "Step 300, Loss: 1.2875023865699768, learning rate: [0.000390625]\n",
      "Step 400, Loss: 1.2849730908870698, learning rate: [0.000390625]\n",
      "Step 500, Loss: 1.28889946103096, learning rate: [0.0001953125]\n",
      "Step 600, Loss: 1.2836707329750061, learning rate: [9.765625e-05]\n",
      "Step 700, Loss: 1.2845692312717438, learning rate: [9.765625e-05]\n",
      "Step 800, Loss: 1.2882831704616546, learning rate: [4.8828125e-05]\n",
      "Step 900, Loss: 1.281873059272766, learning rate: [2.44140625e-05]\n",
      "Step 1000, Loss: 1.2833228766918183, learning rate: [2.44140625e-05]\n",
      "Step 1100, Loss: 1.2842231333255767, learning rate: [1.220703125e-05]\n",
      "Step 1200, Loss: 1.2840034353733063, learning rate: [6.103515625e-06]\n",
      "Step 1300, Loss: 1.2860900330543519, learning rate: [6.103515625e-06]\n",
      "Step 1400, Loss: 1.2837941896915437, learning rate: [3.0517578125e-06]\n",
      "Step 1500, Loss: 1.2891847884654999, learning rate: [1.52587890625e-06]\n",
      "Step 1600, Loss: 1.2929875004291533, learning rate: [1.52587890625e-06]\n",
      "Step 1700, Loss: 1.2805826354026795, learning rate: [7.62939453125e-07]\n",
      "Step 1800, Loss: 1.2868631434440614, learning rate: [3.814697265625e-07]\n",
      "Step 1900, Loss: 1.2837215435504914, learning rate: [3.814697265625e-07]\n",
      "Step 2000, Loss: 1.285074657201767, learning rate: [1.9073486328125e-07]\n",
      "Step 2100, Loss: 1.2880458331108093, learning rate: [9.5367431640625e-08]\n",
      "Step 2200, Loss: 1.2846349358558655, learning rate: [9.5367431640625e-08]\n",
      "Step 2300, Loss: 1.280845696926117, learning rate: [4.76837158203125e-08]\n",
      "Step 2400, Loss: 1.2883419907093048, learning rate: [2.384185791015625e-08]\n"
     ]
    }
   ],
   "source": [
    "steps = 2500\n",
    "batch_size = 512\n",
    "train_skipgram_with_neg_sampling(\n",
    "    model,\n",
    "    context_pairs,\n",
    "    keep_prob_array,\n",
    "    word_to_index,\n",
    "    batch_size,\n",
    "    num_negatives,\n",
    "    negative_sampling_prob_array,\n",
    "    steps,\n",
    ")"
   ]
  },
  {
   "cell_type": "markdown",
   "metadata": {},
   "source": [
    "Наконец, используйте полученную матрицу весов в качестве матрицы в векторными представлениями слов. Рекомендуем использовать для сдачи матрицу, которая отвечала за слова из контекста (т.е. декодера)."
   ]
  },
  {
   "cell_type": "code",
   "execution_count": 30,
   "metadata": {},
   "outputs": [],
   "source": [
    "_model_parameters = model.parameters()\n",
    "embedding_matrix_center = next(\n",
    "    _model_parameters\n",
    ").detach()  # Assuming that first matrix was for central word\n",
    "embedding_matrix_context = next(\n",
    "    _model_parameters\n",
    ").detach()  # Assuming that second matrix was for context word"
   ]
  },
  {
   "cell_type": "code",
   "execution_count": 60,
   "metadata": {},
   "outputs": [
    {
     "data": {
      "text/plain": [
       "torch.Size([28546, 32])"
      ]
     },
     "execution_count": 60,
     "metadata": {},
     "output_type": "execute_result"
    }
   ],
   "source": []
  },
  {
   "cell_type": "code",
   "execution_count": 31,
   "metadata": {},
   "outputs": [],
   "source": [
    "def get_word_vector(word, embedding_matrix, word_to_index=word_to_index):\n",
    "    return embedding_matrix[word_to_index[word]]"
   ]
  },
  {
   "cell_type": "markdown",
   "metadata": {},
   "source": [
    "Простые проверки:"
   ]
  },
  {
   "cell_type": "code",
   "execution_count": 32,
   "metadata": {},
   "outputs": [],
   "source": [
    "similarity_1 = F.cosine_similarity(\n",
    "    get_word_vector(\"iphone\", embedding_matrix_context)[None, :],\n",
    "    get_word_vector(\"apple\", embedding_matrix_context)[None, :],\n",
    ")\n",
    "similarity_2 = F.cosine_similarity(\n",
    "    get_word_vector(\"iphone\", embedding_matrix_context)[None, :],\n",
    "    get_word_vector(\"dell\", embedding_matrix_context)[None, :],\n",
    ")\n",
    "assert similarity_1 > similarity_2"
   ]
  },
  {
   "cell_type": "code",
   "execution_count": 33,
   "metadata": {},
   "outputs": [],
   "source": [
    "similarity_1 = F.cosine_similarity(\n",
    "    get_word_vector(\"windows\", embedding_matrix_context)[None, :],\n",
    "    get_word_vector(\"laptop\", embedding_matrix_context)[None, :],\n",
    ")\n",
    "similarity_2 = F.cosine_similarity(\n",
    "    get_word_vector(\"windows\", embedding_matrix_context)[None, :],\n",
    "    get_word_vector(\"macbook\", embedding_matrix_context)[None, :],\n",
    ")\n",
    "assert similarity_1 > similarity_2"
   ]
  },
  {
   "cell_type": "code",
   "execution_count": 36,
   "metadata": {},
   "outputs": [
    {
     "data": {
      "text/plain": [
       "SkipGramModelWithNegSampling(\n",
       "  (center_embeddings): Embedding(28546, 32)\n",
       "  (context_embeddings): Embedding(28546, 32)\n",
       ")"
      ]
     },
     "execution_count": 36,
     "metadata": {},
     "output_type": "execute_result"
    }
   ],
   "source": [
    "model.to('cpu')"
   ]
  },
  {
   "cell_type": "markdown",
   "metadata": {},
   "source": [
    "Наконец, взглянем на ближайшие по косинусной мере слова. Функция реализована ниже."
   ]
  },
  {
   "cell_type": "code",
   "execution_count": 39,
   "metadata": {
    "id": "dA0V6rOYtsLk"
   },
   "outputs": [],
   "source": [
    "def find_nearest(word, embedding_matrix, word_to_index=word_to_index, k=10):\n",
    "    word_vector = get_word_vector(word, embedding_matrix)[None, :]\n",
    "    dists = F.cosine_similarity(embedding_matrix, word_vector)\n",
    "    index_sorted = torch.argsort(dists)\n",
    "    top_k = index_sorted[-k:]\n",
    "    return [(index_to_word[x], dists[x].cpu().item()) for x in top_k.numpy()]"
   ]
  },
  {
   "cell_type": "code",
   "execution_count": 41,
   "metadata": {},
   "outputs": [],
   "source": [
    "def find_nearest(word, embedding_matrix, word_to_index=word_to_index, k=10):\n",
    "    # Получаем вектор для слова\n",
    "    word_vector = get_word_vector(word, embedding_matrix)[None, :]\n",
    "    \n",
    "    # Вычисляем косинусное сходство\n",
    "    dists = F.cosine_similarity(embedding_matrix, word_vector)\n",
    "    \n",
    "    # Сортируем индексы по косинусной близости\n",
    "    index_sorted = torch.argsort(dists)\n",
    "    \n",
    "    # Выбираем топ-k ближайших слов\n",
    "    top_k = index_sorted[-k:]\n",
    "    \n",
    "    # Переносим индексы и дистанции на CPU, чтобы использовать numpy\n",
    "    return [(index_to_word[x.item()], dists[x].cpu().item()) for x in top_k]"
   ]
  },
  {
   "cell_type": "code",
   "execution_count": 42,
   "metadata": {},
   "outputs": [
    {
     "data": {
      "text/plain": [
       "[('software', 0.6216959357261658),\n",
       " ('web', 0.6231594085693359),\n",
       " ('jee', 0.6331824660301208),\n",
       " ('calves', 0.6525112390518188),\n",
       " ('institutes', 0.6585817337036133),\n",
       " ('keyword', 0.6836490631103516),\n",
       " ('colleges', 0.6916864514350891),\n",
       " ('kosovo', 0.704093337059021),\n",
       " ('institute', 0.7367985248565674),\n",
       " ('python', 1.0)]"
      ]
     },
     "execution_count": 42,
     "metadata": {},
     "output_type": "execute_result"
    }
   ],
   "source": [
    "find_nearest(\"python\", embedding_matrix_context, k=10)"
   ]
  },
  {
   "cell_type": "markdown",
   "metadata": {},
   "source": [
    "Также вы можете визуально проверить, как представлены в латентном пространстве часто встречающиеся слова."
   ]
  },
  {
   "cell_type": "code",
   "execution_count": 43,
   "metadata": {},
   "outputs": [],
   "source": [
    "top_k = 5000\n",
    "_top_words = sorted([x for x in word_count_dict.items()], key=lambda x: x[1])[\n",
    "    -top_k - 100 : -100\n",
    "]  # ignoring 100 most frequent words\n",
    "top_words = [x[0] for x in _top_words]\n",
    "del _top_words"
   ]
  },
  {
   "cell_type": "code",
   "execution_count": 48,
   "metadata": {},
   "outputs": [],
   "source": [
    "word_embeddings = torch.cat(\n",
    "    [embedding_matrix_context[word_to_index[x]][None, :].cpu() for x in top_words], dim=0\n",
    ").numpy()"
   ]
  },
  {
   "cell_type": "code",
   "execution_count": 49,
   "metadata": {},
   "outputs": [
    {
     "data": {
      "text/html": [
       "    <style>\n",
       "        .bk-notebook-logo {\n",
       "            display: block;\n",
       "            width: 20px;\n",
       "            height: 20px;\n",
       "            background-image: url(data:image/png;base64,iVBORw0KGgoAAAANSUhEUgAAABQAAAAUCAYAAACNiR0NAAAABHNCSVQICAgIfAhkiAAAAAlwSFlzAAALEgAACxIB0t1+/AAAABx0RVh0U29mdHdhcmUAQWRvYmUgRmlyZXdvcmtzIENTNui8sowAAAOkSURBVDiNjZRtaJVlGMd/1/08zzln5zjP1LWcU9N0NkN8m2CYjpgQYQXqSs0I84OLIC0hkEKoPtiH3gmKoiJDU7QpLgoLjLIQCpEsNJ1vqUOdO7ppbuec5+V+rj4ctwzd8IIbbi6u+8f1539dt3A78eXC7QizUF7gyV1fD1Yqg4JWz84yffhm0qkFqBogB9rM8tZdtwVsPUhWhGcFJngGeWrPzHm5oaMmkfEg1usvLFyc8jLRqDOMru7AyC8saQr7GG7f5fvDeH7Ej8CM66nIF+8yngt6HWaKh7k49Soy9nXurCi1o3qUbS3zWfrYeQDTB/Qj6kX6Ybhw4B+bOYoLKCC9H3Nu/leUTZ1JdRWkkn2ldcCamzrcf47KKXdAJllSlxAOkRgyHsGC/zRday5Qld9DyoM4/q/rUoy/CXh3jzOu3bHUVZeU+DEn8FInkPBFlu3+nW3Nw0mk6vCDiWg8CeJaxEwuHS3+z5RgY+YBR6V1Z1nxSOfoaPa4LASWxxdNp+VWTk7+4vzaou8v8PN+xo+KY2xsw6une2frhw05CTYOmQvsEhjhWjn0bmXPjpE1+kplmmkP3suftwTubK9Vq22qKmrBhpY4jvd5afdRA3wGjFAgcnTK2s4hY0/GPNIb0nErGMCRxWOOX64Z8RAC4oCXdklmEvcL8o0BfkNK4lUg9HTl+oPlQxdNo3Mg4Nv175e/1LDGzZen30MEjRUtmXSfiTVu1kK8W4txyV6BMKlbgk3lMwYCiusNy9fVfvvwMxv8Ynl6vxoByANLTWplvuj/nF9m2+PDtt1eiHPBr1oIfhCChQMBw6Aw0UulqTKZdfVvfG7VcfIqLG9bcldL/+pdWTLxLUy8Qq38heUIjh4XlzZxzQm19lLFlr8vdQ97rjZVOLf8nclzckbcD4wxXMidpX30sFd37Fv/GtwwhzhxGVAprjbg0gCAEeIgwCZyTV2Z1REEW8O4py0wsjeloKoMr6iCY6dP92H6Vw/oTyICIthibxjm/DfN9lVz8IqtqKYLUXfoKVMVQVVJOElGjrnnUt9T9wbgp8AyYKaGlqingHZU/uG2NTZSVqwHQTWkx9hxjkpWDaCg6Ckj5qebgBVbT3V3NNXMSiWSDdGV3hrtzla7J+duwPOToIg42ChPQOQjspnSlp1V+Gjdged7+8UN5CRAV7a5EdFNwCjEaBR27b3W890TE7g24NAP/mMDXRWrGoFPQI9ls/MWO2dWFAar/xcOIImbbpA3zgAAAABJRU5ErkJggg==);\n",
       "        }\n",
       "    </style>\n",
       "    <div>\n",
       "        <a href=\"https://bokeh.org\" target=\"_blank\" class=\"bk-notebook-logo\"></a>\n",
       "        <span id=\"f498b98c-a2d1-461d-9cdf-8d0fccd2d5df\">Loading BokehJS ...</span>\n",
       "    </div>\n"
      ]
     },
     "metadata": {},
     "output_type": "display_data"
    },
    {
     "data": {
      "application/javascript": "'use strict';\n(function(root) {\n  function now() {\n    return new Date();\n  }\n\n  const force = true;\n\n  if (typeof root._bokeh_onload_callbacks === \"undefined\" || force === true) {\n    root._bokeh_onload_callbacks = [];\n    root._bokeh_is_loading = undefined;\n  }\n\nconst JS_MIME_TYPE = 'application/javascript';\n  const HTML_MIME_TYPE = 'text/html';\n  const EXEC_MIME_TYPE = 'application/vnd.bokehjs_exec.v0+json';\n  const CLASS_NAME = 'output_bokeh rendered_html';\n\n  /**\n   * Render data to the DOM node\n   */\n  function render(props, node) {\n    const script = document.createElement(\"script\");\n    node.appendChild(script);\n  }\n\n  /**\n   * Handle when an output is cleared or removed\n   */\n  function handleClearOutput(event, handle) {\n    function drop(id) {\n      const view = Bokeh.index.get_by_id(id)\n      if (view != null) {\n        view.model.document.clear()\n        Bokeh.index.delete(view)\n      }\n    }\n\n    const cell = handle.cell;\n\n    const id = cell.output_area._bokeh_element_id;\n    const server_id = cell.output_area._bokeh_server_id;\n\n    // Clean up Bokeh references\n    if (id != null) {\n      drop(id)\n    }\n\n    if (server_id !== undefined) {\n      // Clean up Bokeh references\n      const cmd_clean = \"from bokeh.io.state import curstate; print(curstate().uuid_to_server['\" + server_id + \"'].get_sessions()[0].document.roots[0]._id)\";\n      cell.notebook.kernel.execute(cmd_clean, {\n        iopub: {\n          output: function(msg) {\n            const id = msg.content.text.trim()\n            drop(id)\n          }\n        }\n      });\n      // Destroy server and session\n      const cmd_destroy = \"import bokeh.io.notebook as ion; ion.destroy_server('\" + server_id + \"')\";\n      cell.notebook.kernel.execute(cmd_destroy);\n    }\n  }\n\n  /**\n   * Handle when a new output is added\n   */\n  function handleAddOutput(event, handle) {\n    const output_area = handle.output_area;\n    const output = handle.output;\n\n    // limit handleAddOutput to display_data with EXEC_MIME_TYPE content only\n    if ((output.output_type != \"display_data\") || (!Object.prototype.hasOwnProperty.call(output.data, EXEC_MIME_TYPE))) {\n      return\n    }\n\n    const toinsert = output_area.element.find(\".\" + CLASS_NAME.split(' ')[0]);\n\n    if (output.metadata[EXEC_MIME_TYPE][\"id\"] !== undefined) {\n      toinsert[toinsert.length - 1].firstChild.textContent = output.data[JS_MIME_TYPE];\n      // store reference to embed id on output_area\n      output_area._bokeh_element_id = output.metadata[EXEC_MIME_TYPE][\"id\"];\n    }\n    if (output.metadata[EXEC_MIME_TYPE][\"server_id\"] !== undefined) {\n      const bk_div = document.createElement(\"div\");\n      bk_div.innerHTML = output.data[HTML_MIME_TYPE];\n      const script_attrs = bk_div.children[0].attributes;\n      for (let i = 0; i < script_attrs.length; i++) {\n        toinsert[toinsert.length - 1].firstChild.setAttribute(script_attrs[i].name, script_attrs[i].value);\n        toinsert[toinsert.length - 1].firstChild.textContent = bk_div.children[0].textContent\n      }\n      // store reference to server id on output_area\n      output_area._bokeh_server_id = output.metadata[EXEC_MIME_TYPE][\"server_id\"];\n    }\n  }\n\n  function register_renderer(events, OutputArea) {\n\n    function append_mime(data, metadata, element) {\n      // create a DOM node to render to\n      const toinsert = this.create_output_subarea(\n        metadata,\n        CLASS_NAME,\n        EXEC_MIME_TYPE\n      );\n      this.keyboard_manager.register_events(toinsert);\n      // Render to node\n      const props = {data: data, metadata: metadata[EXEC_MIME_TYPE]};\n      render(props, toinsert[toinsert.length - 1]);\n      element.append(toinsert);\n      return toinsert\n    }\n\n    /* Handle when an output is cleared or removed */\n    events.on('clear_output.CodeCell', handleClearOutput);\n    events.on('delete.Cell', handleClearOutput);\n\n    /* Handle when a new output is added */\n    events.on('output_added.OutputArea', handleAddOutput);\n\n    /**\n     * Register the mime type and append_mime function with output_area\n     */\n    OutputArea.prototype.register_mime_type(EXEC_MIME_TYPE, append_mime, {\n      /* Is output safe? */\n      safe: true,\n      /* Index of renderer in `output_area.display_order` */\n      index: 0\n    });\n  }\n\n  // register the mime type if in Jupyter Notebook environment and previously unregistered\n  if (root.Jupyter !== undefined) {\n    const events = require('base/js/events');\n    const OutputArea = require('notebook/js/outputarea').OutputArea;\n\n    if (OutputArea.prototype.mime_types().indexOf(EXEC_MIME_TYPE) == -1) {\n      register_renderer(events, OutputArea);\n    }\n  }\n  if (typeof (root._bokeh_timeout) === \"undefined\" || force === true) {\n    root._bokeh_timeout = Date.now() + 5000;\n    root._bokeh_failed_load = false;\n  }\n\n  const NB_LOAD_WARNING = {'data': {'text/html':\n     \"<div style='background-color: #fdd'>\\n\"+\n     \"<p>\\n\"+\n     \"BokehJS does not appear to have successfully loaded. If loading BokehJS from CDN, this \\n\"+\n     \"may be due to a slow or bad network connection. Possible fixes:\\n\"+\n     \"</p>\\n\"+\n     \"<ul>\\n\"+\n     \"<li>re-rerun `output_notebook()` to attempt to load from CDN again, or</li>\\n\"+\n     \"<li>use INLINE resources instead, as so:</li>\\n\"+\n     \"</ul>\\n\"+\n     \"<code>\\n\"+\n     \"from bokeh.resources import INLINE\\n\"+\n     \"output_notebook(resources=INLINE)\\n\"+\n     \"</code>\\n\"+\n     \"</div>\"}};\n\n  function display_loaded(error = null) {\n    const el = document.getElementById(\"f498b98c-a2d1-461d-9cdf-8d0fccd2d5df\");\n    if (el != null) {\n      const html = (() => {\n        if (typeof root.Bokeh === \"undefined\") {\n          if (error == null) {\n            return \"BokehJS is loading ...\";\n          } else {\n            return \"BokehJS failed to load.\";\n          }\n        } else {\n          const prefix = `BokehJS ${root.Bokeh.version}`;\n          if (error == null) {\n            return `${prefix} successfully loaded.`;\n          } else {\n            return `${prefix} <b>encountered errors</b> while loading and may not function as expected.`;\n          }\n        }\n      })();\n      el.innerHTML = html;\n\n      if (error != null) {\n        const wrapper = document.createElement(\"div\");\n        wrapper.style.overflow = \"auto\";\n        wrapper.style.height = \"5em\";\n        wrapper.style.resize = \"vertical\";\n        const content = document.createElement(\"div\");\n        content.style.fontFamily = \"monospace\";\n        content.style.whiteSpace = \"pre-wrap\";\n        content.style.backgroundColor = \"rgb(255, 221, 221)\";\n        content.textContent = error.stack ?? error.toString();\n        wrapper.append(content);\n        el.append(wrapper);\n      }\n    } else if (Date.now() < root._bokeh_timeout) {\n      setTimeout(() => display_loaded(error), 100);\n    }\n  }\n\n  function run_callbacks() {\n    try {\n      root._bokeh_onload_callbacks.forEach(function(callback) {\n        if (callback != null)\n          callback();\n      });\n    } finally {\n      delete root._bokeh_onload_callbacks\n    }\n    console.debug(\"Bokeh: all callbacks have finished\");\n  }\n\n  function load_libs(css_urls, js_urls, callback) {\n    if (css_urls == null) css_urls = [];\n    if (js_urls == null) js_urls = [];\n\n    root._bokeh_onload_callbacks.push(callback);\n    if (root._bokeh_is_loading > 0) {\n      console.debug(\"Bokeh: BokehJS is being loaded, scheduling callback at\", now());\n      return null;\n    }\n    if (js_urls == null || js_urls.length === 0) {\n      run_callbacks();\n      return null;\n    }\n    console.debug(\"Bokeh: BokehJS not loaded, scheduling load and callback at\", now());\n    root._bokeh_is_loading = css_urls.length + js_urls.length;\n\n    function on_load() {\n      root._bokeh_is_loading--;\n      if (root._bokeh_is_loading === 0) {\n        console.debug(\"Bokeh: all BokehJS libraries/stylesheets loaded\");\n        run_callbacks()\n      }\n    }\n\n    function on_error(url) {\n      console.error(\"failed to load \" + url);\n    }\n\n    for (let i = 0; i < css_urls.length; i++) {\n      const url = css_urls[i];\n      const element = document.createElement(\"link\");\n      element.onload = on_load;\n      element.onerror = on_error.bind(null, url);\n      element.rel = \"stylesheet\";\n      element.type = \"text/css\";\n      element.href = url;\n      console.debug(\"Bokeh: injecting link tag for BokehJS stylesheet: \", url);\n      document.body.appendChild(element);\n    }\n\n    for (let i = 0; i < js_urls.length; i++) {\n      const url = js_urls[i];\n      const element = document.createElement('script');\n      element.onload = on_load;\n      element.onerror = on_error.bind(null, url);\n      element.async = false;\n      element.src = url;\n      console.debug(\"Bokeh: injecting script tag for BokehJS library: \", url);\n      document.head.appendChild(element);\n    }\n  };\n\n  function inject_raw_css(css) {\n    const element = document.createElement(\"style\");\n    element.appendChild(document.createTextNode(css));\n    document.body.appendChild(element);\n  }\n\n  const js_urls = [\"https://cdn.bokeh.org/bokeh/release/bokeh-3.6.0.min.js\", \"https://cdn.bokeh.org/bokeh/release/bokeh-gl-3.6.0.min.js\", \"https://cdn.bokeh.org/bokeh/release/bokeh-widgets-3.6.0.min.js\", \"https://cdn.bokeh.org/bokeh/release/bokeh-tables-3.6.0.min.js\", \"https://cdn.bokeh.org/bokeh/release/bokeh-mathjax-3.6.0.min.js\"];\n  const css_urls = [];\n\n  const inline_js = [    function(Bokeh) {\n      Bokeh.set_log_level(\"info\");\n    },\nfunction(Bokeh) {\n    }\n  ];\n\n  function run_inline_js() {\n    if (root.Bokeh !== undefined || force === true) {\n      try {\n            for (let i = 0; i < inline_js.length; i++) {\n      inline_js[i].call(root, root.Bokeh);\n    }\n\n      } catch (error) {display_loaded(error);throw error;\n      }if (force === true) {\n        display_loaded();\n      }} else if (Date.now() < root._bokeh_timeout) {\n      setTimeout(run_inline_js, 100);\n    } else if (!root._bokeh_failed_load) {\n      console.log(\"Bokeh: BokehJS failed to load within specified timeout.\");\n      root._bokeh_failed_load = true;\n    } else if (force !== true) {\n      const cell = $(document.getElementById(\"f498b98c-a2d1-461d-9cdf-8d0fccd2d5df\")).parents('.cell').data().cell;\n      cell.output_area.append_execute_result(NB_LOAD_WARNING)\n    }\n  }\n\n  if (root._bokeh_is_loading === 0) {\n    console.debug(\"Bokeh: BokehJS loaded, going straight to plotting\");\n    run_inline_js();\n  } else {\n    load_libs(css_urls, js_urls, function() {\n      console.debug(\"Bokeh: BokehJS plotting callback run at\", now());\n      run_inline_js();\n    });\n  }\n}(window));",
      "application/vnd.bokehjs_load.v0+json": ""
     },
     "metadata": {},
     "output_type": "display_data"
    }
   ],
   "source": [
    "import bokeh.models as bm\n",
    "import bokeh.plotting as pl\n",
    "from bokeh.io import output_notebook\n",
    "\n",
    "output_notebook()\n",
    "\n",
    "\n",
    "def draw_vectors(\n",
    "    x,\n",
    "    y,\n",
    "    radius=10,\n",
    "    alpha=0.25,\n",
    "    color=\"blue\",\n",
    "    width=600,\n",
    "    height=400,\n",
    "    show=True,\n",
    "    **kwargs,\n",
    "):\n",
    "    \"\"\"draws an interactive plot for data points with auxilirary info on hover\"\"\"\n",
    "    if isinstance(color, str):\n",
    "        color = [color] * len(x)\n",
    "    data_source = bm.ColumnDataSource({\"x\": x, \"y\": y, \"color\": color, **kwargs})\n",
    "\n",
    "    fig = pl.figure(active_scroll=\"wheel_zoom\", width=width, height=height)\n",
    "    fig.scatter(\"x\", \"y\", size=radius, color=\"color\", alpha=alpha, source=data_source)\n",
    "\n",
    "    fig.add_tools(bm.HoverTool(tooltips=[(key, \"@\" + key) for key in kwargs.keys()]))\n",
    "    if show:\n",
    "        pl.show(fig)\n",
    "    return fig"
   ]
  },
  {
   "cell_type": "code",
   "execution_count": 50,
   "metadata": {},
   "outputs": [
    {
     "name": "stderr",
     "output_type": "stream",
     "text": [
      "OMP: Info #276: omp_set_nested routine deprecated, please use omp_set_max_active_levels instead.\n"
     ]
    }
   ],
   "source": [
    "import umap.umap_ as umap\n",
    "embedding = umap.UMAP(n_neighbors=5).fit_transform(word_embeddings)"
   ]
  },
  {
   "cell_type": "code",
   "execution_count": null,
   "metadata": {},
   "outputs": [],
   "source": []
  },
  {
   "cell_type": "code",
   "execution_count": 51,
   "metadata": {},
   "outputs": [
    {
     "data": {
      "text/html": [
       "\n",
       "  <div id=\"d0c145b4-daad-4b2d-b264-2fe7c2fdd611\" data-root-id=\"p1004\" style=\"display: contents;\"></div>\n"
      ]
     },
     "metadata": {},
     "output_type": "display_data"
    },
    {
     "data": {
      "application/javascript": "(function(root) {\n  function embed_document(root) {\n  const docs_json = {\"d1efe43d-06d8-4458-b9f8-088eaa58137b\":{\"version\":\"3.6.0\",\"title\":\"Bokeh Application\",\"roots\":[{\"type\":\"object\",\"name\":\"Figure\",\"id\":\"p1004\",\"attributes\":{\"height\":400,\"x_range\":{\"type\":\"object\",\"name\":\"DataRange1d\",\"id\":\"p1005\"},\"y_range\":{\"type\":\"object\",\"name\":\"DataRange1d\",\"id\":\"p1006\"},\"x_scale\":{\"type\":\"object\",\"name\":\"LinearScale\",\"id\":\"p1013\"},\"y_scale\":{\"type\":\"object\",\"name\":\"LinearScale\",\"id\":\"p1014\"},\"title\":{\"type\":\"object\",\"name\":\"Title\",\"id\":\"p1011\"},\"renderers\":[{\"type\":\"object\",\"name\":\"GlyphRenderer\",\"id\":\"p1044\",\"attributes\":{\"data_source\":{\"type\":\"object\",\"name\":\"ColumnDataSource\",\"id\":\"p1001\",\"attributes\":{\"selected\":{\"type\":\"object\",\"name\":\"Selection\",\"id\":\"p1002\",\"attributes\":{\"indices\":[],\"line_indices\":[]}},\"selection_policy\":{\"type\":\"object\",\"name\":\"UnionRenderers\",\"id\":\"p1003\"},\"data\":{\"type\":\"map\",\"entries\":[[\"x\",{\"type\":\"ndarray\",\"array\":{\"type\":\"bytes\",\"data\":\"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\"},\"shape\":[5000],\"dtype\":\"float32\",\"order\":\"little\"}],[\"y\",{\"type\":\"ndarray\",\"array\":{\"type\":\"bytes\",\"data\":\"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\"},\"shape\":[5000],\"dtype\":\"float32\",\"order\":\"little\"}],[\"color\",[\"blue\",\"blue\",\"blue\",\"blue\",\"blue\",\"blue\",\"blue\",\"blue\",\"blue\",\"blue\",\"blue\",\"blue\",\"blue\",\"blue\",\"blue\",\"blue\",\"blue\",\"blue\",\"blue\",\"blue\",\"blue\",\"blue\",\"blue\",\"blue\",\"blue\",\"blue\",\"blue\",\"blue\",\"blue\",\"blue\",\"blue\",\"blue\",\"blue\",\"blue\",\"blue\",\"blue\",\"blue\",\"blue\",\"blue\",\"blue\",\"blue\",\"blue\",\"blue\",\"blue\",\"blue\",\"blue\",\"blue\",\"blue\",\"blue\",\"blue\",\"blue\",\"blue\",\"blue\",\"blue\",\"blue\",\"blue\",\"blue\",\"blue\",\"blue\",\"blue\",\"blue\",\"blue\",\"blue\",\"blue\",\"blue\",\"blue\",\"blue\",\"blue\",\"blue\",\"blue\",\"blue\",\"blue\",\"blue\",\"blue\",\"blue\",\"blue\",\"blue\",\"blue\",\"blue\",\"blue\",\"blue\",\"blue\",\"blue\",\"blue\",\"blue\",\"blue\",\"blue\",\"blue\",\"blue\",\"blue\",\"blue\",\"blue\",\"blue\",\"blue\",\"blue\",\"blue\",\"blue\",\"blue\",\"blue\",\"blue\",\"blue\",\"blue\",\"blue\",\"blue\",\"blue\",\"blue\",\"blue\",\"blue\",\"blue\",\"blue\",\"blue\",\"blue\",\"blue\",\"blue\",\"blue\",\"blue\",\"blue\",\"blue\",\"blue\",\"blue\",\"blue\",\"blue\",\"blue\",\"blue\",\"blue\",\"blue\",\"blue\",\"blue\",\"blue\",\"blue\",\"blue\",\"blue\",\"blue\",\"blue\",\"blue\",\"blue\",\"blue\",\"blue\",\"blue\",\"blue\",\"blue\",\"blue\",\"blue\",\"blue\",\"blue\",\"blue\",\"blue\",\"blue\",\"blue\",\"blue\",\"blue\",\"blue\",\"blue\",\"blue\",\"blue\",\"blue\",\"blue\",\"blue\",\"blue\",\"blue\",\"blue\",\"blue\",\"blue\",\"blue\",\"blue\",\"blue\",\"blue\",\"blue\",\"blue\",\"blue\",\"blue\",\"blue\",\"blue\",\"blue\",\"blue\",\"blue\",\"blue\",\"blue\",\"blue\",\"blue\",\"blue\",\"blue\",\"blue\",\"blue\",\"blue\",\"blue\",\"blue\",\"blue\",\"blue\",\"blue\",\"blue\",\"blue\",\"blue\",\"blue\",\"blue\",\"blue\",\"blue\",\"blue\",\"blue\",\"blue\",\"blue\",\"blue\",\"blue\",\"blue\",\"blue\",\"blue\",\"blue\",\"blue\",\"blue\",\"blue\",\"blue\",\"blue\",\"blue\",\"blue\",\"blue\",\"blue\",\"blue\",\"blue\",\"blue\",\"blue\",\"blue\",\"blue\",\"blue\",\"blue\",\"blue\",\"blue\",\"blue\",\"blue\",\"blue\",\"blue\",\"blue\",\"blue\",\"blue\",\"blue\",\"blue\",\"blue\",\"blue\",\"blue\",\"blue\",\"blue\",\"blue\",\"blue\",\"blue\",\"blue\",\"blue\",\"blue\",\"blue\",\"blue\",\"blue\",\"blue\",\"blue\",\"blue\",\"blue\",\"blue\",\"blue\",\"blue\",\"blue\",\"blue\",\"blue\",\"blue\",\"blue\",\"blue\",\"blue\",\"blue\",\"blue\",\"blue\",\"blue\",\"blue\",\"blue\",\"blue\",\"blue\",\"blue\",\"blue\",\"blue\",\"blue\",\"blue\",\"blue\",\"blue\",\"blue\",\"blue\",\"blue\",\"blue\",\"blue\",\"blue\",\"blue\",\"blue\",\"blue\",\"blue\",\"blue\",\"blue\",\"blue\",\"blue\",\"blue\",\"blue\",\"blue\",\"blue\",\"blue\",\"blue\",\"blue\",\"blue\",\"blue\",\"blue\",\"blue\",\"blue\",\"blue\",\"blue\",\"blue\",\"blue\",\"blue\",\"blue\",\"blue\",\"blue\",\"blue\",\"blue\",\"blue\",\"blue\",\"blue\",\"blue\",\"blue\",\"blue\",\"blue\",\"blue\",\"blue\",\"blue\",\"blue\",\"blue\",\"blue\",\"blue\",\"blue\",\"blue\",\"blue\",\"blue\",\"blue\",\"blue\",\"blue\",\"blue\",\"blue\",\"blue\",\"blue\",\"blue\",\"blue\",\"blue\",\"blue\",\"blue\",\"blue\",\"blue\",\"blue\",\"blue\",\"blue\",\"blue\",\"blue\",\"blue\",\"blue\",\"blue\",\"blue\",\"blue\",\"blue\",\"blue\",\"blue\",\"blue\",\"blue\",\"blue\",\"blue\",\"blue\",\"blue\",\"blue\",\"blue\",\"blue\",\"blue\",\"blue\",\"blue\",\"blue\",\"blue\",\"blue\",\"blue\",\"blue\",\"blue\",\"blue\",\"blue\",\"blue\",\"blue\",\"blue\",\"blue\",\"blue\",\"blue\",\"blue\",\"blue\",\"blue\",\"blue\",\"blue\",\"blue\",\"blue\",\"blue\",\"blue\",\"blue\",\"blue\",\"blue\",\"blue\",\"blue\",\"blue\",\"blue\",\"blue\",\"blue\",\"blue\",\"blue\",\"blue\",\"blue\",\"blue\",\"blue\",\"blue\",\"blue\",\"blue\",\"blue\",\"blue\",\"blue\",\"blue\",\"blue\",\"blue\",\"blue\",\"blue\",\"blue\",\"blue\",\"blue\",\"blue\",\"blue\",\"blue\",\"blue\",\"blue\",\"blue\",\"blue\",\"blue\",\"blue\",\"blue\",\"blue\",\"blue\",\"blue\",\"blue\",\"blue\",\"blue\",\"blue\",\"blue\",\"blue\",\"blue\",\"blue\",\"blue\",\"blue\",\"blue\",\"blue\",\"blue\",\"blue\",\"blue\",\"blue\",\"blue\",\"blue\",\"blue\",\"blue\",\"blue\",\"blue\",\"blue\",\"blue\",\"blue\",\"blue\",\"blue\",\"blue\",\"blue\",\"blue\",\"blue\",\"blue\",\"blue\",\"blue\",\"blue\",\"blue\",\"blue\",\"blue\",\"blue\",\"blue\",\"blue\",\"blue\",\"blue\",\"blue\",\"blue\",\"blue\",\"blue\",\"blue\",\"blue\",\"blue\",\"blue\",\"blue\",\"blue\",\"blue\",\"blue\",\"blue\",\"blue\",\"blue\",\"blue\",\"blue\",\"blue\",\"blue\",\"blue\",\"blue\",\"blue\",\"blue\",\"blue\",\"blue\",\"blue\",\"blue\",\"blue\",\"blue\",\"blue\",\"blue\",\"blue\",\"blue\",\"blue\",\"blue\",\"blue\",\"blue\",\"blue\",\"blue\",\"blue\",\"blue\",\"blue\",\"blue\",\"blue\",\"blue\",\"blue\",\"blue\",\"blue\",\"blue\",\"blue\",\"blue\",\"blue\",\"blue\",\"blue\",\"blue\",\"blue\",\"blue\",\"blue\",\"blue\",\"blue\",\"blue\",\"blue\",\"blue\",\"blue\",\"blue\",\"blue\",\"blue\",\"blue\",\"blue\",\"blue\",\"blue\",\"blue\",\"blue\",\"blue\",\"blue\",\"blue\",\"blue\",\"blue\",\"blue\",\"blue\",\"blue\",\"blue\",\"blue\",\"blue\",\"blue\",\"blue\",\"blue\",\"blue\",\"blue\",\"blue\",\"blue\",\"blue\",\"blue\",\"blue\",\"blue\",\"blue\",\"blue\",\"blue\",\"blue\",\"blue\",\"blue\",\"blue\",\"blue\",\"blue\",\"blue\",\"blue\",\"blue\",\"blue\",\"blue\",\"blue\",\"blue\",\"blue\",\"blue\",\"blue\",\"blue\",\"blue\",\"blue\",\"blue\",\"blue\",\"blue\",\"blue\",\"blue\",\"blue\",\"blue\",\"blue\",\"blue\",\"blue\",\"blue\",\"blue\",\"blue\",\"blue\",\"blue\",\"blue\",\"blue\",\"blue\",\"blue\",\"blue\",\"blue\",\"blue\",\"blue\",\"blue\",\"blue\",\"blue\",\"blue\",\"blue\",\"blue\",\"blue\",\"blue\",\"blue\",\"blue\",\"blue\",\"blue\",\"blue\",\"blue\",\"blue\",\"blue\",\"blue\",\"blue\",\"blue\",\"blue\",\"blue\",\"blue\",\"blue\",\"blue\",\"blue\",\"blue\",\"blue\",\"blue\",\"blue\",\"blue\",\"blue\",\"blue\",\"blue\",\"blue\",\"blue\",\"blue\",\"blue\",\"blue\",\"blue\",\"blue\",\"blue\",\"blue\",\"blue\",\"blue\",\"blue\",\"blue\",\"blue\",\"blue\",\"blue\",\"blue\",\"blue\",\"blue\",\"blue\",\"blue\",\"blue\",\"blue\",\"blue\",\"blue\",\"blue\",\"blue\",\"blue\",\"blue\",\"blue\",\"blue\",\"blue\",\"blue\",\"blue\",\"blue\",\"blue\",\"blue\",\"blue\",\"blue\",\"blue\",\"blue\",\"blue\",\"blue\",\"blue\",\"blue\",\"blue\",\"blue\",\"blue\",\"blue\",\"blue\",\"blue\",\"blue\",\"blue\",\"blue\",\"blue\",\"blue\",\"blue\",\"blue\",\"blue\",\"blue\",\"blue\",\"blue\",\"blue\",\"blue\",\"blue\",\"blue\",\"blue\",\"blue\",\"blue\",\"blue\",\"blue\",\"blue\",\"blue\",\"blue\",\"blue\",\"blue\",\"blue\",\"blue\",\"blue\",\"blue\",\"blue\",\"blue\",\"blue\",\"blue\",\"blue\",\"blue\",\"blue\",\"blue\",\"blue\",\"blue\",\"blue\",\"blue\",\"blue\",\"blue\",\"blue\",\"blue\",\"blue\",\"blue\",\"blue\",\"blue\",\"blue\",\"blue\",\"blue\",\"blue\",\"blue\",\"blue\",\"blue\",\"blue\",\"blue\",\"blue\",\"blue\",\"blue\",\"blue\",\"blue\",\"blue\",\"blue\",\"blue\",\"blue\",\"blue\",\"blue\",\"blue\",\"blue\",\"blue\",\"blue\",\"blue\",\"blue\",\"blue\",\"blue\",\"blue\",\"blue\",\"blue\",\"blue\",\"blue\",\"blue\",\"blue\",\"blue\",\"blue\",\"blue\",\"blue\",\"blue\",\"blue\",\"blue\",\"blue\",\"blue\",\"blue\",\"blue\",\"blue\",\"blue\",\"blue\",\"blue\",\"blue\",\"blue\",\"blue\",\"blue\",\"blue\",\"blue\",\"blue\",\"blue\",\"blue\",\"blue\",\"blue\",\"blue\",\"blue\",\"blue\",\"blue\",\"blue\",\"blue\",\"blue\",\"blue\",\"blue\",\"blue\",\"blue\",\"blue\",\"blue\",\"blue\",\"blue\",\"blue\",\"blue\",\"blue\",\"blue\",\"blue\",\"blue\",\"blue\",\"blue\",\"blue\",\"blue\",\"blue\",\"blue\",\"blue\",\"blue\",\"blue\",\"blue\",\"blue\",\"blue\",\"blue\",\"blue\",\"blue\",\"blue\",\"blue\",\"blue\",\"blue\",\"blue\",\"blue\",\"blue\",\"blue\",\"blue\",\"blue\",\"blue\",\"blue\",\"blue\",\"blue\",\"blue\",\"blue\",\"blue\",\"blue\",\"blue\",\"blue\",\"blue\",\"blue\",\"blue\",\"blue\",\"blue\",\"blue\",\"blue\",\"blue\",\"blue\",\"blue\",\"blue\",\"blue\",\"blue\",\"blue\",\"blue\",\"blue\",\"blue\",\"blue\",\"blue\",\"blue\",\"blue\",\"blue\",\"blue\",\"blue\",\"blue\",\"blue\",\"blue\",\"blue\",\"blue\",\"blue\",\"blue\",\"blue\",\"blue\",\"blue\",\"blue\",\"blue\",\"blue\",\"blue\",\"blue\",\"blue\",\"blue\",\"blue\",\"blue\",\"blue\",\"blue\",\"blue\",\"blue\",\"blue\",\"blue\",\"blue\",\"blue\",\"blue\",\"blue\",\"blue\",\"blue\",\"blue\",\"blue\",\"blue\",\"blue\",\"blue\",\"blue\",\"blue\",\"blue\",\"blue\",\"blue\",\"blue\",\"blue\",\"blue\",\"blue\",\"blue\",\"blue\",\"blue\",\"blue\",\"blue\",\"blue\",\"blue\",\"blue\",\"blue\",\"blue\",\"blue\",\"blue\",\"blue\",\"blue\",\"blue\",\"blue\",\"blue\",\"blue\",\"blue\",\"blue\",\"blue\",\"blue\",\"blue\",\"blue\",\"blue\",\"blue\",\"blue\",\"blue\",\"blue\",\"blue\",\"blue\",\"blue\",\"blue\",\"blue\",\"blue\",\"blue\",\"blue\",\"blue\",\"blue\",\"blue\",\"blue\",\"blue\",\"blue\",\"blue\",\"blue\",\"blue\",\"blue\",\"blue\",\"blue\",\"blue\",\"blue\",\"blue\",\"blue\",\"blue\",\"blue\",\"blue\",\"blue\",\"blue\",\"blue\",\"blue\",\"blue\",\"blue\",\"blue\",\"blue\",\"blue\",\"blue\",\"blue\",\"blue\",\"blue\",\"blue\",\"blue\",\"blue\",\"blue\",\"blue\",\"blue\",\"blue\",\"blue\",\"blue\",\"blue\",\"blue\",\"blue\",\"blue\",\"blue\",\"blue\",\"blue\",\"blue\",\"blue\",\"blue\",\"blue\",\"blue\",\"blue\",\"blue\",\"blue\",\"blue\",\"blue\",\"blue\",\"blue\",\"blue\",\"blue\",\"blue\",\"blue\",\"blue\",\"blue\",\"blue\",\"blue\",\"blue\",\"blue\",\"blue\",\"blue\",\"blue\",\"blue\",\"blue\",\"blue\",\"blue\",\"blue\",\"blue\",\"blue\",\"blue\",\"blue\",\"blue\",\"blue\",\"blue\",\"blue\",\"blue\",\"blue\",\"blue\",\"blue\",\"blue\",\"blue\",\"blue\",\"blue\",\"blue\",\"blue\",\"blue\",\"blue\",\"blue\",\"blue\",\"blue\",\"blue\",\"blue\",\"blue\",\"blue\",\"blue\",\"blue\",\"blue\",\"blue\",\"blue\",\"blue\",\"blue\",\"blue\",\"blue\",\"blue\",\"blue\",\"blue\",\"blue\",\"blue\",\"blue\",\"blue\",\"blue\",\"blue\",\"blue\",\"blue\",\"blue\",\"blue\",\"blue\",\"blue\",\"blue\",\"blue\",\"blue\",\"blue\",\"blue\",\"blue\",\"blue\",\"blue\",\"blue\",\"blue\",\"blue\",\"blue\",\"blue\",\"blue\",\"blue\",\"blue\",\"blue\",\"blue\",\"blue\",\"blue\",\"blue\",\"blue\",\"blue\",\"blue\",\"blue\",\"blue\",\"blue\",\"blue\",\"blue\",\"blue\",\"blue\",\"blue\",\"blue\",\"blue\",\"blue\",\"blue\",\"blue\",\"blue\",\"blue\",\"blue\",\"blue\",\"blue\",\"blue\",\"blue\",\"blue\",\"blue\",\"blue\",\"blue\",\"blue\",\"blue\",\"blue\",\"blue\",\"blue\",\"blue\",\"blue\",\"blue\",\"blue\",\"blue\",\"blue\",\"blue\",\"blue\",\"blue\",\"blue\",\"blue\",\"blue\",\"blue\",\"blue\",\"blue\",\"blue\",\"blue\",\"blue\",\"blue\",\"blue\",\"blue\",\"blue\",\"blue\",\"blue\",\"blue\",\"blue\",\"blue\",\"blue\",\"blue\",\"blue\",\"blue\",\"blue\",\"blue\",\"blue\",\"blue\",\"blue\",\"blue\",\"blue\",\"blue\",\"blue\",\"blue\",\"blue\",\"blue\",\"blue\",\"blue\",\"blue\",\"blue\",\"blue\",\"blue\",\"blue\",\"blue\",\"blue\",\"blue\",\"blue\",\"blue\",\"blue\",\"blue\",\"blue\",\"blue\",\"blue\",\"blue\",\"blue\",\"blue\",\"blue\",\"blue\",\"blue\",\"blue\",\"blue\",\"blue\",\"blue\",\"blue\",\"blue\",\"blue\",\"blue\",\"blue\",\"blue\",\"blue\",\"blue\",\"blue\",\"blue\",\"blue\",\"blue\",\"blue\",\"blue\",\"blue\",\"blue\",\"blue\",\"blue\",\"blue\",\"blue\",\"blue\",\"blue\",\"blue\",\"blue\",\"blue\",\"blue\",\"blue\",\"blue\",\"blue\",\"blue\",\"blue\",\"blue\",\"blue\",\"blue\",\"blue\",\"blue\",\"blue\",\"blue\",\"blue\",\"blue\",\"blue\",\"blue\",\"blue\",\"blue\",\"blue\",\"blue\",\"blue\",\"blue\",\"blue\",\"blue\",\"blue\",\"blue\",\"blue\",\"blue\",\"blue\",\"blue\",\"blue\",\"blue\",\"blue\",\"blue\",\"blue\",\"blue\",\"blue\",\"blue\",\"blue\",\"blue\",\"blue\",\"blue\",\"blue\",\"blue\",\"blue\",\"blue\",\"blue\",\"blue\",\"blue\",\"blue\",\"blue\",\"blue\",\"blue\",\"blue\",\"blue\",\"blue\",\"blue\",\"blue\",\"blue\",\"blue\",\"blue\",\"blue\",\"blue\",\"blue\",\"blue\",\"blue\",\"blue\",\"blue\",\"blue\",\"blue\",\"blue\",\"blue\",\"blue\",\"blue\",\"blue\",\"blue\",\"blue\",\"blue\",\"blue\",\"blue\",\"blue\",\"blue\",\"blue\",\"blue\",\"blue\",\"blue\",\"blue\",\"blue\",\"blue\",\"blue\",\"blue\",\"blue\",\"blue\",\"blue\",\"blue\",\"blue\",\"blue\",\"blue\",\"blue\",\"blue\",\"blue\",\"blue\",\"blue\",\"blue\",\"blue\",\"blue\",\"blue\",\"blue\",\"blue\",\"blue\",\"blue\",\"blue\",\"blue\",\"blue\",\"blue\",\"blue\",\"blue\",\"blue\",\"blue\",\"blue\",\"blue\",\"blue\",\"blue\",\"blue\",\"blue\",\"blue\",\"blue\",\"blue\",\"blue\",\"blue\",\"blue\",\"blue\",\"blue\",\"blue\",\"blue\",\"blue\",\"blue\",\"blue\",\"blue\",\"blue\",\"blue\",\"blue\",\"blue\",\"blue\",\"blue\",\"blue\",\"blue\",\"blue\",\"blue\",\"blue\",\"blue\",\"blue\",\"blue\",\"blue\",\"blue\",\"blue\",\"blue\",\"blue\",\"blue\",\"blue\",\"blue\",\"blue\",\"blue\",\"blue\",\"blue\",\"blue\",\"blue\",\"blue\",\"blue\",\"blue\",\"blue\",\"blue\",\"blue\",\"blue\",\"blue\",\"blue\",\"blue\",\"blue\",\"blue\",\"blue\",\"blue\",\"blue\",\"blue\",\"blue\",\"blue\",\"blue\",\"blue\",\"blue\",\"blue\",\"blue\",\"blue\",\"blue\",\"blue\",\"blue\",\"blue\",\"blue\",\"blue\",\"blue\",\"blue\",\"blue\",\"blue\",\"blue\",\"blue\",\"blue\",\"blue\",\"blue\",\"blue\",\"blue\",\"blue\",\"blue\",\"blue\",\"blue\",\"blue\",\"blue\",\"blue\",\"blue\",\"blue\",\"blue\",\"blue\",\"blue\",\"blue\",\"blue\",\"blue\",\"blue\",\"blue\",\"blue\",\"blue\",\"blue\",\"blue\",\"blue\",\"blue\",\"blue\",\"blue\",\"blue\",\"blue\",\"blue\",\"blue\",\"blue\",\"blue\",\"blue\",\"blue\",\"blue\",\"blue\",\"blue\",\"blue\",\"blue\",\"blue\",\"blue\",\"blue\",\"blue\",\"blue\",\"blue\",\"blue\",\"blue\",\"blue\",\"blue\",\"blue\",\"blue\",\"blue\",\"blue\",\"blue\",\"blue\",\"blue\",\"blue\",\"blue\",\"blue\",\"blue\",\"blue\",\"blue\",\"blue\",\"blue\",\"blue\",\"blue\",\"blue\",\"blue\",\"blue\",\"blue\",\"blue\",\"blue\",\"blue\",\"blue\",\"blue\",\"blue\",\"blue\",\"blue\",\"blue\",\"blue\",\"blue\",\"blue\",\"blue\",\"blue\",\"blue\",\"blue\",\"blue\",\"blue\",\"blue\",\"blue\",\"blue\",\"blue\",\"blue\",\"blue\",\"blue\",\"blue\",\"blue\",\"blue\",\"blue\",\"blue\",\"blue\",\"blue\",\"blue\",\"blue\",\"blue\",\"blue\",\"blue\",\"blue\",\"blue\",\"blue\",\"blue\",\"blue\",\"blue\",\"blue\",\"blue\",\"blue\",\"blue\",\"blue\",\"blue\",\"blue\",\"blue\",\"blue\",\"blue\",\"blue\",\"blue\",\"blue\",\"blue\",\"blue\",\"blue\",\"blue\",\"blue\",\"blue\",\"blue\",\"blue\",\"blue\",\"blue\",\"blue\",\"blue\",\"blue\",\"blue\",\"blue\",\"blue\",\"blue\",\"blue\",\"blue\",\"blue\",\"blue\",\"blue\",\"blue\",\"blue\",\"blue\",\"blue\",\"blue\",\"blue\",\"blue\",\"blue\",\"blue\",\"blue\",\"blue\",\"blue\",\"blue\",\"blue\",\"blue\",\"blue\",\"blue\",\"blue\",\"blue\",\"blue\",\"blue\",\"blue\",\"blue\",\"blue\",\"blue\",\"blue\",\"blue\",\"blue\",\"blue\",\"blue\",\"blue\",\"blue\",\"blue\",\"blue\",\"blue\",\"blue\",\"blue\",\"blue\",\"blue\",\"blue\",\"blue\",\"blue\",\"blue\",\"blue\",\"blue\",\"blue\",\"blue\",\"blue\",\"blue\",\"blue\",\"blue\",\"blue\",\"blue\",\"blue\",\"blue\",\"blue\",\"blue\",\"blue\",\"blue\",\"blue\",\"blue\",\"blue\",\"blue\",\"blue\",\"blue\",\"blue\",\"blue\",\"blue\",\"blue\",\"blue\",\"blue\",\"blue\",\"blue\",\"blue\",\"blue\",\"blue\",\"blue\",\"blue\",\"blue\",\"blue\",\"blue\",\"blue\",\"blue\",\"blue\",\"blue\",\"blue\",\"blue\",\"blue\",\"blue\",\"blue\",\"blue\",\"blue\",\"blue\",\"blue\",\"blue\",\"blue\",\"blue\",\"blue\",\"blue\",\"blue\",\"blue\",\"blue\",\"blue\",\"blue\",\"blue\",\"blue\",\"blue\",\"blue\",\"blue\",\"blue\",\"blue\",\"blue\",\"blue\",\"blue\",\"blue\",\"blue\",\"blue\",\"blue\",\"blue\",\"blue\",\"blue\",\"blue\",\"blue\",\"blue\",\"blue\",\"blue\",\"blue\",\"blue\",\"blue\",\"blue\",\"blue\",\"blue\",\"blue\",\"blue\",\"blue\",\"blue\",\"blue\",\"blue\",\"blue\",\"blue\",\"blue\",\"blue\",\"blue\",\"blue\",\"blue\",\"blue\",\"blue\",\"blue\",\"blue\",\"blue\",\"blue\",\"blue\",\"blue\",\"blue\",\"blue\",\"blue\",\"blue\",\"blue\",\"blue\",\"blue\",\"blue\",\"blue\",\"blue\",\"blue\",\"blue\",\"blue\",\"blue\",\"blue\",\"blue\",\"blue\",\"blue\",\"blue\",\"blue\",\"blue\",\"blue\",\"blue\",\"blue\",\"blue\",\"blue\",\"blue\",\"blue\",\"blue\",\"blue\",\"blue\",\"blue\",\"blue\",\"blue\",\"blue\",\"blue\",\"blue\",\"blue\",\"blue\",\"blue\",\"blue\",\"blue\",\"blue\",\"blue\",\"blue\",\"blue\",\"blue\",\"blue\",\"blue\",\"blue\",\"blue\",\"blue\",\"blue\",\"blue\",\"blue\",\"blue\",\"blue\",\"blue\",\"blue\",\"blue\",\"blue\",\"blue\",\"blue\",\"blue\",\"blue\",\"blue\",\"blue\",\"blue\",\"blue\",\"blue\",\"blue\",\"blue\",\"blue\",\"blue\",\"blue\",\"blue\",\"blue\",\"blue\",\"blue\",\"blue\",\"blue\",\"blue\",\"blue\",\"blue\",\"blue\",\"blue\",\"blue\",\"blue\",\"blue\",\"blue\",\"blue\",\"blue\",\"blue\",\"blue\",\"blue\",\"blue\",\"blue\",\"blue\",\"blue\",\"blue\",\"blue\",\"blue\",\"blue\",\"blue\",\"blue\",\"blue\",\"blue\",\"blue\",\"blue\",\"blue\",\"blue\",\"blue\",\"blue\",\"blue\",\"blue\",\"blue\",\"blue\",\"blue\",\"blue\",\"blue\",\"blue\",\"blue\",\"blue\",\"blue\",\"blue\",\"blue\",\"blue\",\"blue\",\"blue\",\"blue\",\"blue\",\"blue\",\"blue\",\"blue\",\"blue\",\"blue\",\"blue\",\"blue\",\"blue\",\"blue\",\"blue\",\"blue\",\"blue\",\"blue\",\"blue\",\"blue\",\"blue\",\"blue\",\"blue\",\"blue\",\"blue\",\"blue\",\"blue\",\"blue\",\"blue\",\"blue\",\"blue\",\"blue\",\"blue\",\"blue\",\"blue\",\"blue\",\"blue\",\"blue\",\"blue\",\"blue\",\"blue\",\"blue\",\"blue\",\"blue\",\"blue\",\"blue\",\"blue\",\"blue\",\"blue\",\"blue\",\"blue\",\"blue\",\"blue\",\"blue\",\"blue\",\"blue\",\"blue\",\"blue\",\"blue\",\"blue\",\"blue\",\"blue\",\"blue\",\"blue\",\"blue\",\"blue\",\"blue\",\"blue\",\"blue\",\"blue\",\"blue\",\"blue\",\"blue\",\"blue\",\"blue\",\"blue\",\"blue\",\"blue\",\"blue\",\"blue\",\"blue\",\"blue\",\"blue\",\"blue\",\"blue\",\"blue\",\"blue\",\"blue\",\"blue\",\"blue\",\"blue\",\"blue\",\"blue\",\"blue\",\"blue\",\"blue\",\"blue\",\"blue\",\"blue\",\"blue\",\"blue\",\"blue\",\"blue\",\"blue\",\"blue\",\"blue\",\"blue\",\"blue\",\"blue\",\"blue\",\"blue\",\"blue\",\"blue\",\"blue\",\"blue\",\"blue\",\"blue\",\"blue\",\"blue\",\"blue\",\"blue\",\"blue\",\"blue\",\"blue\",\"blue\",\"blue\",\"blue\",\"blue\",\"blue\",\"blue\",\"blue\",\"blue\",\"blue\",\"blue\",\"blue\",\"blue\",\"blue\",\"blue\",\"blue\",\"blue\",\"blue\",\"blue\",\"blue\",\"blue\",\"blue\",\"blue\",\"blue\",\"blue\",\"blue\",\"blue\",\"blue\",\"blue\",\"blue\",\"blue\",\"blue\",\"blue\",\"blue\",\"blue\",\"blue\",\"blue\",\"blue\",\"blue\",\"blue\",\"blue\",\"blue\",\"blue\",\"blue\",\"blue\",\"blue\",\"blue\",\"blue\",\"blue\",\"blue\",\"blue\",\"blue\",\"blue\",\"blue\",\"blue\",\"blue\",\"blue\",\"blue\",\"blue\",\"blue\",\"blue\",\"blue\",\"blue\",\"blue\",\"blue\",\"blue\",\"blue\",\"blue\",\"blue\",\"blue\",\"blue\",\"blue\",\"blue\",\"blue\",\"blue\",\"blue\",\"blue\",\"blue\",\"blue\",\"blue\",\"blue\",\"blue\",\"blue\",\"blue\",\"blue\",\"blue\",\"blue\",\"blue\",\"blue\",\"blue\",\"blue\",\"blue\",\"blue\",\"blue\",\"blue\",\"blue\",\"blue\",\"blue\",\"blue\",\"blue\",\"blue\",\"blue\",\"blue\",\"blue\",\"blue\",\"blue\",\"blue\",\"blue\",\"blue\",\"blue\",\"blue\",\"blue\",\"blue\",\"blue\",\"blue\",\"blue\",\"blue\",\"blue\",\"blue\",\"blue\",\"blue\",\"blue\",\"blue\",\"blue\",\"blue\",\"blue\",\"blue\",\"blue\",\"blue\",\"blue\",\"blue\",\"blue\",\"blue\",\"blue\",\"blue\",\"blue\",\"blue\",\"blue\",\"blue\",\"blue\",\"blue\",\"blue\",\"blue\",\"blue\",\"blue\",\"blue\",\"blue\",\"blue\",\"blue\",\"blue\",\"blue\",\"blue\",\"blue\",\"blue\",\"blue\",\"blue\",\"blue\",\"blue\",\"blue\",\"blue\",\"blue\",\"blue\",\"blue\",\"blue\",\"blue\",\"blue\",\"blue\",\"blue\",\"blue\",\"blue\",\"blue\",\"blue\",\"blue\",\"blue\",\"blue\",\"blue\",\"blue\",\"blue\",\"blue\",\"blue\",\"blue\",\"blue\",\"blue\",\"blue\",\"blue\",\"blue\",\"blue\",\"blue\",\"blue\",\"blue\",\"blue\",\"blue\",\"blue\",\"blue\",\"blue\",\"blue\",\"blue\",\"blue\",\"blue\",\"blue\",\"blue\",\"blue\",\"blue\",\"blue\",\"blue\",\"blue\",\"blue\",\"blue\",\"blue\",\"blue\",\"blue\",\"blue\",\"blue\",\"blue\",\"blue\",\"blue\",\"blue\",\"blue\",\"blue\",\"blue\",\"blue\",\"blue\",\"blue\",\"blue\",\"blue\",\"blue\",\"blue\",\"blue\",\"blue\",\"blue\",\"blue\",\"blue\",\"blue\",\"blue\",\"blue\",\"blue\",\"blue\",\"blue\",\"blue\",\"blue\",\"blue\",\"blue\",\"blue\",\"blue\",\"blue\",\"blue\",\"blue\",\"blue\",\"blue\",\"blue\",\"blue\",\"blue\",\"blue\",\"blue\",\"blue\",\"blue\",\"blue\",\"blue\",\"blue\",\"blue\",\"blue\",\"blue\",\"blue\",\"blue\",\"blue\",\"blue\",\"blue\",\"blue\",\"blue\",\"blue\",\"blue\",\"blue\",\"blue\",\"blue\",\"blue\",\"blue\",\"blue\",\"blue\",\"blue\",\"blue\",\"blue\",\"blue\",\"blue\",\"blue\",\"blue\",\"blue\",\"blue\",\"blue\",\"blue\",\"blue\",\"blue\",\"blue\",\"blue\",\"blue\",\"blue\",\"blue\",\"blue\",\"blue\",\"blue\",\"blue\",\"blue\",\"blue\",\"blue\",\"blue\",\"blue\",\"blue\",\"blue\",\"blue\",\"blue\",\"blue\",\"blue\",\"blue\",\"blue\",\"blue\",\"blue\",\"blue\",\"blue\",\"blue\",\"blue\",\"blue\",\"blue\",\"blue\",\"blue\",\"blue\",\"blue\",\"blue\",\"blue\",\"blue\",\"blue\",\"blue\",\"blue\",\"blue\",\"blue\",\"blue\",\"blue\",\"blue\",\"blue\",\"blue\",\"blue\",\"blue\",\"blue\",\"blue\",\"blue\",\"blue\",\"blue\",\"blue\",\"blue\",\"blue\",\"blue\",\"blue\",\"blue\",\"blue\",\"blue\",\"blue\",\"blue\",\"blue\",\"blue\",\"blue\",\"blue\",\"blue\",\"blue\",\"blue\",\"blue\",\"blue\",\"blue\",\"blue\",\"blue\",\"blue\",\"blue\",\"blue\",\"blue\",\"blue\",\"blue\",\"blue\",\"blue\",\"blue\",\"blue\",\"blue\",\"blue\",\"blue\",\"blue\",\"blue\",\"blue\",\"blue\",\"blue\",\"blue\",\"blue\",\"blue\",\"blue\",\"blue\",\"blue\",\"blue\",\"blue\",\"blue\",\"blue\",\"blue\",\"blue\",\"blue\",\"blue\",\"blue\",\"blue\",\"blue\",\"blue\",\"blue\",\"blue\",\"blue\",\"blue\",\"blue\",\"blue\",\"blue\",\"blue\",\"blue\",\"blue\",\"blue\",\"blue\",\"blue\",\"blue\",\"blue\",\"blue\",\"blue\",\"blue\",\"blue\",\"blue\",\"blue\",\"blue\",\"blue\",\"blue\",\"blue\",\"blue\",\"blue\",\"blue\",\"blue\",\"blue\",\"blue\",\"blue\",\"blue\",\"blue\",\"blue\",\"blue\",\"blue\",\"blue\",\"blue\",\"blue\",\"blue\",\"blue\",\"blue\",\"blue\",\"blue\",\"blue\",\"blue\",\"blue\",\"blue\",\"blue\",\"blue\",\"blue\",\"blue\",\"blue\",\"blue\",\"blue\",\"blue\",\"blue\",\"blue\",\"blue\",\"blue\",\"blue\",\"blue\",\"blue\",\"blue\",\"blue\",\"blue\",\"blue\",\"blue\",\"blue\",\"blue\",\"blue\",\"blue\",\"blue\",\"blue\",\"blue\",\"blue\",\"blue\",\"blue\",\"blue\",\"blue\",\"blue\",\"blue\",\"blue\",\"blue\",\"blue\",\"blue\",\"blue\",\"blue\",\"blue\",\"blue\",\"blue\",\"blue\",\"blue\",\"blue\",\"blue\",\"blue\",\"blue\",\"blue\",\"blue\",\"blue\",\"blue\",\"blue\",\"blue\",\"blue\",\"blue\",\"blue\",\"blue\",\"blue\",\"blue\",\"blue\",\"blue\",\"blue\",\"blue\",\"blue\",\"blue\",\"blue\",\"blue\",\"blue\",\"blue\",\"blue\",\"blue\",\"blue\",\"blue\",\"blue\",\"blue\",\"blue\",\"blue\",\"blue\",\"blue\",\"blue\",\"blue\",\"blue\",\"blue\",\"blue\",\"blue\",\"blue\",\"blue\",\"blue\",\"blue\",\"blue\",\"blue\",\"blue\",\"blue\",\"blue\",\"blue\",\"blue\",\"blue\",\"blue\",\"blue\",\"blue\",\"blue\",\"blue\",\"blue\",\"blue\",\"blue\",\"blue\",\"blue\",\"blue\",\"blue\",\"blue\",\"blue\",\"blue\",\"blue\",\"blue\",\"blue\",\"blue\",\"blue\",\"blue\",\"blue\",\"blue\",\"blue\",\"blue\",\"blue\",\"blue\",\"blue\",\"blue\",\"blue\",\"blue\",\"blue\",\"blue\",\"blue\",\"blue\",\"blue\",\"blue\",\"blue\",\"blue\",\"blue\",\"blue\",\"blue\",\"blue\",\"blue\",\"blue\",\"blue\",\"blue\",\"blue\",\"blue\",\"blue\",\"blue\",\"blue\",\"blue\",\"blue\",\"blue\",\"blue\",\"blue\",\"blue\",\"blue\",\"blue\",\"blue\",\"blue\",\"blue\",\"blue\",\"blue\",\"blue\",\"blue\",\"blue\",\"blue\",\"blue\",\"blue\",\"blue\",\"blue\",\"blue\",\"blue\",\"blue\",\"blue\",\"blue\",\"blue\",\"blue\",\"blue\",\"blue\",\"blue\",\"blue\",\"blue\",\"blue\",\"blue\",\"blue\",\"blue\",\"blue\",\"blue\",\"blue\",\"blue\",\"blue\",\"blue\",\"blue\",\"blue\",\"blue\",\"blue\",\"blue\",\"blue\",\"blue\",\"blue\",\"blue\",\"blue\",\"blue\",\"blue\",\"blue\",\"blue\",\"blue\",\"blue\",\"blue\",\"blue\",\"blue\",\"blue\",\"blue\",\"blue\",\"blue\",\"blue\",\"blue\",\"blue\",\"blue\",\"blue\",\"blue\",\"blue\",\"blue\",\"blue\",\"blue\",\"blue\",\"blue\",\"blue\",\"blue\",\"blue\",\"blue\",\"blue\",\"blue\",\"blue\",\"blue\",\"blue\",\"blue\",\"blue\",\"blue\",\"blue\",\"blue\",\"blue\",\"blue\",\"blue\",\"blue\",\"blue\",\"blue\",\"blue\",\"blue\",\"blue\",\"blue\",\"blue\",\"blue\",\"blue\",\"blue\",\"blue\",\"blue\",\"blue\",\"blue\",\"blue\",\"blue\",\"blue\",\"blue\",\"blue\",\"blue\",\"blue\",\"blue\",\"blue\",\"blue\",\"blue\",\"blue\",\"blue\",\"blue\",\"blue\",\"blue\",\"blue\",\"blue\",\"blue\",\"blue\",\"blue\",\"blue\",\"blue\",\"blue\",\"blue\",\"blue\",\"blue\",\"blue\",\"blue\",\"blue\",\"blue\",\"blue\",\"blue\",\"blue\",\"blue\",\"blue\",\"blue\",\"blue\",\"blue\",\"blue\",\"blue\",\"blue\",\"blue\",\"blue\",\"blue\",\"blue\",\"blue\",\"blue\",\"blue\",\"blue\",\"blue\",\"blue\",\"blue\",\"blue\",\"blue\",\"blue\",\"blue\",\"blue\",\"blue\",\"blue\",\"blue\",\"blue\",\"blue\",\"blue\",\"blue\",\"blue\",\"blue\",\"blue\",\"blue\",\"blue\",\"blue\",\"blue\",\"blue\",\"blue\",\"blue\",\"blue\",\"blue\",\"blue\",\"blue\",\"blue\",\"blue\",\"blue\",\"blue\",\"blue\",\"blue\",\"blue\",\"blue\",\"blue\",\"blue\",\"blue\",\"blue\",\"blue\",\"blue\",\"blue\",\"blue\",\"blue\",\"blue\",\"blue\",\"blue\",\"blue\",\"blue\",\"blue\",\"blue\",\"blue\",\"blue\",\"blue\",\"blue\",\"blue\",\"blue\",\"blue\",\"blue\",\"blue\",\"blue\",\"blue\",\"blue\",\"blue\",\"blue\",\"blue\",\"blue\",\"blue\",\"blue\",\"blue\",\"blue\",\"blue\",\"blue\",\"blue\",\"blue\",\"blue\",\"blue\",\"blue\",\"blue\",\"blue\",\"blue\",\"blue\",\"blue\",\"blue\",\"blue\",\"blue\",\"blue\",\"blue\",\"blue\",\"blue\",\"blue\",\"blue\",\"blue\",\"blue\",\"blue\",\"blue\",\"blue\",\"blue\",\"blue\",\"blue\",\"blue\",\"blue\",\"blue\",\"blue\",\"blue\",\"blue\",\"blue\",\"blue\",\"blue\",\"blue\",\"blue\",\"blue\",\"blue\",\"blue\",\"blue\",\"blue\",\"blue\",\"blue\",\"blue\",\"blue\",\"blue\",\"blue\",\"blue\",\"blue\",\"blue\",\"blue\",\"blue\",\"blue\",\"blue\",\"blue\",\"blue\",\"blue\",\"blue\",\"blue\",\"blue\",\"blue\",\"blue\",\"blue\",\"blue\",\"blue\",\"blue\",\"blue\",\"blue\",\"blue\",\"blue\",\"blue\",\"blue\",\"blue\",\"blue\",\"blue\",\"blue\",\"blue\",\"blue\",\"blue\",\"blue\",\"blue\",\"blue\",\"blue\",\"blue\",\"blue\",\"blue\",\"blue\",\"blue\",\"blue\",\"blue\",\"blue\",\"blue\",\"blue\",\"blue\",\"blue\",\"blue\",\"blue\",\"blue\",\"blue\",\"blue\",\"blue\",\"blue\",\"blue\",\"blue\",\"blue\",\"blue\",\"blue\",\"blue\",\"blue\",\"blue\",\"blue\",\"blue\",\"blue\",\"blue\",\"blue\",\"blue\",\"blue\",\"blue\",\"blue\",\"blue\",\"blue\",\"blue\",\"blue\",\"blue\",\"blue\",\"blue\",\"blue\",\"blue\",\"blue\",\"blue\",\"blue\",\"blue\",\"blue\",\"blue\",\"blue\",\"blue\",\"blue\",\"blue\",\"blue\",\"blue\",\"blue\",\"blue\",\"blue\",\"blue\",\"blue\",\"blue\",\"blue\",\"blue\",\"blue\",\"blue\",\"blue\",\"blue\",\"blue\",\"blue\",\"blue\",\"blue\",\"blue\",\"blue\",\"blue\",\"blue\",\"blue\",\"blue\",\"blue\",\"blue\",\"blue\",\"blue\",\"blue\",\"blue\",\"blue\",\"blue\",\"blue\",\"blue\",\"blue\",\"blue\",\"blue\",\"blue\",\"blue\",\"blue\",\"blue\",\"blue\",\"blue\",\"blue\",\"blue\",\"blue\",\"blue\",\"blue\",\"blue\",\"blue\",\"blue\",\"blue\",\"blue\",\"blue\",\"blue\",\"blue\",\"blue\",\"blue\",\"blue\",\"blue\",\"blue\",\"blue\",\"blue\",\"blue\",\"blue\",\"blue\",\"blue\",\"blue\",\"blue\",\"blue\",\"blue\",\"blue\",\"blue\",\"blue\",\"blue\",\"blue\",\"blue\",\"blue\",\"blue\",\"blue\",\"blue\",\"blue\",\"blue\",\"blue\",\"blue\",\"blue\",\"blue\",\"blue\",\"blue\",\"blue\",\"blue\",\"blue\",\"blue\",\"blue\",\"blue\",\"blue\",\"blue\",\"blue\",\"blue\",\"blue\",\"blue\",\"blue\",\"blue\",\"blue\",\"blue\",\"blue\",\"blue\",\"blue\",\"blue\",\"blue\",\"blue\",\"blue\",\"blue\",\"blue\",\"blue\",\"blue\",\"blue\",\"blue\",\"blue\",\"blue\",\"blue\",\"blue\",\"blue\",\"blue\",\"blue\",\"blue\",\"blue\",\"blue\",\"blue\",\"blue\",\"blue\",\"blue\",\"blue\",\"blue\",\"blue\",\"blue\",\"blue\",\"blue\",\"blue\",\"blue\",\"blue\",\"blue\",\"blue\",\"blue\",\"blue\",\"blue\",\"blue\",\"blue\",\"blue\",\"blue\",\"blue\",\"blue\",\"blue\",\"blue\",\"blue\",\"blue\",\"blue\",\"blue\",\"blue\",\"blue\",\"blue\",\"blue\",\"blue\",\"blue\",\"blue\",\"blue\",\"blue\",\"blue\",\"blue\",\"blue\",\"blue\",\"blue\",\"blue\",\"blue\",\"blue\",\"blue\",\"blue\",\"blue\",\"blue\",\"blue\",\"blue\",\"blue\",\"blue\",\"blue\",\"blue\",\"blue\",\"blue\",\"blue\",\"blue\",\"blue\",\"blue\",\"blue\",\"blue\",\"blue\",\"blue\",\"blue\",\"blue\",\"blue\",\"blue\",\"blue\",\"blue\",\"blue\",\"blue\",\"blue\",\"blue\",\"blue\",\"blue\",\"blue\",\"blue\",\"blue\",\"blue\",\"blue\",\"blue\",\"blue\",\"blue\",\"blue\",\"blue\",\"blue\",\"blue\",\"blue\",\"blue\",\"blue\",\"blue\",\"blue\",\"blue\",\"blue\",\"blue\",\"blue\",\"blue\",\"blue\",\"blue\",\"blue\",\"blue\",\"blue\",\"blue\",\"blue\",\"blue\",\"blue\",\"blue\",\"blue\",\"blue\",\"blue\",\"blue\",\"blue\",\"blue\",\"blue\",\"blue\",\"blue\",\"blue\",\"blue\",\"blue\",\"blue\",\"blue\",\"blue\",\"blue\",\"blue\",\"blue\",\"blue\",\"blue\",\"blue\",\"blue\",\"blue\",\"blue\",\"blue\",\"blue\",\"blue\",\"blue\",\"blue\",\"blue\",\"blue\",\"blue\",\"blue\",\"blue\",\"blue\",\"blue\",\"blue\",\"blue\",\"blue\",\"blue\",\"blue\",\"blue\",\"blue\",\"blue\",\"blue\",\"blue\",\"blue\",\"blue\",\"blue\",\"blue\",\"blue\",\"blue\",\"blue\",\"blue\",\"blue\",\"blue\",\"blue\",\"blue\",\"blue\",\"blue\",\"blue\",\"blue\",\"blue\",\"blue\",\"blue\",\"blue\",\"blue\",\"blue\",\"blue\",\"blue\",\"blue\",\"blue\",\"blue\",\"blue\",\"blue\",\"blue\",\"blue\",\"blue\",\"blue\",\"blue\",\"blue\",\"blue\",\"blue\",\"blue\",\"blue\",\"blue\",\"blue\",\"blue\",\"blue\",\"blue\",\"blue\",\"blue\",\"blue\",\"blue\",\"blue\",\"blue\",\"blue\",\"blue\",\"blue\",\"blue\",\"blue\",\"blue\",\"blue\",\"blue\",\"blue\",\"blue\",\"blue\",\"blue\",\"blue\",\"blue\",\"blue\",\"blue\",\"blue\",\"blue\",\"blue\",\"blue\",\"blue\",\"blue\",\"blue\",\"blue\",\"blue\",\"blue\",\"blue\",\"blue\",\"blue\",\"blue\",\"blue\",\"blue\",\"blue\",\"blue\",\"blue\",\"blue\",\"blue\",\"blue\",\"blue\",\"blue\",\"blue\",\"blue\",\"blue\",\"blue\",\"blue\",\"blue\",\"blue\",\"blue\",\"blue\",\"blue\",\"blue\",\"blue\",\"blue\",\"blue\",\"blue\",\"blue\",\"blue\",\"blue\",\"blue\",\"blue\",\"blue\",\"blue\",\"blue\",\"blue\",\"blue\",\"blue\",\"blue\",\"blue\",\"blue\",\"blue\",\"blue\",\"blue\",\"blue\",\"blue\",\"blue\",\"blue\",\"blue\",\"blue\",\"blue\",\"blue\",\"blue\",\"blue\",\"blue\",\"blue\",\"blue\",\"blue\",\"blue\",\"blue\",\"blue\",\"blue\",\"blue\",\"blue\",\"blue\",\"blue\",\"blue\",\"blue\",\"blue\",\"blue\",\"blue\",\"blue\",\"blue\",\"blue\",\"blue\",\"blue\",\"blue\",\"blue\",\"blue\",\"blue\",\"blue\",\"blue\",\"blue\",\"blue\",\"blue\",\"blue\",\"blue\",\"blue\",\"blue\",\"blue\",\"blue\",\"blue\",\"blue\",\"blue\",\"blue\",\"blue\",\"blue\",\"blue\",\"blue\",\"blue\",\"blue\",\"blue\",\"blue\",\"blue\",\"blue\",\"blue\",\"blue\",\"blue\",\"blue\",\"blue\",\"blue\",\"blue\",\"blue\",\"blue\",\"blue\",\"blue\",\"blue\",\"blue\",\"blue\",\"blue\",\"blue\",\"blue\",\"blue\",\"blue\",\"blue\",\"blue\",\"blue\",\"blue\",\"blue\",\"blue\",\"blue\",\"blue\",\"blue\",\"blue\",\"blue\",\"blue\",\"blue\",\"blue\",\"blue\",\"blue\",\"blue\",\"blue\",\"blue\",\"blue\",\"blue\",\"blue\",\"blue\",\"blue\",\"blue\",\"blue\",\"blue\",\"blue\",\"blue\",\"blue\",\"blue\",\"blue\",\"blue\",\"blue\",\"blue\",\"blue\",\"blue\",\"blue\",\"blue\",\"blue\",\"blue\",\"blue\",\"blue\",\"blue\",\"blue\",\"blue\",\"blue\",\"blue\",\"blue\",\"blue\",\"blue\",\"blue\",\"blue\",\"blue\",\"blue\",\"blue\",\"blue\",\"blue\",\"blue\",\"blue\",\"blue\",\"blue\",\"blue\",\"blue\",\"blue\",\"blue\",\"blue\",\"blue\",\"blue\",\"blue\",\"blue\",\"blue\",\"blue\",\"blue\",\"blue\",\"blue\",\"blue\",\"blue\",\"blue\",\"blue\",\"blue\",\"blue\",\"blue\",\"blue\",\"blue\",\"blue\",\"blue\",\"blue\",\"blue\",\"blue\",\"blue\",\"blue\",\"blue\",\"blue\",\"blue\",\"blue\",\"blue\",\"blue\",\"blue\",\"blue\",\"blue\",\"blue\",\"blue\",\"blue\",\"blue\",\"blue\",\"blue\",\"blue\",\"blue\",\"blue\",\"blue\",\"blue\",\"blue\",\"blue\",\"blue\",\"blue\",\"blue\",\"blue\",\"blue\",\"blue\",\"blue\",\"blue\",\"blue\",\"blue\",\"blue\",\"blue\",\"blue\",\"blue\",\"blue\",\"blue\",\"blue\",\"blue\",\"blue\",\"blue\",\"blue\",\"blue\",\"blue\",\"blue\",\"blue\",\"blue\",\"blue\",\"blue\",\"blue\",\"blue\",\"blue\",\"blue\",\"blue\",\"blue\",\"blue\",\"blue\",\"blue\",\"blue\",\"blue\",\"blue\",\"blue\",\"blue\",\"blue\",\"blue\",\"blue\",\"blue\",\"blue\",\"blue\",\"blue\",\"blue\",\"blue\",\"blue\",\"blue\",\"blue\",\"blue\",\"blue\",\"blue\",\"blue\",\"blue\",\"blue\",\"blue\",\"blue\",\"blue\",\"blue\",\"blue\",\"blue\",\"blue\",\"blue\",\"blue\",\"blue\",\"blue\",\"blue\",\"blue\",\"blue\",\"blue\",\"blue\",\"blue\",\"blue\",\"blue\",\"blue\",\"blue\",\"blue\",\"blue\",\"blue\",\"blue\",\"blue\",\"blue\",\"blue\",\"blue\",\"blue\",\"blue\",\"blue\",\"blue\",\"blue\",\"blue\",\"blue\",\"blue\",\"blue\",\"blue\",\"blue\",\"blue\",\"blue\",\"blue\",\"blue\",\"blue\",\"blue\",\"blue\",\"blue\",\"blue\",\"blue\",\"blue\",\"blue\",\"blue\",\"blue\",\"blue\",\"blue\",\"blue\",\"blue\",\"blue\",\"blue\",\"blue\",\"blue\",\"blue\",\"blue\",\"blue\",\"blue\",\"blue\",\"blue\",\"blue\",\"blue\",\"blue\",\"blue\",\"blue\",\"blue\",\"blue\",\"blue\",\"blue\",\"blue\",\"blue\",\"blue\",\"blue\",\"blue\",\"blue\",\"blue\",\"blue\",\"blue\",\"blue\",\"blue\",\"blue\",\"blue\",\"blue\",\"blue\",\"blue\",\"blue\",\"blue\",\"blue\",\"blue\",\"blue\",\"blue\",\"blue\",\"blue\",\"blue\",\"blue\",\"blue\",\"blue\",\"blue\",\"blue\",\"blue\",\"blue\",\"blue\",\"blue\",\"blue\",\"blue\",\"blue\",\"blue\",\"blue\",\"blue\",\"blue\",\"blue\",\"blue\",\"blue\",\"blue\",\"blue\",\"blue\",\"blue\",\"blue\",\"blue\",\"blue\",\"blue\",\"blue\",\"blue\",\"blue\",\"blue\",\"blue\",\"blue\",\"blue\",\"blue\",\"blue\",\"blue\",\"blue\",\"blue\",\"blue\",\"blue\",\"blue\",\"blue\",\"blue\",\"blue\",\"blue\",\"blue\",\"blue\",\"blue\",\"blue\",\"blue\",\"blue\",\"blue\",\"blue\",\"blue\",\"blue\",\"blue\",\"blue\",\"blue\",\"blue\",\"blue\",\"blue\",\"blue\",\"blue\",\"blue\",\"blue\",\"blue\",\"blue\",\"blue\",\"blue\",\"blue\",\"blue\",\"blue\",\"blue\",\"blue\",\"blue\",\"blue\",\"blue\",\"blue\",\"blue\",\"blue\",\"blue\",\"blue\",\"blue\",\"blue\",\"blue\",\"blue\",\"blue\",\"blue\",\"blue\",\"blue\",\"blue\",\"blue\",\"blue\",\"blue\",\"blue\",\"blue\",\"blue\",\"blue\",\"blue\",\"blue\",\"blue\",\"blue\",\"blue\",\"blue\",\"blue\",\"blue\",\"blue\",\"blue\",\"blue\",\"blue\",\"blue\",\"blue\",\"blue\",\"blue\",\"blue\",\"blue\",\"blue\",\"blue\",\"blue\",\"blue\",\"blue\",\"blue\",\"blue\",\"blue\",\"blue\",\"blue\",\"blue\",\"blue\",\"blue\",\"blue\",\"blue\",\"blue\",\"blue\",\"blue\",\"blue\",\"blue\",\"blue\",\"blue\",\"blue\",\"blue\",\"blue\",\"blue\",\"blue\",\"blue\",\"blue\",\"blue\",\"blue\",\"blue\",\"blue\",\"blue\",\"blue\",\"blue\",\"blue\",\"blue\",\"blue\",\"blue\",\"blue\",\"blue\",\"blue\",\"blue\",\"blue\",\"blue\",\"blue\",\"blue\",\"blue\",\"blue\",\"blue\",\"blue\",\"blue\",\"blue\",\"blue\",\"blue\",\"blue\",\"blue\",\"blue\",\"blue\",\"blue\",\"blue\",\"blue\",\"blue\",\"blue\",\"blue\",\"blue\",\"blue\",\"blue\",\"blue\",\"blue\",\"blue\",\"blue\",\"blue\",\"blue\",\"blue\",\"blue\",\"blue\",\"blue\",\"blue\",\"blue\",\"blue\",\"blue\",\"blue\",\"blue\",\"blue\",\"blue\",\"blue\",\"blue\",\"blue\",\"blue\",\"blue\",\"blue\",\"blue\",\"blue\",\"blue\",\"blue\",\"blue\",\"blue\",\"blue\",\"blue\",\"blue\",\"blue\",\"blue\",\"blue\",\"blue\",\"blue\",\"blue\",\"blue\",\"blue\",\"blue\",\"blue\",\"blue\",\"blue\",\"blue\",\"blue\",\"blue\",\"blue\",\"blue\",\"blue\",\"blue\",\"blue\",\"blue\",\"blue\",\"blue\",\"blue\",\"blue\",\"blue\",\"blue\",\"blue\",\"blue\",\"blue\",\"blue\",\"blue\",\"blue\",\"blue\",\"blue\",\"blue\",\"blue\",\"blue\",\"blue\",\"blue\",\"blue\",\"blue\",\"blue\",\"blue\",\"blue\",\"blue\",\"blue\",\"blue\",\"blue\",\"blue\",\"blue\",\"blue\",\"blue\",\"blue\",\"blue\",\"blue\",\"blue\",\"blue\",\"blue\",\"blue\",\"blue\",\"blue\",\"blue\",\"blue\",\"blue\",\"blue\",\"blue\",\"blue\",\"blue\",\"blue\",\"blue\",\"blue\",\"blue\",\"blue\",\"blue\",\"blue\",\"blue\",\"blue\",\"blue\",\"blue\",\"blue\",\"blue\",\"blue\",\"blue\",\"blue\",\"blue\",\"blue\",\"blue\",\"blue\",\"blue\",\"blue\",\"blue\",\"blue\",\"blue\",\"blue\",\"blue\",\"blue\",\"blue\",\"blue\",\"blue\",\"blue\",\"blue\",\"blue\",\"blue\",\"blue\",\"blue\",\"blue\",\"blue\",\"blue\",\"blue\",\"blue\",\"blue\",\"blue\",\"blue\",\"blue\",\"blue\",\"blue\",\"blue\",\"blue\",\"blue\",\"blue\",\"blue\",\"blue\",\"blue\",\"blue\",\"blue\",\"blue\",\"blue\",\"blue\",\"blue\",\"blue\",\"blue\",\"blue\",\"blue\",\"blue\",\"blue\",\"blue\",\"blue\",\"blue\",\"blue\",\"blue\",\"blue\",\"blue\",\"blue\",\"blue\",\"blue\",\"blue\",\"blue\",\"blue\",\"blue\",\"blue\",\"blue\",\"blue\",\"blue\",\"blue\",\"blue\",\"blue\",\"blue\",\"blue\",\"blue\",\"blue\",\"blue\",\"blue\",\"blue\",\"blue\",\"blue\",\"blue\",\"blue\",\"blue\",\"blue\",\"blue\",\"blue\",\"blue\",\"blue\",\"blue\",\"blue\",\"blue\",\"blue\",\"blue\",\"blue\",\"blue\",\"blue\",\"blue\",\"blue\",\"blue\",\"blue\",\"blue\",\"blue\",\"blue\",\"blue\",\"blue\",\"blue\",\"blue\",\"blue\",\"blue\",\"blue\",\"blue\",\"blue\",\"blue\",\"blue\",\"blue\",\"blue\",\"blue\",\"blue\",\"blue\",\"blue\",\"blue\",\"blue\",\"blue\",\"blue\",\"blue\",\"blue\",\"blue\",\"blue\",\"blue\",\"blue\",\"blue\",\"blue\",\"blue\",\"blue\",\"blue\",\"blue\",\"blue\",\"blue\",\"blue\",\"blue\",\"blue\",\"blue\",\"blue\",\"blue\",\"blue\",\"blue\",\"blue\",\"blue\",\"blue\",\"blue\",\"blue\",\"blue\",\"blue\",\"blue\",\"blue\",\"blue\",\"blue\",\"blue\",\"blue\",\"blue\",\"blue\",\"blue\",\"blue\",\"blue\",\"blue\",\"blue\",\"blue\",\"blue\",\"blue\",\"blue\",\"blue\",\"blue\",\"blue\",\"blue\",\"blue\",\"blue\",\"blue\",\"blue\",\"blue\",\"blue\",\"blue\",\"blue\",\"blue\",\"blue\",\"blue\",\"blue\",\"blue\",\"blue\",\"blue\",\"blue\",\"blue\",\"blue\",\"blue\",\"blue\",\"blue\",\"blue\",\"blue\",\"blue\",\"blue\",\"blue\",\"blue\",\"blue\",\"blue\",\"blue\",\"blue\",\"blue\",\"blue\",\"blue\",\"blue\",\"blue\",\"blue\",\"blue\",\"blue\",\"blue\",\"blue\",\"blue\",\"blue\",\"blue\",\"blue\",\"blue\",\"blue\",\"blue\",\"blue\",\"blue\",\"blue\",\"blue\",\"blue\",\"blue\",\"blue\",\"blue\",\"blue\",\"blue\",\"blue\",\"blue\",\"blue\",\"blue\",\"blue\",\"blue\",\"blue\",\"blue\",\"blue\",\"blue\",\"blue\",\"blue\",\"blue\",\"blue\",\"blue\",\"blue\",\"blue\",\"blue\",\"blue\",\"blue\",\"blue\",\"blue\",\"blue\",\"blue\",\"blue\",\"blue\",\"blue\",\"blue\",\"blue\",\"blue\",\"blue\",\"blue\",\"blue\",\"blue\",\"blue\",\"blue\",\"blue\",\"blue\",\"blue\",\"blue\",\"blue\",\"blue\",\"blue\",\"blue\",\"blue\",\"blue\",\"blue\",\"blue\",\"blue\",\"blue\",\"blue\",\"blue\",\"blue\",\"blue\",\"blue\",\"blue\",\"blue\",\"blue\",\"blue\",\"blue\",\"blue\",\"blue\",\"blue\",\"blue\",\"blue\",\"blue\",\"blue\",\"blue\",\"blue\",\"blue\",\"blue\",\"blue\",\"blue\",\"blue\",\"blue\",\"blue\",\"blue\",\"blue\",\"blue\",\"blue\",\"blue\",\"blue\",\"blue\",\"blue\",\"blue\",\"blue\",\"blue\",\"blue\",\"blue\",\"blue\",\"blue\",\"blue\",\"blue\",\"blue\",\"blue\",\"blue\",\"blue\",\"blue\",\"blue\",\"blue\",\"blue\",\"blue\",\"blue\",\"blue\",\"blue\",\"blue\",\"blue\",\"blue\",\"blue\",\"blue\",\"blue\",\"blue\",\"blue\",\"blue\",\"blue\",\"blue\",\"blue\",\"blue\",\"blue\",\"blue\",\"blue\",\"blue\",\"blue\",\"blue\",\"blue\",\"blue\",\"blue\",\"blue\",\"blue\",\"blue\",\"blue\",\"blue\",\"blue\",\"blue\",\"blue\",\"blue\",\"blue\",\"blue\",\"blue\",\"blue\",\"blue\",\"blue\",\"blue\",\"blue\",\"blue\",\"blue\",\"blue\",\"blue\",\"blue\",\"blue\",\"blue\",\"blue\",\"blue\",\"blue\",\"blue\",\"blue\",\"blue\",\"blue\",\"blue\",\"blue\",\"blue\",\"blue\",\"blue\",\"blue\",\"blue\",\"blue\",\"blue\",\"blue\",\"blue\",\"blue\",\"blue\",\"blue\",\"blue\",\"blue\",\"blue\",\"blue\",\"blue\",\"blue\",\"blue\",\"blue\",\"blue\",\"blue\",\"blue\",\"blue\",\"blue\",\"blue\",\"blue\",\"blue\",\"blue\",\"blue\",\"blue\",\"blue\",\"blue\",\"blue\",\"blue\",\"blue\",\"blue\",\"blue\",\"blue\",\"blue\",\"blue\",\"blue\",\"blue\",\"blue\",\"blue\",\"blue\",\"blue\",\"blue\",\"blue\",\"blue\",\"blue\",\"blue\",\"blue\",\"blue\",\"blue\",\"blue\",\"blue\",\"blue\",\"blue\",\"blue\",\"blue\",\"blue\",\"blue\",\"blue\",\"blue\",\"blue\",\"blue\",\"blue\",\"blue\",\"blue\",\"blue\",\"blue\",\"blue\",\"blue\",\"blue\",\"blue\",\"blue\",\"blue\",\"blue\",\"blue\",\"blue\",\"blue\",\"blue\",\"blue\",\"blue\",\"blue\",\"blue\",\"blue\",\"blue\",\"blue\",\"blue\",\"blue\",\"blue\",\"blue\",\"blue\",\"blue\",\"blue\",\"blue\",\"blue\",\"blue\",\"blue\",\"blue\",\"blue\",\"blue\",\"blue\",\"blue\",\"blue\",\"blue\",\"blue\",\"blue\",\"blue\",\"blue\",\"blue\",\"blue\",\"blue\",\"blue\",\"blue\",\"blue\",\"blue\",\"blue\",\"blue\",\"blue\",\"blue\",\"blue\",\"blue\",\"blue\",\"blue\",\"blue\",\"blue\",\"blue\",\"blue\",\"blue\",\"blue\",\"blue\",\"blue\",\"blue\",\"blue\",\"blue\",\"blue\",\"blue\",\"blue\",\"blue\",\"blue\",\"blue\",\"blue\",\"blue\",\"blue\",\"blue\",\"blue\",\"blue\",\"blue\",\"blue\",\"blue\",\"blue\",\"blue\",\"blue\",\"blue\",\"blue\",\"blue\",\"blue\",\"blue\",\"blue\",\"blue\",\"blue\",\"blue\",\"blue\",\"blue\",\"blue\",\"blue\",\"blue\",\"blue\",\"blue\",\"blue\",\"blue\",\"blue\",\"blue\",\"blue\",\"blue\",\"blue\",\"blue\",\"blue\",\"blue\",\"blue\",\"blue\",\"blue\",\"blue\",\"blue\",\"blue\",\"blue\",\"blue\",\"blue\",\"blue\",\"blue\",\"blue\",\"blue\",\"blue\",\"blue\",\"blue\",\"blue\",\"blue\",\"blue\",\"blue\",\"blue\",\"blue\",\"blue\",\"blue\",\"blue\",\"blue\",\"blue\",\"blue\",\"blue\",\"blue\",\"blue\",\"blue\",\"blue\",\"blue\",\"blue\",\"blue\",\"blue\",\"blue\",\"blue\",\"blue\",\"blue\",\"blue\",\"blue\",\"blue\",\"blue\",\"blue\",\"blue\",\"blue\",\"blue\",\"blue\",\"blue\",\"blue\",\"blue\",\"blue\",\"blue\",\"blue\",\"blue\",\"blue\",\"blue\",\"blue\",\"blue\",\"blue\",\"blue\",\"blue\",\"blue\",\"blue\",\"blue\",\"blue\",\"blue\",\"blue\",\"blue\",\"blue\",\"blue\",\"blue\",\"blue\",\"blue\",\"blue\",\"blue\",\"blue\",\"blue\",\"blue\",\"blue\",\"blue\",\"blue\",\"blue\",\"blue\",\"blue\",\"blue\",\"blue\",\"blue\",\"blue\",\"blue\",\"blue\",\"blue\",\"blue\",\"blue\",\"blue\",\"blue\",\"blue\",\"blue\",\"blue\",\"blue\",\"blue\",\"blue\",\"blue\",\"blue\",\"blue\",\"blue\",\"blue\",\"blue\",\"blue\",\"blue\",\"blue\",\"blue\",\"blue\",\"blue\",\"blue\",\"blue\",\"blue\",\"blue\",\"blue\",\"blue\",\"blue\",\"blue\",\"blue\",\"blue\",\"blue\",\"blue\",\"blue\",\"blue\",\"blue\",\"blue\",\"blue\",\"blue\",\"blue\",\"blue\",\"blue\",\"blue\",\"blue\",\"blue\",\"blue\",\"blue\",\"blue\",\"blue\",\"blue\",\"blue\",\"blue\",\"blue\",\"blue\",\"blue\",\"blue\",\"blue\",\"blue\",\"blue\",\"blue\",\"blue\",\"blue\",\"blue\",\"blue\",\"blue\",\"blue\",\"blue\",\"blue\",\"blue\",\"blue\",\"blue\",\"blue\",\"blue\",\"blue\",\"blue\",\"blue\",\"blue\",\"blue\",\"blue\",\"blue\",\"blue\",\"blue\",\"blue\",\"blue\",\"blue\",\"blue\",\"blue\",\"blue\",\"blue\",\"blue\",\"blue\",\"blue\",\"blue\",\"blue\",\"blue\",\"blue\",\"blue\",\"blue\",\"blue\",\"blue\",\"blue\",\"blue\",\"blue\",\"blue\",\"blue\",\"blue\",\"blue\",\"blue\",\"blue\",\"blue\",\"blue\",\"blue\",\"blue\",\"blue\",\"blue\",\"blue\",\"blue\",\"blue\",\"blue\",\"blue\",\"blue\",\"blue\",\"blue\",\"blue\",\"blue\",\"blue\",\"blue\",\"blue\",\"blue\",\"blue\",\"blue\",\"blue\",\"blue\",\"blue\",\"blue\",\"blue\",\"blue\",\"blue\",\"blue\",\"blue\",\"blue\",\"blue\",\"blue\",\"blue\",\"blue\",\"blue\",\"blue\",\"blue\",\"blue\",\"blue\",\"blue\",\"blue\",\"blue\",\"blue\",\"blue\",\"blue\",\"blue\",\"blue\",\"blue\",\"blue\",\"blue\",\"blue\",\"blue\",\"blue\",\"blue\",\"blue\",\"blue\",\"blue\",\"blue\",\"blue\",\"blue\",\"blue\",\"blue\",\"blue\",\"blue\",\"blue\",\"blue\",\"blue\",\"blue\",\"blue\",\"blue\",\"blue\",\"blue\",\"blue\",\"blue\",\"blue\",\"blue\",\"blue\",\"blue\",\"blue\",\"blue\",\"blue\",\"blue\",\"blue\",\"blue\",\"blue\",\"blue\",\"blue\",\"blue\",\"blue\",\"blue\",\"blue\",\"blue\",\"blue\",\"blue\",\"blue\",\"blue\",\"blue\",\"blue\",\"blue\",\"blue\",\"blue\",\"blue\",\"blue\",\"blue\",\"blue\",\"blue\",\"blue\",\"blue\",\"blue\",\"blue\",\"blue\",\"blue\",\"blue\",\"blue\",\"blue\",\"blue\",\"blue\",\"blue\",\"blue\",\"blue\",\"blue\",\"blue\",\"blue\",\"blue\",\"blue\",\"blue\",\"blue\",\"blue\",\"blue\",\"blue\",\"blue\",\"blue\",\"blue\",\"blue\",\"blue\",\"blue\",\"blue\",\"blue\",\"blue\",\"blue\",\"blue\",\"blue\",\"blue\",\"blue\",\"blue\",\"blue\",\"blue\",\"blue\",\"blue\",\"blue\",\"blue\",\"blue\",\"blue\",\"blue\",\"blue\",\"blue\",\"blue\",\"blue\",\"blue\",\"blue\",\"blue\",\"blue\",\"blue\",\"blue\"]],[\"token\",[\"verified\",\"2gb\",\"illinois\",\"jazz\",\"checking\",\"telescope\",\"seasons\",\"astrologer\",\"contribution\",\"homemade\",\"heroes\",\"warcraft\",\"kumar\",\"tester\",\"politically\",\"conquer\",\"columbia\",\"quiet\",\"repeat\",\"kapil\",\"involve\",\"mckinsey\",\"switched\",\"att\",\"instance\",\"innocent\",\"portuguese\",\"subscribers\",\"cabinet\",\"terror\",\"85\",\"rotation\",\"shirts\",\"drawn\",\"bi\",\"aspergers\",\"inspiration\",\"beats\",\"\\u00a3\",\"approximately\",\"asset\",\"empathy\",\"rooting\",\"ia\",\"dandruff\",\"slab\",\"operator\",\"horrible\",\"dominant\",\"ocd\",\"spacetime\",\"blow\",\"installing\",\"learnt\",\"separation\",\"institution\",\"temples\",\"hons\",\"pound\",\"removing\",\"unemployment\",\"greenlit\",\"audit\",\"supplement\",\"roller\",\"dota\",\"tiny\",\"equally\",\"braces\",\"aggressive\",\"corn\",\"camps\",\"additional\",\"consent\",\"granted\",\"welfare\",\"myths\",\"stations\",\"timeline\",\"psychologist\",\"nagpur\",\"herself\",\"cooper\",\"exgirlfriend\",\"intercourse\",\"flip\",\"hurts\",\"lpa\",\"nerve\",\"tvs\",\"halloween\",\"screenshot\",\"biomedical\",\"covered\",\"milky\",\"onsite\",\"aside\",\"meaningful\",\"stretch\",\"joker\",\"encounter\",\"tone\",\"founders\",\"talked\",\"respectively\",\"downloads\",\"cocaine\",\"toxic\",\"sword\",\"fuck\",\"trainer\",\"partition\",\"boxing\",\"grid\",\"practicing\",\"menu\",\"cms\",\"indore\",\"ate\",\"volunteer\",\"misconceptions\",\"pics\",\"flies\",\"instantly\",\"trans\",\"friday\",\"sociopaths\",\"ctc\",\"hoax\",\"detailed\",\"sizes\",\"rejection\",\"limitations\",\"bharat\",\"kissing\",\"renewable\",\"oriented\",\"countrys\",\"dumps\",\"spiders\",\"technological\",\"advertisement\",\"headache\",\"zodiac\",\"accommodation\",\"venus\",\"calcium\",\"passenger\",\"falls\",\"overnight\",\"pickup\",\"gary\",\"transportation\",\"odds\",\"jupiter\",\"purchasing\",\"fluently\",\"flu\",\"photons\",\"conductor\",\"ohio\",\"balaji\",\"mcdonalds\",\"betting\",\"irrational\",\"sachin\",\"deactivate\",\"estimate\",\"hairs\",\"fluent\",\"errors\",\"remaining\",\"marriages\",\"medieval\",\"charles\",\"spider\",\"oxford\",\"gita\",\"races\",\"liquor\",\"poland\",\"lease\",\"co2\",\"selenium\",\"attempts\",\"crystal\",\"manaphy\",\"knight\",\"collapsed\",\"wheels\",\"behaviour\",\"bitcoins\",\"parliament\",\"himher\",\"handsome\",\"thousands\",\"caring\",\"kings\",\"lucky\",\"workplace\",\"condom\",\"intuitive\",\"chronic\",\"eyesight\",\"simulation\",\"prank\",\"quickest\",\"concert\",\"popularity\",\"connections\",\"disorders\",\"scripting\",\"appearance\",\"js\",\"depth\",\"cheque\",\"longterm\",\"documentaries\",\"dioxide\",\"bright\",\"info\",\"diseases\",\"appeal\",\"snap\",\"smoked\",\"singers\",\"boil\",\"probably\",\"temperatures\",\"appearing\",\"olive\",\"ntse\",\"telecom\",\"brief\",\"discrimination\",\"ethnic\",\"cache\",\"passionate\",\"shoulder\",\"assault\",\"marshmallow\",\"momentum\",\"yr\",\"migrate\",\"retire\",\"cet\",\"canvas\",\"vietnamese\",\"institutions\",\"meter\",\"roots\",\"integer\",\"imported\",\"ants\",\"lyft\",\"piercing\",\"il\",\"poop\",\"organisms\",\"ve\",\"entropy\",\"calm\",\"saddest\",\"toward\",\"myth\",\"sight\",\"filling\",\"hdmi\",\"satisfied\",\"transactions\",\"pharmacy\",\"nursing\",\"correlation\",\"regression\",\"awake\",\"md\",\"nri\",\"recommendations\",\"bin\",\"finland\",\"multi\",\"voted\",\"discovery\",\"edward\",\"touching\",\"immigrant\",\"geometry\",\"indicate\",\"ourselves\",\"texting\",\"seek\",\"expecting\",\"dj\",\"brake\",\"helicopter\",\"blonde\",\"triple\",\"ladies\",\"vivekananda\",\"switching\",\"prostitution\",\"banana\",\"magazines\",\"shippuden\",\"lucknow\",\"2019\",\"failing\",\"elizabeth\",\"irish\",\"ebook\",\"temporary\",\"governor\",\"wasting\",\"weekends\",\"cpt\",\"wax\",\"labor\",\"instruments\",\"instrumentation\",\"hates\",\"hip\",\"arnab\",\"bubble\",\"employers\",\"aadhaar\",\"boyfriends\",\"jake\",\"explained\",\"yesterday\",\"beta\",\"extrovert\",\"andhra\",\"micromax\",\"vertical\",\"lay\",\"nonprofit\",\"dubbed\",\"typing\",\"automotive\",\"thomas\",\"procedures\",\"priority\",\"funded\",\"arabs\",\"siblings\",\"guinea\",\"missile\",\"luck\",\"strategic\",\"defend\",\"module\",\"tuition\",\"acids\",\"controller\",\"committee\",\"housing\",\"integral\",\"peaceful\",\"refugees\",\"prescription\",\"interns\",\"supported\",\"womans\",\"dentist\",\"wives\",\"village\",\"affecting\",\"lte\",\"beaches\",\"austin\",\"substance\",\"engagement\",\"trainee\",\"measures\",\"trailer\",\"purchased\",\"15000\",\"uttar\",\"glue\",\"dtu\",\"medal\",\"photon\",\"engg\",\"violin\",\"column\",\"somehow\",\"rotate\",\"3000\",\"virat\",\"forgotten\",\"fingers\",\"slim\",\"arrest\",\"covalent\",\"ncert\",\"kernel\",\"da\",\"alarm\",\"ngo\",\"4gb\",\"productivity\",\"planned\",\"district\",\"berlin\",\"lists\",\"leads\",\"slang\",\"defence\",\"aspiring\",\"56\",\"enemy\",\"farming\",\"muller\",\"pays\",\"liver\",\"membrane\",\"secretly\",\"plug\",\"gum\",\"eclipse\",\"chewing\",\"labs\",\"zombie\",\"authority\",\"males\",\"argentina\",\"tasks\",\"fell\",\"nails\",\"palestine\",\"tanks\",\"identical\",\"deck\",\"qualification\",\"leadership\",\"kohli\",\"pronunciation\",\"hello\",\"violent\",\"sabha\",\"respiration\",\"transform\",\"warranty\",\"faculty\",\"adolf\",\"expenses\",\"jersey\",\"mercury\",\"whiskey\",\"tackle\",\"tweet\",\"blame\",\"cruise\",\"mahindra\",\"discharge\",\"reduced\",\"vodka\",\"mahatma\",\"bass\",\"compete\",\"stains\",\"pill\",\"swim\",\"ali\",\"gf\",\"ford\",\"prince\",\"sweat\",\"performing\",\"limits\",\"leonardo\",\"cow\",\"resolve\",\"matters\",\"pharmaceutical\",\"ray\",\"remotely\",\"pf\",\"clinical\",\"bpo\",\"homeless\",\"husbands\",\"rising\",\"newtons\",\"outcome\",\"derivative\",\"alpha\",\"grown\",\"capitalism\",\"astronaut\",\"hybrid\",\"palm\",\"teens\",\"hits\",\"airplanes\",\"none\",\"admin\",\"applicable\",\"amcat\",\"spam\",\"neutrality\",\"pixel\",\"festival\",\"faces\",\"molar\",\"snakes\",\"sip\",\"kik\",\"farm\",\"ltd\",\"votes\",\"publishing\",\"comfort\",\"frontend\",\"spin\",\"diagnosed\",\"buildings\",\"\\u00b0\",\"cashless\",\"addictive\",\"extinct\",\"ugc\",\"coke\",\"llb\",\"phrases\",\"struggle\",\"drives\",\"fiber\",\"grocery\",\"achieved\",\"penny\",\"bath\",\"allies\",\"uninstall\",\"ny\",\"appears\",\"effort\",\"satellites\",\"confirmed\",\"loneliness\",\"illuminati\",\"uri\",\"lucid\",\"preferably\",\"neither\",\"\\u221a\",\"pacific\",\"americas\",\"bs\",\"graduated\",\"bills\",\"tube\",\"germans\",\"assume\",\"cleared\",\"mate\",\"divide\",\"versions\",\"fallen\",\"journey\",\"anthem\",\"certificates\",\"looked\",\"sponsor\",\"useless\",\"dependent\",\"invite\",\"guru\",\"keyword\",\"aipmt\",\"clone\",\"kgs\",\"chip\",\"origins\",\"wide\",\"motivational\",\"elite\",\"wanna\",\"unity\",\"cough\",\"connecting\",\"mystery\",\"kim\",\"syrian\",\"voldemort\",\"responsibilities\",\"molecules\",\"boobs\",\"holidays\",\"tutorial\",\"circumstances\",\"fiitjee\",\"islands\",\"bypass\",\"slowly\",\"mixture\",\"aluminum\",\"salesforce\",\"twin\",\"iot\",\"remedy\",\"sheets\",\"pole\",\"hated\",\"females\",\"protected\",\"irs\",\"insecure\",\"entering\",\"neuroscience\",\"offices\",\"delta\",\"suggestion\",\"snapdeal\",\"backstory\",\"periodic\",\"cancelled\",\"mans\",\"complicated\",\"bitsat\",\"pleasure\",\"loop\",\"dropbox\",\"selfish\",\"nude\",\"20000\",\"voter\",\"variables\",\"victory\",\"closest\",\"compensation\",\"extended\",\"locations\",\"cracked\",\"perks\",\"ended\",\"exit\",\"awareness\",\"pakistanis\",\"ebooks\",\"bull\",\"unblock\",\"100000\",\"entrepreneurship\",\"infrastructure\",\"scotland\",\"guest\",\"attacked\",\"hurting\",\"lion\",\"reject\",\"purposes\",\"knife\",\"thai\",\"ipl\",\"knee\",\"accepting\",\"spent\",\"punjabi\",\"tab\",\"quoras\",\"caffeine\",\"athletes\",\"ink\",\"cooked\",\"improving\",\"invaded\",\"allah\",\"thermodynamics\",\"mortgage\",\"firsttime\",\"achievements\",\"issued\",\"breath\",\"award\",\"llc\",\"legends\",\"mood\",\"influenced\",\"proteins\",\"holy\",\"performed\",\"pee\",\"blocks\",\"molecule\",\"interests\",\"imei\",\"requires\",\"cisco\",\"moves\",\"marrying\",\"mca\",\"perfectly\",\"iisc\",\"corporation\",\"shiva\",\"viruses\",\"difficulty\",\"50000\",\"volte\",\"shampoo\",\"secular\",\"transplant\",\"ghz\",\"ahead\",\"crew\",\"interact\",\"depend\",\"hawaii\",\"hiv\",\"evening\",\"vegetable\",\"revenge\",\"suppose\",\"busy\",\"label\",\"rogue\",\"rational\",\"hillstation\",\"brains\",\"urdu\",\"imagine\",\"salaries\",\"survey\",\"g4\",\"butt\",\"manufacturers\",\"saas\",\"residency\",\"recommendation\",\"purple\",\"fault\",\"aadhar\",\"aging\",\"bhopal\",\"conducted\",\"loses\",\"infection\",\"forest\",\"impacts\",\"collection\",\"fridge\",\"diamond\",\"mis\",\"recorded\",\"march\",\"conditioner\",\"signature\",\"listed\",\"branches\",\"manchester\",\"wanting\",\"perception\",\"absolutely\",\"servers\",\"soluble\",\"swami\",\"lumia\",\"directors\",\"52\",\"2008\",\"gaining\",\"stereotypes\",\"homes\",\"vegas\",\"jam\",\"behave\",\"relatively\",\"forum\",\"ib\",\"earphones\",\"facilities\",\"april\",\"finally\",\"tail\",\"capacitor\",\"tiger\",\"deaf\",\"deliver\",\"django\",\"expand\",\"skip\",\"nearly\",\"maybe\",\"task\",\"gateway\",\"strangest\",\"abstract\",\"adding\",\"suck\",\"tim\",\"printed\",\"sigma\",\"immigrate\",\"decline\",\"arrested\",\"95\",\"narcissistic\",\"freelancing\",\"patterns\",\"expired\",\"casual\",\"tablets\",\"patients\",\"lean\",\"pieces\",\"laymans\",\"whatever\",\"polish\",\"lemon\",\"abortion\",\"i3\",\"theorem\",\"h\",\"compulsory\",\"helped\",\"sons\",\"feminism\",\"compiler\",\"tested\",\"enhance\",\"adhd\",\"manhattan\",\"iii\",\"nail\",\"eee\",\"deals\",\"excellent\",\"ipo\",\"folder\",\"sand\",\"continuous\",\"capable\",\"libraries\",\"aggregate\",\"64\",\"bsnl\",\"profiles\",\"spirit\",\"pulled\",\"owns\",\"deloitte\",\"therapist\",\"acts\",\"millions\",\"authors\",\"marathi\",\"dvd\",\"coconut\",\"swiss\",\"interaction\",\"ncr\",\"kannada\",\"smallest\",\"advisable\",\"smartest\",\"sorry\",\"normally\",\"ends\",\"rome\",\"spectrum\",\"cousin\",\"75\",\"suzuki\",\"nights\",\"cap\",\"enable\",\"counselling\",\"proxy\",\"margin\",\"shops\",\"hackers\",\"tatkal\",\"opened\",\"cinema\",\"consumption\",\"coal\",\"silent\",\"choosing\",\"introduction\",\"electromagnetic\",\"hcl\",\"complaint\",\"puppies\",\"vc\",\"symbols\",\"lenses\",\"username\",\"arrow\",\"adopted\",\"affects\",\"sudden\",\"pcm\",\"gel\",\"affair\",\"pinterest\",\"statements\",\"supplements\",\"justified\",\"turns\",\"santa\",\"shoe\",\"trek\",\"headphone\",\"girlfriends\",\"verizon\",\"rocket\",\"conference\",\"ego\",\"srm\",\"afghanistan\",\"nucleus\",\"generated\",\"chinas\",\"ww1\",\"consultancy\",\"socially\",\"allen\",\"berkeley\",\"missed\",\"crying\",\"introduced\",\"ps3\",\"flour\",\"brought\",\"elder\",\"minecraft\",\"9th\",\"freelancer\",\"circles\",\"scars\",\"entertainment\",\"turbine\",\"deeply\",\"rom\",\"evolved\",\"nato\",\"strengths\",\"ide\",\"tweets\",\"scholarships\",\"mentor\",\"collect\",\"hdfc\",\"mandarin\",\"solo\",\"terrible\",\"influential\",\"professionals\",\"65\",\"recognition\",\"nvidia\",\"cia\",\"designs\",\"10k\",\"creation\",\"tom\",\"rated\",\"introverts\",\"boiling\",\"communism\",\"treaty\",\"whereas\",\"thanks\",\"cigarette\",\"bengaluru\",\"oneplus\",\"reserve\",\"advertise\",\"nits\",\"helping\",\"bruce\",\"mp3\",\"severe\",\"proposal\",\"cultures\",\"tap\",\"animated\",\"planes\",\"hall\",\"cognitive\",\"supports\",\"keys\",\"gotten\",\"feedback\",\"recording\",\"proceed\",\"membership\",\"console\",\"overseas\",\"hows\",\"william\",\"billionaires\",\"updated\",\"pre\",\"organizations\",\"messi\",\"unexpected\",\"nitrogen\",\"hungry\",\"nigeria\",\"sync\",\"arduino\",\"gross\",\"outer\",\"searching\",\"workers\",\"outlook\",\"europeans\",\"founder\",\"lectures\",\"legitimate\",\"camp\",\"ordinary\",\"investments\",\"bone\",\"raising\",\"quite\",\"ages\",\"joint\",\"johnson\",\"destination\",\"concerned\",\"belief\",\"refrigerator\",\"implications\",\"manga\",\"mandatory\",\"obamas\",\"lawyers\",\"bedroom\",\"icon\",\"qualifications\",\"qa\",\"bikes\",\"boston\",\"holding\",\"session\",\"appointment\",\"weaknesses\",\"iphones\",\"motorcycle\",\"schizophrenia\",\"5th\",\"intellectual\",\"eaten\",\"attending\",\"medals\",\"adsense\",\"nda\",\"6th\",\"kali\",\"georgia\",\"wechat\",\"earlier\",\"drone\",\"truck\",\"horse\",\"merchant\",\"torque\",\"seed\",\"backend\",\"holmes\",\"graduating\",\"400\",\"bones\",\"sufficient\",\"participate\",\"rifle\",\"shock\",\"downloaded\",\"earthquake\",\"breasts\",\"secretary\",\"insert\",\"damaged\",\"massive\",\"standing\",\"remainder\",\"programme\",\"holocaust\",\"totally\",\"belt\",\"affairs\",\"nokia\",\"mechanism\",\"pin\",\"scan\",\"fought\",\"superpower\",\"poetry\",\"signals\",\"educated\",\"scariest\",\"trains\",\"closer\",\"weapon\",\"icici\",\"serial\",\"bicycle\",\"terminal\",\"finished\",\"stolen\",\"inspiring\",\"cuisine\",\"spark\",\"sounds\",\"pricing\",\"click\",\"underwear\",\"kidney\",\"bengal\",\"invention\",\"discount\",\"chase\",\"evaluate\",\"distributed\",\"themes\",\"amd\",\"stem\",\"st\",\"genre\",\"vegetables\",\"council\",\"bihar\",\"thick\",\"mouse\",\"worry\",\"newly\",\"updates\",\"candy\",\"prepaid\",\"wet\",\"rap\",\"motors\",\"implemented\",\"theoretical\",\"fabric\",\"mexican\",\"portfolio\",\"technique\",\"icse\",\"expansion\",\"evolutionary\",\"justify\",\"trick\",\"attached\",\"lightning\",\"pitch\",\"armed\",\"einstein\",\"conversion\",\"iitjee\",\"declared\",\"admit\",\"acquisition\",\"innovation\",\"runs\",\"wwe\",\"trial\",\"memories\",\"refuse\",\"netherlands\",\"committed\",\"fraud\",\"jailbreak\",\"settle\",\"badly\",\"approved\",\"eligibility\",\"trend\",\"increases\",\"comic\",\"quorans\",\"cellular\",\"matches\",\"receiving\",\"bmw\",\"vlsi\",\"signed\",\"lakes\",\"350\",\"communications\",\"pork\",\"joined\",\"anyway\",\"differentiate\",\"actresses\",\"29\",\"ethics\",\"premier\",\"hearing\",\"vehicles\",\"drama\",\"instant\",\"lips\",\"dates\",\"july\",\"holiday\",\"coach\",\"malayalam\",\"superior\",\"soviet\",\"plate\",\"throw\",\"worship\",\"bars\",\"sharma\",\"mothers\",\"integrated\",\"clubs\",\"bug\",\"melbourne\",\"co\",\"bisexual\",\"regions\",\"lesson\",\"heads\",\"reader\",\"snake\",\"qualify\",\"paul\",\"causing\",\"disappear\",\"era\",\"lets\",\"qualified\",\"spiritual\",\"wolf\",\"requirement\",\"journalism\",\"studied\",\"lowest\",\"vader\",\"coursera\",\"stark\",\"configuration\",\"verbal\",\"undergrad\",\"dimensions\",\"transition\",\"efficiently\",\"interstellar\",\"locked\",\"summary\",\"chandigarh\",\"ghosts\",\"included\",\"operate\",\"dimension\",\"mount\",\"noticed\",\"rating\",\"somewhere\",\"martin\",\"bra\",\"bird\",\"zuckerberg\",\"sensor\",\"audience\",\"dirty\",\"starbucks\",\"permission\",\"residential\",\"wholesale\",\"assets\",\"clearly\",\"km\",\"invade\",\"ipcc\",\"fb\",\"shell\",\"shave\",\"loud\",\"tip\",\"seeds\",\"sets\",\"polar\",\"although\",\"june\",\"judaism\",\"anti\",\"instrument\",\"seven\",\"shooting\",\"j\",\"portal\",\"tower\",\"github\",\"linked\",\"admitted\",\"punishment\",\"mid\",\"micro\",\"cured\",\"lifestyle\",\"nor\",\"upset\",\"challenge\",\"soap\",\"standards\",\"integration\",\"lottery\",\"lab\",\"williams\",\"odd\",\"soil\",\"sensitive\",\"route\",\"tattoos\",\"coin\",\"declare\",\"frame\",\"differential\",\"bowl\",\"softwares\",\"notifications\",\"maintenance\",\"inner\",\"apples\",\"converted\",\"recruiter\",\"bombay\",\"command\",\"posting\",\"controlled\",\"balls\",\"personally\",\"poker\",\"extract\",\"hired\",\"bugs\",\"providers\",\"loans\",\"calculator\",\"attractions\",\"torrents\",\"keywords\",\"profession\",\"blogging\",\"transport\",\"sue\",\"anonymously\",\"compounds\",\"robot\",\"buddhism\",\"sweet\",\"defense\",\"nobody\",\"uc\",\"defined\",\"division\",\"bags\",\"epic\",\"unhealthy\",\"craziest\",\"urban\",\"combination\",\"pair\",\"laugh\",\"cv\",\"usd\",\"launched\",\"usps\",\"visited\",\"nexus\",\"regularly\",\"brothers\",\"broker\",\"concentrate\",\"agreement\",\"nervous\",\"frozen\",\"detail\",\"sir\",\"situations\",\"borderline\",\"angularjs\",\"abusive\",\"tourism\",\"relate\",\"august\",\"communist\",\"accountant\",\"dumb\",\"arab\",\"b2b\",\"du\",\"thermal\",\"asians\",\"threat\",\"karma\",\"passive\",\"homosexuality\",\"putting\",\"quantitative\",\"relativity\",\"sanskrit\",\"opinions\",\"verify\",\"bear\",\"roll\",\"expanding\",\"teenage\",\"jeans\",\"providing\",\"shared\",\"extreme\",\"mi\",\"vr\",\"progress\",\"greece\",\"cpu\",\"ips\",\"merge\",\"reputation\",\"loving\",\"salman\",\"iss\",\"warm\",\"dental\",\"extension\",\"attraction\",\"fictional\",\"journal\",\"login\",\"secondary\",\"recognize\",\"southern\",\"ph\",\"lunch\",\"wallet\",\"ronaldo\",\"larger\",\"actions\",\"fathers\",\"adopt\",\"claims\",\"bottom\",\"therapy\",\"patient\",\"described\",\"virginity\",\"functional\",\"ionic\",\"chartered\",\"discover\",\"55\",\"21st\",\"biased\",\"mad\",\"northern\",\"onto\",\"liberals\",\"premium\",\"neutral\",\"detect\",\"diagram\",\"sperm\",\"ga\",\"bleach\",\"spread\",\"contributions\",\"activate\",\"prior\",\"safest\",\"holder\",\"360\",\"aim\",\"rental\",\"families\",\"everybody\",\"shut\",\"payments\",\"150\",\"cube\",\"vegan\",\"newspaper\",\"beef\",\"houses\",\"preferred\",\"simultaneously\",\"marked\",\"reactions\",\"emergency\",\"protection\",\"cab\",\"forex\",\"norway\",\"immigrants\",\"googles\",\"ssb\",\"wing\",\"yrs\",\"ensure\",\"spy\",\"reasoning\",\"strange\",\"forgive\",\"turkish\",\"tag\",\"ranking\",\"platforms\",\"fox\",\"existed\",\"walmart\",\"lazy\",\"ears\",\"clock\",\"beam\",\"rare\",\"bush\",\"2011\",\"stops\",\"batteries\",\"certified\",\"naked\",\"worldwide\",\"staying\",\"lifetime\",\"ted\",\"lake\",\"wealthy\",\"transit\",\"stephen\",\"rural\",\"versa\",\"pets\",\"commonly\",\"adults\",\"ultimate\",\"genius\",\"vinegar\",\"allows\",\"aid\",\"retirement\",\"airtel\",\"sciences\",\"mountain\",\"drinks\",\"tour\",\"wind\",\"seattle\",\"disabled\",\"bodies\",\"lesbian\",\"governments\",\"kinetic\",\"tumblr\",\"absolute\",\"author\",\"toilet\",\"whey\",\"sleepy\",\"molecular\",\"watches\",\"inventions\",\"rain\",\"34\",\"angular\",\"o\",\"dish\",\"however\",\"agents\",\"abs\",\"switzerland\",\"transformer\",\"clearing\",\"consciousness\",\"broadband\",\"uae\",\"automatic\",\"opposed\",\"geography\",\"astronauts\",\"decisions\",\"cement\",\"induction\",\"luxury\",\"upvotes\",\"politicians\",\"posted\",\"toefl\",\"kitchen\",\"noise\",\"radius\",\"dye\",\"miles\",\"risks\",\"scientifically\",\"mnc\",\"propose\",\"prepared\",\"iiit\",\"mention\",\"equipment\",\"darth\",\"january\",\"surname\",\"raised\",\"attitude\",\"gta\",\"david\",\"hike\",\"awkward\",\"proven\",\"productive\",\"lg\",\"filled\",\"atmosphere\",\"lee\",\"irctc\",\"addicted\",\"dynamic\",\"employment\",\"weekend\",\"replacement\",\"singing\",\"owners\",\"bipolar\",\"tomorrow\",\"poems\",\"default\",\"kvpy\",\"sauce\",\"competitors\",\"russians\",\"sample\",\"crimes\",\"hang\",\"inspired\",\"furniture\",\"throughout\",\"presence\",\"efficiency\",\"leg\",\"biological\",\"pilani\",\"conversations\",\"inspirational\",\"bachelor\",\"centers\",\"withdraw\",\"fundamental\",\"comparison\",\"november\",\"fifa\",\"penalty\",\"algebra\",\"joke\",\"htc\",\"pilots\",\"collapse\",\"texts\",\"vocabulary\",\"moved\",\"sc\",\"smile\",\"october\",\"dot\",\"genetic\",\"architect\",\"url\",\"51\",\"sore\",\"uniform\",\"re\",\"rails\",\"smaller\",\"marine\",\"terrorists\",\"nazi\",\"breast\",\"politician\",\"subtitles\",\"chosen\",\"egypt\",\"thin\",\"packages\",\"editor\",\"bands\",\"mythology\",\"reasonable\",\"permit\",\"acceptable\",\"seriously\",\"iraq\",\"fever\",\"visitor\",\"honest\",\"friction\",\"offering\",\"smarter\",\"ahmedabad\",\"replaced\",\"resolution\",\"burning\",\"bridge\",\"catholic\",\"calendar\",\"resident\",\"policies\",\"forced\",\"leading\",\"arm\",\"deserve\",\"context\",\"coolest\",\"arranged\",\"arizona\",\"comics\",\"harm\",\"democrats\",\"jail\",\"breed\",\"anywhere\",\"psu\",\"christ\",\"violence\",\"agriculture\",\"objective\",\"moments\",\"infinity\",\"supporting\",\"critical\",\"trees\",\"beyond\",\"bag\",\"vitamin\",\"assembly\",\"solved\",\"array\",\"perspective\",\"pas\",\"wwii\",\"skinny\",\"contains\",\"lift\",\"cleaning\",\"peter\",\"aap\",\"pimples\",\"initial\",\"lesserknown\",\"sights\",\"principles\",\"realize\",\"millionaire\",\"faux\",\"orbit\",\"desire\",\"hi\",\"prophet\",\"suits\",\"careers\",\"thinks\",\"quantity\",\"spots\",\"wage\",\"asleep\",\"sociology\",\"guard\",\"units\",\"structural\",\"operation\",\"pants\",\"w\",\"bulk\",\"possibly\",\"drunk\",\"fired\",\"accident\",\"inch\",\"bottle\",\"aerospace\",\"narcissist\",\"ux\",\"angeles\",\"wood\",\"index\",\"safely\",\"robotics\",\"edition\",\"metals\",\"practices\",\"scheme\",\"interior\",\"diabetes\",\"nobel\",\"youth\",\"lived\",\"september\",\"chief\",\"proposed\",\"assuming\",\"sin\",\"counter\",\"disable\",\"introduce\",\"restore\",\"swimming\",\"intern\",\"answering\",\"mentioned\",\"crash\",\"laser\",\"teenagers\",\"presentation\",\"quran\",\"classified\",\"demonetisation\",\"communicate\",\"cotton\",\"autism\",\"anger\",\"environmental\",\"stable\",\"7th\",\"bread\",\"invited\",\"wisdom\",\"wrote\",\"widely\",\"minor\",\"formal\",\"dreaming\",\"managers\",\"escape\",\"pollution\",\"taiwan\",\"verification\",\"los\",\"figures\",\"26\",\"illness\",\"sides\",\"compatible\",\"pack\",\"conspiracy\",\"hedge\",\"flights\",\"dropped\",\"former\",\"suffer\",\"aware\",\"designers\",\"mahabharata\",\"evolve\",\"weigh\",\"dies\",\"fruits\",\"cc\",\"butter\",\"sharing\",\"atoms\",\"tongue\",\"transaction\",\"poverty\",\"suffering\",\"presidents\",\"resistance\",\"adam\",\"civilization\",\"mining\",\"toronto\",\"stick\",\"increased\",\"wild\",\"freelance\",\"removal\",\"aws\",\"rio\",\"principle\",\"asus\",\"cute\",\"consumer\",\"pool\",\"variable\",\"tutorials\",\"advance\",\"keeping\",\"visible\",\"cognizant\",\"equations\",\"rooms\",\"krishna\",\"printer\",\"tooth\",\"mentally\",\"realistic\",\"automobile\",\"cake\",\"tie\",\"beach\",\"ghost\",\"comfortable\",\"mysql\",\"oral\",\"closed\",\"helps\",\"maharashtra\",\"admissions\",\"i5\",\"partners\",\"axis\",\"beliefs\",\"neck\",\"clans\",\"hidden\",\"cyber\",\"voting\",\"bacteria\",\"layer\",\"chhattisgarh\",\"5000\",\"sitting\",\"murder\",\"argument\",\"f\",\"privacy\",\"syndrome\",\"2010\",\"bite\",\"vacation\",\"isro\",\"trouble\",\"records\",\"answered\",\"digit\",\"defeat\",\"childhood\",\"5s\",\"gates\",\"f1\",\"town\",\"anal\",\"copper\",\"talks\",\"affiliate\",\"sociopath\",\"installed\",\"static\",\"copyright\",\"animation\",\"donate\",\"stranger\",\"bcom\",\"destroyed\",\"gujarat\",\"foundation\",\"prize\",\"components\",\"foreigner\",\"arms\",\"unlimited\",\"needing\",\"settings\",\"item\",\"eve\",\"competition\",\"landing\",\"beard\",\"patent\",\"ending\",\"2020\",\"incident\",\"petroleum\",\"florida\",\"particularly\",\"ups\",\"generator\",\"leather\",\"heal\",\"experiment\",\"28\",\"passing\",\"talent\",\"remote\",\"300\",\"published\",\"impossible\",\"steam\",\"80\",\"washing\",\"guilty\",\"punjab\",\"70\",\"album\",\"bullet\",\"paris\",\"interface\",\"agencies\",\"mission\",\"digits\",\"modis\",\"recruitment\",\"manipal\",\"telling\",\"meal\",\"orange\",\"stone\",\"links\",\"ab\",\"upper\",\"cameras\",\"p\",\"combat\",\"passion\",\"shower\",\"thailand\",\"beings\",\"grad\",\"27\",\"finger\",\"jump\",\"lights\",\"ui\",\"bba\",\"sweden\",\"arrive\",\"4th\",\"amendment\",\"window\",\"satellite\",\"al\",\"matlab\",\"jokes\",\"muhammad\",\"expression\",\"booking\",\"dinner\",\"skype\",\"lots\",\"2018\",\"teen\",\"finish\",\"dslr\",\"mens\",\"proud\",\"entrepreneurs\",\"ukraine\",\"coins\",\"scenario\",\"transmission\",\"ignore\",\"pride\",\"contribute\",\"grand\",\"curve\",\"false\",\"operations\",\"breakup\",\"eventually\",\"acquire\",\"commission\",\"lies\",\"spoken\",\"pills\",\"masturbating\",\"jackson\",\"airbnb\",\"delivered\",\"disk\",\"radiation\",\"plays\",\"marvel\",\"particle\",\"breakfast\",\"smartphones\",\"relevant\",\"quota\",\"refund\",\"inches\",\"telugu\",\"angel\",\"eastern\",\"inflation\",\"predict\",\"annoying\",\"obc\",\"tough\",\"conduct\",\"originate\",\"notification\",\"backup\",\"harder\",\"richest\",\"pronounce\",\"sri\",\"wheel\",\"wasnt\",\"oldest\",\"sheet\",\"soda\",\"20s\",\"wipro\",\"awesome\",\"facial\",\"z\",\"noida\",\"confident\",\"fbi\",\"corrupt\",\"succeed\",\"reddit\",\"associate\",\"input\",\"guns\",\"rahul\",\"baking\",\"description\",\"musical\",\"apache\",\"nowadays\",\"fluid\",\"capacity\",\"loose\",\"freshman\",\"cfa\",\"optional\",\"theres\",\"ps4\",\"trends\",\"jon\",\"richard\",\"legit\",\"nodejs\",\"document\",\"sexually\",\"particles\",\"singer\",\"printing\",\"captain\",\"valuable\",\"several\",\"aiims\",\"boot\",\"sit\",\"zone\",\"billionaire\",\"floor\",\"gravitational\",\"export\",\"motivation\",\"golden\",\"transgender\",\"healthcare\",\"heaven\",\"81\",\"leaves\",\"listening\",\"overall\",\"press\",\"dishes\",\"railways\",\"warming\",\"enfield\",\"extent\",\"acceleration\",\"afford\",\"bonds\",\"border\",\"registration\",\"cast\",\"hope\",\"shipping\",\"karnataka\",\"specifically\",\"opportunity\",\"arabia\",\"pump\",\"pg\",\"carrier\",\"plot\",\"kingdom\",\"contract\",\"painful\",\"kindle\",\"boring\",\"essential\",\"disney\",\"charger\",\"seconds\",\"measured\",\"honda\",\"ba\",\"makeup\",\"\\u2013\",\"mini\",\"annual\",\"traits\",\"retrieve\",\"willing\",\"swift\",\"consume\",\"hindus\",\"psychopath\",\"tells\",\"solving\",\"conditions\",\"artists\",\"spotify\",\"bomb\",\"integrate\",\"stuck\",\"nikon\",\"gadgets\",\"womens\",\"judge\",\"republicans\",\"vacuum\",\"felt\",\"putin\",\"tennis\",\"concentration\",\"fans\",\"constantly\",\"matrix\",\"secrets\",\"spot\",\"soft\",\"stored\",\"neural\",\"submit\",\"scores\",\"ola\",\"wire\",\"gdp\",\"jaipur\",\"typically\",\"airline\",\"roles\",\"cheaper\",\"machines\",\"shift\",\"impress\",\"basics\",\"32\",\"conservative\",\"birds\",\"tend\",\"duty\",\"setup\",\"rude\",\"pink\",\"church\",\"mine\",\"jack\",\"sending\",\"cooking\",\"versus\",\"expert\",\"olympic\",\"biotechnology\",\"gurgaon\",\"worked\",\"codes\",\"successfully\",\"hardware\",\"faith\",\"pr\",\"television\",\"compound\",\"vit\",\"universal\",\"thank\",\"grammatically\",\"chicago\",\"ivy\",\"worried\",\"enterprise\",\"sodium\",\"railway\",\"remedies\",\"racism\",\"tracking\",\"psychological\",\"apartment\",\"magazine\",\"martial\",\"beauty\",\"waiting\",\"attacks\",\"horror\",\"fantasy\",\"ma\",\"select\",\"increasing\",\"metro\",\"opt\",\"map\",\"watched\",\"gear\",\"icloud\",\"james\",\"comedy\",\"lollipop\",\"ireland\",\"upcoming\",\"italian\",\"oven\",\"emotionally\",\"decided\",\"lakh\",\"grey\",\"kept\",\"produced\",\"mouth\",\"manual\",\"dhoni\",\"fill\",\"throat\",\"shoot\",\"liked\",\"innovative\",\"immediately\",\"lonely\",\"fighting\",\"max\",\"accidentally\",\"schedule\",\"orgasm\",\"rape\",\"ride\",\"muscles\",\"graduates\",\"taller\",\"boost\",\"lakhs\",\"microwave\",\"electrons\",\"upon\",\"attract\",\"ap\",\"abuse\",\"earths\",\"forever\",\"underrated\",\"facing\",\"terrorist\",\"alien\",\"celebrity\",\"frequently\",\"vpn\",\"wales\",\"powder\",\"superman\",\"mixed\",\"caught\",\"goods\",\"beginning\",\"starts\",\"atomic\",\"associated\",\"triangle\",\"parties\",\"banning\",\"k\",\"honey\",\"monitor\",\"graph\",\"leaders\",\"embedded\",\"juice\",\"split\",\"lady\",\"sequence\",\"911\",\"harassment\",\"nepal\",\"pop\",\"habit\",\"setting\",\"edge\",\"ww2\",\"gps\",\"federal\",\"charged\",\"lying\",\"empty\",\"whenever\",\"airplane\",\"jet\",\"destroy\",\"ies\",\"wouldnt\",\"quick\",\"decrease\",\"robert\",\"pradesh\",\"professors\",\"massage\",\"held\",\"spending\",\"markets\",\"objects\",\"chart\",\"mechanics\",\"silver\",\"usage\",\"basketball\",\"gen\",\"periods\",\"identity\",\"individuals\",\"css\",\"soul\",\"ipod\",\"chest\",\"understanding\",\"coast\",\"classic\",\"spain\",\"babies\",\"sd\",\"hostel\",\"shirt\",\"further\",\"logical\",\"franchise\",\"obtain\",\"foreigners\",\"fully\",\"region\",\"designed\",\"cheated\",\"beneficial\",\"shes\",\"accent\",\"couldnt\",\"queen\",\"sick\",\"blowing\",\"properly\",\"stronger\",\"returns\",\"condition\",\"musk\",\"ugly\",\"teams\",\"filter\",\"snow\",\"glasses\",\"employer\",\"solid\",\"followed\",\"embarrassing\",\"auto\",\"meeting\",\"belong\",\"strike\",\"internships\",\"bachelors\",\"administration\",\"temple\",\"wealth\",\"retail\",\"speakers\",\"electoral\",\"headphones\",\"streaming\",\"mirror\",\"diesel\",\"republic\",\"antivirus\",\"customers\",\"atm\",\"vagina\",\"cigarettes\",\"aptitude\",\"lewis\",\"saudi\",\"puppy\",\"recovery\",\"jimmy\",\"obsessed\",\"domestic\",\"pen\",\"batch\",\"de\",\"drawing\",\"ai\",\"medium\",\"simply\",\"photoshop\",\"sms\",\"turning\",\"nadu\",\"appropriate\",\"adobe\",\"substitute\",\"fruit\",\"recipes\",\"fighter\",\"saving\",\"greater\",\"cheat\",\"routine\",\"push\",\"sherlock\",\"arguments\",\"sony\",\"import\",\"soldiers\",\"charges\",\"emotions\",\"ibm\",\"un\",\"innovations\",\"itunes\",\"consultant\",\"iims\",\"relations\",\"psychopaths\",\"existing\",\"angle\",\"clash\",\"bus\",\"australian\",\"crazy\",\"pull\",\"theories\",\"savings\",\"suit\",\"contrast\",\"calculus\",\"pi\",\"credits\",\"bluetooth\",\"himself\",\"traveling\",\"criminal\",\"xiaomi\",\"zealand\",\"seats\",\"electron\",\"script\",\"11th\",\"lessons\",\"programmers\",\"december\",\"flag\",\"singh\",\"arabic\",\"sale\",\"nfl\",\"grammar\",\"killing\",\"virgin\",\"differently\",\"poem\",\"provided\",\"automation\",\"shy\",\"translation\",\"mathematical\",\"45\",\"celebrities\",\"spring\",\"downloading\",\"dr\",\"organization\",\"majority\",\"clients\",\"hd\",\"motivate\",\"thats\",\"thesis\",\"door\",\"weakest\",\"saw\",\"canon\",\"younger\",\"costs\",\"river\",\"rings\",\"factory\",\"decent\",\"clintons\",\"holes\",\"desert\",\"divorce\",\"sold\",\"cheese\",\"atom\",\"taught\",\"minute\",\"ocean\",\"crisis\",\"represent\",\"surgical\",\"parent\",\"brexit\",\"possibility\",\"longest\",\"edit\",\"scholarship\",\"motivated\",\"chocolate\",\"faced\",\"90\",\"parallel\",\"foot\",\"examination\",\"friendly\",\"kinds\",\"wins\",\"islamic\",\"degrees\",\"registered\",\"distribution\",\"junior\",\"gave\",\"sing\",\"articles\",\"hadoop\",\"saved\",\"hero\",\"ear\",\"asks\",\"improved\",\"teenager\",\"forms\",\"wash\",\"provides\",\"washington\",\"strikes\",\"binary\",\"syria\",\"indonesia\",\"powers\",\"highly\",\"heshe\",\"happiness\",\"director\",\"citizenship\",\"knew\",\"humanity\",\"translate\",\"nba\",\"permanently\",\"soccer\",\"todays\",\"challenges\",\"barack\",\"title\",\"latin\",\"fitness\",\"genuine\",\"investor\",\"dislike\",\"scenes\",\"hacker\",\"bangladesh\",\"ebay\",\"earning\",\"dell\",\"paytm\",\"spouse\",\"bored\",\"roman\",\"official\",\"dragon\",\"park\",\"except\",\"habits\",\"quote\",\"astrology\",\"congress\",\"automatically\",\"island\",\"religions\",\"christianity\",\"supreme\",\"owner\",\"hell\",\"wikipedia\",\"cancel\",\"industries\",\"actress\",\"client\",\"visual\",\"michael\",\"remain\",\"ability\",\"concrete\",\"conflict\",\"string\",\"linear\",\"supposed\",\"engines\",\"2012\",\"\\u2018\",\"lesser\",\"traditional\",\"episodes\",\"goals\",\"tata\",\"opening\",\"target\",\"weak\",\"anonymous\",\"bjp\",\"resource\",\"concepts\",\"ruby\",\"friendship\",\"nyc\",\"pretty\",\"implement\",\"painting\",\"ill\",\"agency\",\"reverse\",\"confused\",\"italy\",\"response\",\"yellow\",\"dance\",\"contain\",\"vice\",\"editing\",\"acting\",\"weirdest\",\"feels\",\"govt\",\"accounting\",\"rise\",\"wise\",\"leaving\",\"lens\",\"artist\",\"arvind\",\"pattern\",\"scared\",\"attention\",\"airlines\",\"sky\",\"malaysia\",\"port\",\"attempt\",\"element\",\"classical\",\"shown\",\"safety\",\"including\",\"tablet\",\"la\",\"terrorism\",\"commit\",\"maps\",\"african\",\"viewed\",\"calling\",\"6s\",\"agent\",\"output\",\"justice\",\"don\",\"addiction\",\"lock\",\"vegetarian\",\"britain\",\"percent\",\"meditation\",\"ibps\",\"monthly\",\"writers\",\"forward\",\"stuff\",\"mr\",\"ready\",\"forgot\",\"flying\",\"recommended\",\"fields\",\"blind\",\"l\",\"hinduism\",\"desktop\",\"host\",\"tattoo\",\"maintain\",\"boards\",\"helpful\",\"semester\",\"load\",\"tier\",\"agree\",\"factor\",\"elon\",\"freshers\",\"sql\",\"cases\",\"exact\",\"confidence\",\"behavior\",\"hacked\",\"quotes\",\"hydrogen\",\"pakistani\",\"masturbate\",\"divided\",\"skill\",\"fine\",\"falling\",\"chess\",\"charging\",\"pages\",\"vector\",\"supporters\",\"waste\",\"sanders\",\"affordable\",\"unlock\",\"techniques\",\"wine\",\"keyboard\",\"cm\",\"wireless\",\"lawyer\",\"egg\",\"cope\",\"mindblowing\",\"recipe\",\"corruption\",\"scored\",\"secure\",\"teaching\",\"opposite\",\"educational\",\"bernie\",\"y\",\"library\",\"models\",\"kid\",\"stack\",\"separate\",\"19\",\"extremely\",\"properties\",\"cable\",\"magic\",\"removed\",\"computing\",\"hospital\",\"beer\",\"christians\",\"twice\",\"kg\",\"consulting\",\"whose\",\"serious\",\"petrol\",\"travelling\",\"revolution\",\"custom\",\"structures\",\"guide\",\"celebrate\",\"lenovo\",\"turned\",\"ielts\",\"grades\",\"fuel\",\"relative\",\"oracle\",\"academy\",\"lack\",\"passed\",\"relation\",\"values\",\"movement\",\"strategies\",\"eu\",\"emotional\",\"legs\",\"pokemon\",\"3g\",\"iran\",\"mostly\",\"jewish\",\"offered\",\"log\",\"hasnt\",\"explanation\",\"signal\",\"stores\",\"syllabus\",\"bits\",\"yoga\",\"weapons\",\"gods\",\"10000\",\"delivery\",\"gb\",\"sum\",\"letters\",\"venture\",\"selection\",\"winning\",\"35\",\"comment\",\"consequences\",\"sport\",\"items\",\"seems\",\"ring\",\"jealous\",\"laptops\",\"criteria\",\"fresh\",\"reference\",\"bitcoin\",\"infinite\",\"perform\",\"brazil\",\"density\",\"plans\",\"hosting\",\"clothing\",\"hong\",\"dying\",\"heavy\",\"steve\",\"gone\",\"damage\",\"missing\",\"ethical\",\"republican\",\"contacts\",\"activity\",\"electronic\",\"qualities\",\"piano\",\"hisher\",\"repair\",\"posts\",\"disease\",\"winter\",\"ten\",\"publish\",\"paint\",\"physically\",\"executive\",\"deposit\",\"elements\",\"xbox\",\"ceo\",\"visitors\",\"discovered\",\"tickets\",\"literature\",\"primary\",\"naturally\",\"senior\",\"u\",\"hardest\",\"debate\",\"frequency\",\"vietnam\",\"cry\",\"assistant\",\"gifts\",\"practical\",\"funny\",\"valid\",\"liberal\",\"refer\",\"beat\",\"shape\",\"institutes\",\"msc\",\"internal\",\"located\",\"significant\",\"scientists\",\"g\",\"ship\",\"proper\",\"independence\",\"added\",\"hes\",\"catch\",\"urine\",\"effectively\",\"named\",\"responsible\",\"strength\",\"whos\",\"immigration\",\"vehicle\",\"tesla\",\"kong\",\"meth\",\"england\",\"huge\",\"pizza\",\"rejected\",\"george\",\"fan\",\"salt\",\"browser\",\"sat\",\"loved\",\"fees\",\"walking\",\"symbol\",\"equity\",\"ubuntu\",\"alternatives\",\"theme\",\"virus\",\"manufacturing\",\"cutoff\",\"pure\",\"22\",\"introvert\",\"unable\",\"greek\",\"rice\",\"gst\",\"happening\",\"centre\",\"kiss\",\"prison\",\"bigger\",\"font\",\"construction\",\"exercises\",\"keeps\",\"gmat\",\"offers\",\"cross\",\"nasa\",\"unit\",\"advertising\",\"cup\",\"fixed\",\"limited\",\"billion\",\"subjects\",\"arts\",\"worlds\",\"stupid\",\"breaking\",\"funding\",\"tank\",\"generate\",\"efficient\",\"exists\",\"atheist\",\"entrepreneur\",\"direction\",\"broken\",\"offline\",\"firms\",\"station\",\"magnetic\",\"include\",\"aliens\",\"tinder\",\"logo\",\"photography\",\"worse\",\"besides\",\"path\",\"somebody\",\"interviews\",\"persons\",\"figure\",\"placed\",\"nation\",\"knows\",\"unmarried\",\"hp\",\"profitable\",\"tricks\",\"boss\",\"reply\",\"scam\",\"circle\",\"processor\",\"debt\",\"growing\",\"royal\",\"fiction\",\"department\",\"mistake\",\"weird\",\"graphics\",\"external\",\"article\",\"volume\",\"scratch\",\"chain\",\"protect\",\"storage\",\"texas\",\"liquid\",\"circuit\",\"graphic\",\"tired\",\"weather\",\"oxygen\",\"velocity\",\"dad\",\"band\",\"teachers\",\"drugs\",\"complex\",\"studio\",\"accenture\",\"leader\",\"levels\",\"goal\",\"logic\",\"acne\",\"plastic\",\"motion\",\"button\",\"peoples\",\"vision\",\"gap\",\"dollar\",\"computers\",\"stomach\",\"sources\",\"constant\",\"draw\",\"dress\",\"calculated\",\"sort\",\"3rd\",\"club\",\"channels\",\"creating\",\"candidates\",\"kejriwal\",\"broke\",\"sentences\",\"format\",\"emails\",\"raw\",\"stanford\",\"completed\",\"documents\",\"pan\",\"showing\",\"enter\",\"unknown\",\"bought\",\"router\",\"claim\",\"six\",\"technologies\",\"\\u20b9\",\"flipkart\",\"infosys\",\"mutual\",\"angry\",\"iits\",\"affected\",\"prices\",\"shares\",\"naruto\",\"processing\",\"finding\",\"democratic\",\"evolution\",\"harmful\",\"dual\",\"virtual\",\"member\",\"wave\",\"actual\",\"extra\",\"radio\",\"citizens\",\"e\",\"hr\",\"previous\",\"stopped\",\"walk\",\"redmi\",\"speaker\",\"torrent\",\"smoke\",\"mistakes\",\"flash\",\"iron\",\"entire\",\"individual\",\"express\",\"flow\",\"mode\",\"aircraft\",\"section\",\"planets\",\"10th\",\"respond\",\"easier\",\"evil\",\"percentile\",\"seeing\",\"calories\",\"upgrade\",\"professor\",\"v\",\"launch\",\"staff\",\"till\",\"silicon\",\"entry\",\"constitution\",\"century\",\"notice\",\"ie\",\"atheists\",\"tests\",\"21\",\"became\",\"kerala\",\"truly\",\"count\",\"essay\",\"papers\",\"accurate\",\"colors\",\"respect\",\"ideal\",\"rock\",\"reliance\",\"peace\",\"masturbation\",\"audio\",\"random\",\"independent\",\"colour\",\"hotels\",\"presidency\",\"generation\",\"paypal\",\"shot\",\"central\",\"released\",\"occur\",\"display\",\"industrial\",\"particular\",\"risk\",\"eg\",\"belly\",\"pet\",\"similarities\",\"organic\",\"marijuana\",\"networks\",\"aspects\",\"flat\",\"d\",\"comments\",\"nose\",\"identify\",\"rbi\",\"improvement\",\"directly\",\"framework\",\"suggestions\",\"designing\",\"brands\",\"religious\",\"influence\",\"novels\",\"statistics\",\"historical\",\"ground\",\"commerce\",\"pregnancy\",\"romantic\",\"failure\",\"wearing\",\"john\",\"apart\",\"bay\",\"symptoms\",\"200\",\"couple\",\"60\",\"canadian\",\"lie\",\"print\",\"carry\",\"gender\",\"experienced\",\"pounds\",\"reservation\",\"either\",\"stage\",\"artificial\",\"fit\",\"blogs\",\"developing\",\"environment\",\"learned\",\"copy\",\"phase\",\"bond\",\"democracy\",\"cgpa\",\"operating\",\"surface\",\"officers\",\"h1b\",\"ip\",\"workout\",\"fee\",\"elected\",\"hands\",\"largest\",\"sad\",\"shouldnt\",\"seat\",\"sister\",\"developers\",\"despite\",\"scene\",\"po\",\"diploma\",\"request\",\"empire\",\"ratio\",\"considering\",\"academic\",\"tree\",\"register\",\"advantage\",\"eligible\",\"nit\",\"shop\",\"intel\",\"funniest\",\"alternative\",\"fail\",\"ads\",\"nature\",\"miss\",\"involved\",\"overrated\",\"attend\",\"freedom\",\"dna\",\"beginners\",\"raise\",\"dry\",\"failed\",\"legally\",\"batman\",\"upload\",\"carbon\",\"regret\",\"applied\",\"points\",\"investors\",\"pick\",\"equivalent\",\"connected\",\"christmas\",\"lyrics\",\"nations\",\"caused\",\"bsc\",\"1st\",\"action\",\"activities\",\"biology\",\"hide\",\"asia\",\"takes\",\"require\",\"alive\",\"mom\",\"cycle\",\"generally\",\"campaign\",\"fair\",\"wake\",\"bit\",\"rules\",\"olympics\",\"racist\",\"areas\",\"eggs\",\"feature\",\"sap\",\"taxes\",\"ad\",\"shall\",\"theyre\",\"species\",\"pilot\",\"firm\",\"fish\",\"define\",\"doctors\",\"piece\",\"itself\",\"bang\",\"solutions\",\"iim\",\"2013\",\"wanted\",\"length\",\"burn\",\"waves\",\"bar\",\"gives\",\"forces\",\"christian\",\"anybody\",\"relationships\",\"nice\",\"wedding\",\"various\",\"brother\",\"films\",\"cream\",\"suddenly\",\"philippines\",\"fashion\",\"truth\",\"gpa\",\"cgl\",\"tall\",\"goa\",\"hacking\",\"statement\",\"reset\",\"materials\",\"played\",\"match\",\"usb\",\"novel\",\"unusual\",\"knowing\",\"selected\",\"valley\",\"chrome\",\"couples\",\"becomes\",\"died\",\"cheating\",\"community\",\"groups\",\"category\",\"pursuing\",\"writer\",\"mexico\",\"anymore\",\"sugar\",\"climate\",\"brown\",\"players\",\"ii\",\"reviews\",\"took\",\"led\",\"connection\",\"begin\",\"html\",\"changing\",\"received\",\"plants\",\"debit\",\"record\",\"revenue\",\"mars\",\"strongest\",\"members\",\"formed\",\"union\",\"thought\",\"existence\",\"kashmir\",\"gandhi\",\"pdf\",\"banned\",\"0\",\"plane\",\"treated\",\"electricity\",\"scale\",\"basis\",\"moral\",\"images\",\"methods\",\"certification\",\"voltage\",\"style\",\"base\",\"excel\",\"amazing\",\"regarding\",\"result\",\"rates\",\"hold\",\"indias\",\"airport\",\"businesses\",\"feet\",\"built\",\"linkedin\",\"signs\",\"above\",\"networking\",\"r\",\"shopping\",\"looks\",\"went\",\"placements\",\"bed\",\"experiences\",\"daughter\",\"tourist\",\"employee\",\"caste\",\"wait\",\"direct\",\"especially\",\"feed\",\"continue\",\"expected\",\"algorithm\",\"depressed\",\"shoes\",\"soon\",\"supply\",\"stress\",\"24\",\"inr\",\"foods\",\"rent\",\"architecture\",\"ban\",\"entrance\",\"actors\",\"messenger\",\"unique\",\"kolkata\",\"funds\",\"rupee\",\"promote\",\"rupees\",\"jews\",\"23\",\"cook\",\"cultural\",\"accepted\",\"hear\",\"glass\",\"road\",\"joining\",\"measure\",\"havent\",\"metal\",\"resume\",\"afraid\",\"turkey\",\"meat\",\"goes\",\"installation\",\"netflix\",\"benefit\",\"demand\",\"release\",\"produce\",\"report\",\"cover\",\"changes\",\"double\",\"2nd\",\"reaction\",\"killed\",\"steel\",\"requirements\",\"france\",\"exchange\",\"ac\",\"quantum\",\"reliable\",\"box\",\"results\",\"lives\",\"treatment\",\"4g\",\"ece\",\"probability\",\"sleeping\",\"philosophy\",\"handle\",\"forget\",\"driver\",\"demonetization\",\"algorithms\",\"trade\",\"rule\",\"muscle\",\"calls\",\"tried\",\"mental\",\"sure\",\"quit\",\"navy\",\"achieve\",\"francisco\",\"location\",\"until\",\"sense\",\"anxiety\",\"wordpress\",\"focus\",\"fact\",\"production\",\"conversation\",\"motor\",\"five\",\"attracted\",\"hit\",\"analyst\",\"moto\",\"isis\",\"chicken\",\"sector\",\"permanent\",\"along\",\"king\",\"slow\",\"candidate\",\"minutes\",\"purchase\",\"gun\",\"selling\",\"usually\",\"\\u2026\",\"fly\",\"round\",\"panel\",\"error\",\"stocks\",\"api\",\"remember\",\"africa\",\"paying\",\"hitler\",\"3d\",\"regular\",\"losing\",\"mail\",\"yahoo\",\"cheapest\",\"older\",\"concept\",\"characters\",\"definition\",\"lines\",\"pm\",\"cloud\",\"cats\",\"russian\",\"ipad\",\"korean\",\"proof\",\"battle\",\"stars\",\"stream\",\"recent\",\"typical\",\"performance\",\"harvard\",\"restaurant\",\"origin\",\"listen\",\"smell\",\"decide\",\"serve\",\"undergraduate\",\"profit\",\"situation\",\"surgery\",\"asking\",\"plant\",\"link\",\"square\",\"completing\",\"four\",\"trust\",\"payment\",\"gym\",\"andor\",\"worklife\",\"guitar\",\"elections\",\"half\",\"investing\",\"scientist\",\"street\",\"needs\",\"native\",\"thoughts\",\"reality\",\"40\",\"medicine\",\"race\",\"choice\",\"longer\",\"came\",\"applying\",\"hiring\",\"west\",\"weed\",\"hacks\",\"step\",\"sea\",\"crime\",\"devices\",\"event\",\"citizen\",\"14\",\"17\",\"ticket\",\"fund\",\"equation\",\"suicide\",\"whom\",\"met\",\"almost\",\"designer\",\"local\",\"departments\",\"khan\",\"customer\",\"banking\",\"javascript\",\"trip\",\"issue\",\"react\",\"cannot\",\"dubai\",\"wall\",\"touch\",\"parts\",\"loves\",\"clothes\",\"straight\",\"sexual\",\"active\",\"inpatient\",\"dreams\",\"protein\",\"table\",\"exercise\",\"lord\",\"mtech\",\"creative\",\"ball\",\"speaking\",\"son\",\"receive\",\"dollars\",\"domain\",\"prospects\",\"hour\",\"graduation\",\"commercial\",\"themselves\",\"factors\",\"jesus\",\"programmer\",\"recommend\",\"replace\",\"chat\",\"placement\",\"episode\",\"fastest\",\"restaurants\",\"object\",\"drivers\",\"gaming\",\"mark\",\"taste\",\"seem\",\"perfect\",\"potential\",\"trumps\",\"appear\",\"rights\",\"equal\",\"rest\",\"package\",\"meant\",\"drop\",\"cool\",\"material\",\"potter\",\"events\",\"convince\",\"completely\",\"n\",\"zero\",\"significance\",\"lower\",\"feelings\",\"followers\",\"evidence\",\"certain\",\"later\",\"original\",\"bible\",\"disorder\",\"testing\",\"via\",\"stand\",\"actor\",\"characteristics\",\"cities\",\"reach\",\"ago\",\"mbbs\",\"speech\",\"electric\",\"approach\",\"scientific\",\"root\",\"analytics\",\"below\",\"grade\",\"mains\",\"topic\",\"fun\",\"ancient\",\"adult\",\"standard\",\"ice\",\"everyday\",\"population\",\"invented\",\"european\",\"intelligent\",\"11\",\"subject\",\"rehab\",\"background\",\"giving\",\"platform\",\"flight\",\"thrones\",\"maths\",\"dc\",\"teeth\",\"mit\",\"weeks\",\"east\",\"means\",\"programs\",\"beginner\",\"heat\",\"third\",\"tea\",\"range\",\"london\",\"maximum\",\"enjoy\",\"2000\",\"cells\",\"quickly\",\"here\",\"expensive\",\"phrase\",\"partner\",\"league\",\"anime\",\"latest\",\"specific\",\"whether\",\"functions\",\"os\",\"fire\",\"saying\",\"secret\",\"13\",\"planet\",\"hole\",\"super\",\"teacher\",\"strong\",\"accounts\",\"minister\",\"database\",\"economic\",\"channel\",\"estate\",\"ram\",\"switch\",\"asian\",\"smoking\",\"branch\",\"israel\",\"18\",\"features\",\"success\",\"lead\",\"total\",\"key\",\"master\",\"ok\",\"favourite\",\"psychology\",\"pok\\u00e9mon\",\"nothing\",\"clean\",\"25\",\"politics\",\"drinking\",\"sometimes\",\"recently\",\"korea\",\"sent\",\"poor\",\"hindu\",\"hollywood\",\"survive\",\"cure\",\"property\",\"return\",\"narendra\",\"budget\",\"sports\",\"limit\",\"arent\",\"boys\",\"driving\",\"whole\",\"cash\",\"smartphone\",\"php\",\"developed\",\"ssc\",\"hot\",\"attractive\",\"tool\",\"physical\",\"ecommerce\",\"sbi\",\"morning\",\"animal\",\"multiple\",\"loan\",\"acid\",\"fresher\",\"spanish\",\"moving\",\"decision\",\"county\",\"determined\",\"becoming\",\"seo\",\"summer\",\"manage\",\"server\",\"competitive\",\"milk\",\"importance\",\"banks\",\"cheap\",\"powerful\",\"issues\",\"penis\",\"according\",\"analysis\",\"bike\",\"position\",\"western\",\"advanced\",\"campus\",\"highest\",\"front\",\"court\",\"status\",\"gravity\",\"positions\",\"comes\",\"steps\",\"complete\",\"electronics\",\"won\",\"hurt\",\"certificate\",\"temperature\",\"player\",\"someones\",\"communication\",\"million\",\"talking\",\"preparing\",\"finance\",\"cancer\",\"9\",\"harry\",\"accept\",\"2014\",\"plus\",\"born\",\"tcs\",\"license\",\"bring\",\"teach\",\"practice\",\"trading\",\"m\",\"might\",\"opportunities\",\"global\",\"wish\",\"outside\",\"attack\",\"procedure\",\"needed\",\"update\",\"coffee\",\"provider\",\"rather\",\"16\",\"allow\",\"tamil\",\"mix\",\"connect\",\"room\",\"watching\",\"deep\",\"york\",\"image\",\"birth\",\"sign\",\"birthday\",\"playing\",\"wars\",\"grads\",\"hire\",\"phones\",\"cbse\",\"details\",\"clear\",\"cricket\",\"dangerous\",\"track\",\"corporate\",\"voice\",\"upsc\",\"content\",\"okay\",\"san\",\"heart\",\"far\",\"heard\",\"prove\",\"positive\",\"moment\",\"sales\",\"opinion\",\"engineers\",\"block\",\"diet\",\"coding\",\"core\",\"baby\",\"father\",\"little\",\"large\",\"blocked\",\"distance\",\"land\",\"simple\",\"husband\",\"told\",\"traffic\",\"prevent\",\"pictures\",\"planning\",\"fear\",\"classes\",\"towards\",\"technical\",\"building\",\"trying\",\"photo\",\"early\",\"uses\",\"sydney\",\"startups\",\"act\",\"id\",\"describe\",\"12th\",\"may\",\"formula\",\"gets\",\"present\",\"wont\",\"cut\",\"treat\",\"mathematics\",\"visiting\",\"eye\",\"policy\",\"close\",\"cse\",\"suitable\",\"version\",\"tools\",\"head\",\"minimum\",\"chennai\",\"easily\",\"method\",\"intelligence\",\"gre\",\"mother\",\"doctor\",\"macbook\",\"deleted\",\"gas\",\"suggest\",\"cards\",\"files\",\"loss\",\"art\",\"easiest\",\"late\",\"among\",\"together\",\"depression\",\"higher\",\"alone\",\"economics\",\"dead\",\"growth\",\"insurance\",\"gold\",\"necessary\",\"neet\",\"blog\",\"example\",\"memory\",\"crack\",\"consider\",\"works\",\"currency\",\"recruit\",\"pursue\",\"strategy\",\"young\",\"cs\",\"projects\",\"50\",\"manager\",\"abroad\",\"schools\",\"illegal\",\"inside\",\"stories\",\"hand\",\"t\",\"greatest\",\"personality\",\"galaxy\",\"device\",\"views\",\"user\",\"chemistry\",\"cars\",\"iq\",\"prefer\",\"picture\",\"nuclear\",\"middle\",\"applications\",\"gmail\",\"laws\",\"final\",\"capital\",\"kids\",\"society\",\"fake\",\"bill\",\"save\",\"though\",\"likely\",\"determine\",\"shows\",\"character\",\"snapchat\",\"youre\",\"eyes\",\"islam\",\"marry\",\"brand\",\"yet\",\"impact\",\"speak\",\"within\",\"rich\",\"resources\",\"net\",\"non\",\"pressure\",\"changed\",\"allowed\",\"obama\",\"cold\",\"running\",\"feeling\",\"jio\",\"football\",\"gift\",\"written\",\"buying\",\"mac\",\"spend\",\"prime\",\"blue\",\"train\",\"studies\",\"negative\",\"thinking\",\"solution\",\"sun\",\"least\",\"following\",\"install\",\"else\",\"muslims\",\"camera\",\"vote\",\"linux\",\"expect\",\"german\",\"recover\",\"starting\",\"crush\",\"coming\",\"muslim\",\"modern\",\"battery\",\"provide\",\"access\",\"presidential\",\"interest\",\"dating\",\"pro\",\"likes\",\"french\",\"singapore\",\"useful\",\"already\",\"professional\",\"percentage\",\"drink\",\"created\",\"board\",\"passport\",\"structure\",\"case\",\"height\",\"microsoft\",\"break\",\"screen\",\"names\",\"chance\",\"special\",\"30\",\"skin\",\"natural\",\"color\",\"interested\",\"amount\",\"pain\",\"healthy\",\"hack\",\"messages\",\"ias\",\"gay\",\"disadvantages\",\"pass\",\"moon\",\"systems\",\"hindi\",\"financial\",\"taken\",\"yes\",\"sim\",\"pregnant\",\"faster\",\"animals\",\"internship\",\"let\",\"photos\",\"balance\",\"sound\",\"due\",\"knowledge\",\"charge\",\"message\",\"officer\",\"solar\",\"military\",\"meet\",\"option\",\"reading\",\"across\",\"overcome\",\"everyone\",\"everything\",\"wife\",\"reduce\",\"chances\",\"samsung\",\"income\",\"bollywood\",\"season\",\"europe\",\"boy\",\"currently\",\"ex\",\"smart\",\"california\",\"engine\",\"paid\",\"army\",\"contact\",\"address\",\"wants\",\"ones\",\"gain\",\"reasons\",\"avoid\",\"please\",\"note\",\"known\",\"pune\",\"film\",\"national\",\"once\",\"users\",\"porn\",\"scope\",\"twitter\",\"drug\",\"rank\",\"japan\",\"fight\",\"transfer\",\"political\",\"green\",\"news\",\"self\",\"uber\",\"basic\",\"british\",\"religion\",\"hyderabad\",\"topics\",\"explain\",\"phd\",\"eating\",\"letter\",\"calculate\",\"ive\",\"tech\",\"personal\",\"japanese\",\"check\",\"hotel\",\"wifi\",\"beautiful\",\"difficult\",\"paper\",\"languages\",\"investment\",\"develop\",\"north\",\"electrical\",\"ios\",\"alcohol\",\"exactly\",\"profile\",\"past\",\"exams\",\"ca\",\"convert\",\"vs\",\"understand\",\"care\",\"dream\",\"try\",\"americans\",\"lost\",\"chemical\",\"source\",\"b\",\"admission\",\"easy\",\"must\",\"three\",\"effect\",\"view\",\"options\",\"page\",\"away\",\"red\",\"said\",\"line\",\"short\",\"happy\",\"security\",\"dark\",\"preparation\",\"second\",\"fat\",\"matter\",\"few\",\"since\",\"role\",\"pc\",\"office\",\"team\",\"delete\",\"cell\",\"election\",\"economy\",\"term\",\"dogs\",\"text\",\"female\",\"effective\",\"brain\",\"share\",\"digital\",\"btech\",\"russia\",\"\\u201c\",\"party\",\"numbers\",\"20\",\"store\",\"male\",\"mass\",\"turn\",\"left\",\"married\",\"rs\",\"taking\",\"those\",\"password\",\"follow\",\"advice\",\"isnt\",\"15\",\"types\",\"network\",\"\\u201d\",\"week\",\"purpose\",\"related\",\"fix\",\"started\",\"courses\",\"masters\",\"grow\",\"8\",\"fast\",\"leave\",\"100\",\"often\",\"found\",\"pros\",\"marriage\",\"cons\",\"quality\",\"words\",\"kill\",\"price\",\"near\",\"modi\",\"enough\",\"search\",\"python\",\"x\",\"blood\",\"math\",\"yourself\",\"drive\",\"size\",\"star\",\"graduate\",\"majors\",\"500\",\"model\",\"studying\",\"general\",\"oil\",\"colleges\",\"area\",\"developer\",\"germany\",\"industry\",\"full\",\"training\",\"says\",\"period\",\"videos\",\"universe\",\"fall\",\"daily\",\"information\",\"foreign\",\"credit\",\"force\",\"12\",\"youve\",\"south\",\"offer\",\"set\",\"add\",\"send\",\"australia\",\"center\",\"1000\",\"famous\",\"2015\",\"lot\",\"function\",\"tax\",\"correct\",\"solve\",\"advantages\",\"coaching\",\"institute\",\"effects\",\"guys\",\"again\",\"group\",\"hours\",\"side\",\"sentence\",\"low\",\"similar\",\"plan\",\"children\",\"answers\",\"talk\",\"marks\",\"ideas\",\"theory\",\"death\",\"compared\",\"night\",\"remove\",\"dog\",\"anything\",\"single\",\"successful\",\"gate\",\"indians\",\"put\",\"problems\",\"move\",\"writing\",\"point\",\"invest\",\"asked\",\"biggest\",\"others\",\"stock\",\"notes\",\"story\",\"machine\",\"private\",\"sell\",\"seen\",\"required\",\"field\",\"file\",\"rate\",\"humans\",\"application\",\"face\",\"sites\",\"mind\",\"facts\",\"mumbai\",\"post\",\"stay\",\"child\",\"terms\",\"products\",\"control\",\"legal\",\"police\",\"didnt\",\"level\",\"worst\",\"hate\",\"visit\",\"called\",\"amazon\",\"causes\",\"health\",\"form\",\"physics\",\"iit\",\"skills\",\"times\",\"medical\",\"based\",\"list\",\"websites\",\"die\",\"part\",\"less\",\"benefits\",\"apple\",\"instead\",\"these\",\"boyfriend\",\"sleep\",\"canada\",\"reason\",\"education\",\"cause\",\"jee\",\"value\",\"today\",\"media\",\"public\",\"happened\",\"product\",\"research\",\"main\",\"behind\",\"international\",\"project\",\"uk\",\"differ\",\"7\",\"places\",\"wear\",\"order\",\"date\",\"etc\",\"small\",\"songs\",\"apps\",\"email\",\"given\",\"wrong\",\"site\",\"normal\",\"culture\",\"also\",\"civil\",\"city\",\"available\",\"house\",\"exist\",\"startup\",\"services\",\"ms\",\"both\",\"down\",\"2017\",\"run\",\"cat\",\"well\",\"space\",\"join\",\"deal\",\"games\",\"visa\",\"rid\",\"air\",\"speed\",\"popular\",\"problem\",\"support\",\"current\",\"pakistan\",\"choose\",\"build\",\"idea\",\"america\",\"whatsapp\",\"affect\",\"law\",\"technology\",\"call\",\"6\",\"universities\",\"family\",\"marketing\",\"major\",\"actually\",\"favorite\",\"light\",\"bangalore\",\"woman\",\"because\",\"type\",\"program\",\"looking\",\"living\",\"open\",\"believe\",\"month\",\"able\",\"management\",\"travel\",\"degree\",\"show\",\"interesting\",\"score\",\"months\",\"series\",\"chinese\",\"development\",\"end\",\"code\",\"design\",\"per\",\"employees\",\"review\",\"clinton\",\"common\",\"kind\",\"internet\",\"song\",\"download\",\"course\",\"parents\",\"jobs\",\"such\",\"increase\",\"java\",\"god\",\"another\",\"united\",\"girlfriend\",\"mechanical\",\"always\",\"next\",\"never\",\"around\",\"tips\",\"mba\",\"myself\",\"hillary\",\"apply\",\"answer\",\"something\",\"considered\",\"making\",\"differences\",\"market\",\"compare\",\"great\",\"keep\",\"test\",\"s\",\"win\",\"against\",\"states\",\"earn\",\"youtube\",\"worth\",\"delhi\",\"energy\",\"laptop\",\"american\",\"lose\",\"each\",\"hard\",\"makes\",\"age\",\"ask\",\"safe\",\"body\",\"power\",\"salary\",\"4\",\"watch\",\"white\",\"windows\",\"instagram\",\"history\",\"pay\",\"every\",\"last\",\"create\",\"relationship\",\"music\",\"too\",\"meaning\",\"state\",\"average\",\"earth\",\"got\",\"process\",\"class\",\"tv\",\"eat\",\"done\",\"happens\",\"days\",\"big\",\"off\",\"improve\",\"future\",\"place\",\"man\",\"human\",\"government\",\"play\",\"countries\",\"food\",\"service\",\"students\",\"weight\",\"game\",\"engineer\",\"write\",\"very\",\"interview\",\"web\",\"tell\",\"social\",\"girls\",\"video\",\"look\",\"having\",\"guy\",\"home\",\"hair\",\"usa\",\"doesnt\",\"word\",\"bank\",\"friend\",\"true\",\"experience\",\"career\",\"president\",\"question\",\"own\",\"china\",\"come\",\"under\",\"working\",\"him\",\"doing\",\"donald\",\"friends\",\"right\",\"5\",\"cost\",\"mobile\",\"even\",\"movies\",\"then\",\"c\",\"\\u2019\",\"exam\",\"men\",\"learning\",\"card\",\"war\",\"read\",\"programming\",\"black\",\"anyone\",\"high\",\"10\",\"companies\",\"car\",\"getting\",\"give\",\"important\",\"questions\",\"cant\",\"iphone\",\"website\",\"top\",\"water\",\"prepare\",\"during\",\"real\",\"say\",\"system\",\"name\",\"through\",\"two\",\"1\",\"our\",\"study\",\"3\",\"university\",\"made\",\"back\",\"happen\",\"stop\",\"student\",\"sex\",\"bad\",\"language\",\"going\",\"same\",\"before\",\"software\",\"school\",\"live\",\"country\",\"android\",\"science\",\"help\",\"she\",\"see\",\"thing\",\"women\",\"over\",\"data\",\"examples\",\"computer\",\"had\",\"ways\",\"change\",\"while\",\"book\",\"english\",\"account\",\"still\",\"movie\",\"books\",\"2016\",\"facebook\",\"free\",\"number\",\"college\",\"app\",\"2\",\"just\",\"now\",\"no\",\"trump\",\"company\",\"only\",\"old\",\"been\",\"google\",\"phone\",\"long\",\"different\",\"girl\",\"his\",\"her\",\"years\",\"really\",\"them\",\"using\",\"business\",\"need\",\"being\",\"buy\",\"day\",\"person\",\"things\",\"possible\",\"could\",\"were\",\"its\",\"love\",\"engineering\",\"im\",\"used\",\"online\",\"go\",\"year\",\"he\",\"into\",\"feel\",\"dont\",\"first\",\"up\"]]]}}},\"view\":{\"type\":\"object\",\"name\":\"CDSView\",\"id\":\"p1045\",\"attributes\":{\"filter\":{\"type\":\"object\",\"name\":\"AllIndices\",\"id\":\"p1046\"}}},\"glyph\":{\"type\":\"object\",\"name\":\"Scatter\",\"id\":\"p1041\",\"attributes\":{\"x\":{\"type\":\"field\",\"field\":\"x\"},\"y\":{\"type\":\"field\",\"field\":\"y\"},\"size\":{\"type\":\"value\",\"value\":10},\"line_color\":{\"type\":\"field\",\"field\":\"color\"},\"line_alpha\":{\"type\":\"value\",\"value\":0.25},\"fill_color\":{\"type\":\"field\",\"field\":\"color\"},\"fill_alpha\":{\"type\":\"value\",\"value\":0.25},\"hatch_color\":{\"type\":\"field\",\"field\":\"color\"},\"hatch_alpha\":{\"type\":\"value\",\"value\":0.25}}},\"nonselection_glyph\":{\"type\":\"object\",\"name\":\"Scatter\",\"id\":\"p1042\",\"attributes\":{\"x\":{\"type\":\"field\",\"field\":\"x\"},\"y\":{\"type\":\"field\",\"field\":\"y\"},\"size\":{\"type\":\"value\",\"value\":10},\"line_color\":{\"type\":\"field\",\"field\":\"color\"},\"line_alpha\":{\"type\":\"value\",\"value\":0.1},\"fill_color\":{\"type\":\"field\",\"field\":\"color\"},\"fill_alpha\":{\"type\":\"value\",\"value\":0.1},\"hatch_color\":{\"type\":\"field\",\"field\":\"color\"},\"hatch_alpha\":{\"type\":\"value\",\"value\":0.1}}},\"muted_glyph\":{\"type\":\"object\",\"name\":\"Scatter\",\"id\":\"p1043\",\"attributes\":{\"x\":{\"type\":\"field\",\"field\":\"x\"},\"y\":{\"type\":\"field\",\"field\":\"y\"},\"size\":{\"type\":\"value\",\"value\":10},\"line_color\":{\"type\":\"field\",\"field\":\"color\"},\"line_alpha\":{\"type\":\"value\",\"value\":0.2},\"fill_color\":{\"type\":\"field\",\"field\":\"color\"},\"fill_alpha\":{\"type\":\"value\",\"value\":0.2},\"hatch_color\":{\"type\":\"field\",\"field\":\"color\"},\"hatch_alpha\":{\"type\":\"value\",\"value\":0.2}}}}}],\"toolbar\":{\"type\":\"object\",\"name\":\"Toolbar\",\"id\":\"p1012\",\"attributes\":{\"tools\":[{\"type\":\"object\",\"name\":\"PanTool\",\"id\":\"p1025\"},{\"type\":\"object\",\"name\":\"WheelZoomTool\",\"id\":\"p1026\",\"attributes\":{\"renderers\":\"auto\"}},{\"type\":\"object\",\"name\":\"BoxZoomTool\",\"id\":\"p1027\",\"attributes\":{\"overlay\":{\"type\":\"object\",\"name\":\"BoxAnnotation\",\"id\":\"p1028\",\"attributes\":{\"syncable\":false,\"line_color\":\"black\",\"line_alpha\":1.0,\"line_width\":2,\"line_dash\":[4,4],\"fill_color\":\"lightgrey\",\"fill_alpha\":0.5,\"level\":\"overlay\",\"visible\":false,\"left\":{\"type\":\"number\",\"value\":\"nan\"},\"right\":{\"type\":\"number\",\"value\":\"nan\"},\"top\":{\"type\":\"number\",\"value\":\"nan\"},\"bottom\":{\"type\":\"number\",\"value\":\"nan\"},\"left_units\":\"canvas\",\"right_units\":\"canvas\",\"top_units\":\"canvas\",\"bottom_units\":\"canvas\",\"handles\":{\"type\":\"object\",\"name\":\"BoxInteractionHandles\",\"id\":\"p1034\",\"attributes\":{\"all\":{\"type\":\"object\",\"name\":\"AreaVisuals\",\"id\":\"p1033\",\"attributes\":{\"fill_color\":\"white\",\"hover_fill_color\":\"lightgray\"}}}}}}}},{\"type\":\"object\",\"name\":\"SaveTool\",\"id\":\"p1035\"},{\"type\":\"object\",\"name\":\"ResetTool\",\"id\":\"p1036\"},{\"type\":\"object\",\"name\":\"HelpTool\",\"id\":\"p1037\"},{\"type\":\"object\",\"name\":\"HoverTool\",\"id\":\"p1047\",\"attributes\":{\"renderers\":\"auto\",\"tooltips\":[[\"token\",\"@token\"]]}}],\"active_scroll\":{\"id\":\"p1026\"}}},\"left\":[{\"type\":\"object\",\"name\":\"LinearAxis\",\"id\":\"p1020\",\"attributes\":{\"ticker\":{\"type\":\"object\",\"name\":\"BasicTicker\",\"id\":\"p1021\",\"attributes\":{\"mantissas\":[1,2,5]}},\"formatter\":{\"type\":\"object\",\"name\":\"BasicTickFormatter\",\"id\":\"p1022\"},\"major_label_policy\":{\"type\":\"object\",\"name\":\"AllLabels\",\"id\":\"p1023\"}}}],\"below\":[{\"type\":\"object\",\"name\":\"LinearAxis\",\"id\":\"p1015\",\"attributes\":{\"ticker\":{\"type\":\"object\",\"name\":\"BasicTicker\",\"id\":\"p1016\",\"attributes\":{\"mantissas\":[1,2,5]}},\"formatter\":{\"type\":\"object\",\"name\":\"BasicTickFormatter\",\"id\":\"p1017\"},\"major_label_policy\":{\"type\":\"object\",\"name\":\"AllLabels\",\"id\":\"p1018\"}}}],\"center\":[{\"type\":\"object\",\"name\":\"Grid\",\"id\":\"p1019\",\"attributes\":{\"axis\":{\"id\":\"p1015\"}}},{\"type\":\"object\",\"name\":\"Grid\",\"id\":\"p1024\",\"attributes\":{\"dimension\":1,\"axis\":{\"id\":\"p1020\"}}}]}}]}};\n  const render_items = [{\"docid\":\"d1efe43d-06d8-4458-b9f8-088eaa58137b\",\"roots\":{\"p1004\":\"d0c145b4-daad-4b2d-b264-2fe7c2fdd611\"},\"root_ids\":[\"p1004\"]}];\n  void root.Bokeh.embed.embed_items_notebook(docs_json, render_items);\n  }\n  if (root.Bokeh !== undefined) {\n    embed_document(root);\n  } else {\n    let attempts = 0;\n    const timer = setInterval(function(root) {\n      if (root.Bokeh !== undefined) {\n        clearInterval(timer);\n        embed_document(root);\n      } else {\n        attempts++;\n        if (attempts > 100) {\n          clearInterval(timer);\n          console.log(\"Bokeh: ERROR: Unable to run BokehJS code because BokehJS library is missing\");\n        }\n      }\n    }, 10, root)\n  }\n})(window);",
      "application/vnd.bokehjs_exec.v0+json": ""
     },
     "metadata": {
      "application/vnd.bokehjs_exec.v0+json": {
       "id": "p1004"
      }
     },
     "output_type": "display_data"
    },
    {
     "data": {
      "text/html": [
       "<div style=\"display: table;\"><div style=\"display: table-row;\"><div style=\"display: table-cell;\"><b title=\"bokeh.plotting._figure.figure\">figure</b>(</div><div style=\"display: table-cell;\">id&nbsp;=&nbsp;'p1004', <span id=\"p1051\" style=\"cursor: pointer;\">&hellip;)</span></div></div><div class=\"p1050\" style=\"display: none;\"><div style=\"display: table-cell;\"></div><div style=\"display: table-cell;\">above&nbsp;=&nbsp;[],</div></div><div class=\"p1050\" style=\"display: none;\"><div style=\"display: table-cell;\"></div><div style=\"display: table-cell;\">align&nbsp;=&nbsp;'auto',</div></div><div class=\"p1050\" style=\"display: none;\"><div style=\"display: table-cell;\"></div><div style=\"display: table-cell;\">aspect_ratio&nbsp;=&nbsp;None,</div></div><div class=\"p1050\" style=\"display: none;\"><div style=\"display: table-cell;\"></div><div style=\"display: table-cell;\">aspect_scale&nbsp;=&nbsp;1,</div></div><div class=\"p1050\" style=\"display: none;\"><div style=\"display: table-cell;\"></div><div style=\"display: table-cell;\">attribution&nbsp;=&nbsp;[],</div></div><div class=\"p1050\" style=\"display: none;\"><div style=\"display: table-cell;\"></div><div style=\"display: table-cell;\">background_fill_alpha&nbsp;=&nbsp;1.0,</div></div><div class=\"p1050\" style=\"display: none;\"><div style=\"display: table-cell;\"></div><div style=\"display: table-cell;\">background_fill_color&nbsp;=&nbsp;'#ffffff',</div></div><div class=\"p1050\" style=\"display: none;\"><div style=\"display: table-cell;\"></div><div style=\"display: table-cell;\">below&nbsp;=&nbsp;[LinearAxis(id='p1015', ...)],</div></div><div class=\"p1050\" style=\"display: none;\"><div style=\"display: table-cell;\"></div><div style=\"display: table-cell;\">border_fill_alpha&nbsp;=&nbsp;1.0,</div></div><div class=\"p1050\" style=\"display: none;\"><div style=\"display: table-cell;\"></div><div style=\"display: table-cell;\">border_fill_color&nbsp;=&nbsp;'#ffffff',</div></div><div class=\"p1050\" style=\"display: none;\"><div style=\"display: table-cell;\"></div><div style=\"display: table-cell;\">center&nbsp;=&nbsp;[Grid(id='p1019', ...), Grid(id='p1024', ...)],</div></div><div class=\"p1050\" style=\"display: none;\"><div style=\"display: table-cell;\"></div><div style=\"display: table-cell;\">context_menu&nbsp;=&nbsp;None,</div></div><div class=\"p1050\" style=\"display: none;\"><div style=\"display: table-cell;\"></div><div style=\"display: table-cell;\">css_classes&nbsp;=&nbsp;[],</div></div><div class=\"p1050\" style=\"display: none;\"><div style=\"display: table-cell;\"></div><div style=\"display: table-cell;\">css_variables&nbsp;=&nbsp;{},</div></div><div class=\"p1050\" style=\"display: none;\"><div style=\"display: table-cell;\"></div><div style=\"display: table-cell;\">disabled&nbsp;=&nbsp;False,</div></div><div class=\"p1050\" style=\"display: none;\"><div style=\"display: table-cell;\"></div><div style=\"display: table-cell;\">elements&nbsp;=&nbsp;[],</div></div><div class=\"p1050\" style=\"display: none;\"><div style=\"display: table-cell;\"></div><div style=\"display: table-cell;\">extra_x_ranges&nbsp;=&nbsp;{},</div></div><div class=\"p1050\" style=\"display: none;\"><div style=\"display: table-cell;\"></div><div style=\"display: table-cell;\">extra_x_scales&nbsp;=&nbsp;{},</div></div><div class=\"p1050\" style=\"display: none;\"><div style=\"display: table-cell;\"></div><div style=\"display: table-cell;\">extra_y_ranges&nbsp;=&nbsp;{},</div></div><div class=\"p1050\" style=\"display: none;\"><div style=\"display: table-cell;\"></div><div style=\"display: table-cell;\">extra_y_scales&nbsp;=&nbsp;{},</div></div><div class=\"p1050\" style=\"display: none;\"><div style=\"display: table-cell;\"></div><div style=\"display: table-cell;\">flow_mode&nbsp;=&nbsp;'block',</div></div><div class=\"p1050\" style=\"display: none;\"><div style=\"display: table-cell;\"></div><div style=\"display: table-cell;\">frame_align&nbsp;=&nbsp;True,</div></div><div class=\"p1050\" style=\"display: none;\"><div style=\"display: table-cell;\"></div><div style=\"display: table-cell;\">frame_height&nbsp;=&nbsp;None,</div></div><div class=\"p1050\" style=\"display: none;\"><div style=\"display: table-cell;\"></div><div style=\"display: table-cell;\">frame_width&nbsp;=&nbsp;None,</div></div><div class=\"p1050\" style=\"display: none;\"><div style=\"display: table-cell;\"></div><div style=\"display: table-cell;\">height&nbsp;=&nbsp;400,</div></div><div class=\"p1050\" style=\"display: none;\"><div style=\"display: table-cell;\"></div><div style=\"display: table-cell;\">height_policy&nbsp;=&nbsp;'auto',</div></div><div class=\"p1050\" style=\"display: none;\"><div style=\"display: table-cell;\"></div><div style=\"display: table-cell;\">hidpi&nbsp;=&nbsp;True,</div></div><div class=\"p1050\" style=\"display: none;\"><div style=\"display: table-cell;\"></div><div style=\"display: table-cell;\">hold_render&nbsp;=&nbsp;False,</div></div><div class=\"p1050\" style=\"display: none;\"><div style=\"display: table-cell;\"></div><div style=\"display: table-cell;\">js_event_callbacks&nbsp;=&nbsp;{},</div></div><div class=\"p1050\" style=\"display: none;\"><div style=\"display: table-cell;\"></div><div style=\"display: table-cell;\">js_property_callbacks&nbsp;=&nbsp;{},</div></div><div class=\"p1050\" style=\"display: none;\"><div style=\"display: table-cell;\"></div><div style=\"display: table-cell;\">left&nbsp;=&nbsp;[LinearAxis(id='p1020', ...)],</div></div><div class=\"p1050\" style=\"display: none;\"><div style=\"display: table-cell;\"></div><div style=\"display: table-cell;\">lod_factor&nbsp;=&nbsp;10,</div></div><div class=\"p1050\" style=\"display: none;\"><div style=\"display: table-cell;\"></div><div style=\"display: table-cell;\">lod_interval&nbsp;=&nbsp;300,</div></div><div class=\"p1050\" style=\"display: none;\"><div style=\"display: table-cell;\"></div><div style=\"display: table-cell;\">lod_threshold&nbsp;=&nbsp;2000,</div></div><div class=\"p1050\" style=\"display: none;\"><div style=\"display: table-cell;\"></div><div style=\"display: table-cell;\">lod_timeout&nbsp;=&nbsp;500,</div></div><div class=\"p1050\" style=\"display: none;\"><div style=\"display: table-cell;\"></div><div style=\"display: table-cell;\">margin&nbsp;=&nbsp;None,</div></div><div class=\"p1050\" style=\"display: none;\"><div style=\"display: table-cell;\"></div><div style=\"display: table-cell;\">match_aspect&nbsp;=&nbsp;False,</div></div><div class=\"p1050\" style=\"display: none;\"><div style=\"display: table-cell;\"></div><div style=\"display: table-cell;\">max_height&nbsp;=&nbsp;None,</div></div><div class=\"p1050\" style=\"display: none;\"><div style=\"display: table-cell;\"></div><div style=\"display: table-cell;\">max_width&nbsp;=&nbsp;None,</div></div><div class=\"p1050\" style=\"display: none;\"><div style=\"display: table-cell;\"></div><div style=\"display: table-cell;\">min_border&nbsp;=&nbsp;5,</div></div><div class=\"p1050\" style=\"display: none;\"><div style=\"display: table-cell;\"></div><div style=\"display: table-cell;\">min_border_bottom&nbsp;=&nbsp;None,</div></div><div class=\"p1050\" style=\"display: none;\"><div style=\"display: table-cell;\"></div><div style=\"display: table-cell;\">min_border_left&nbsp;=&nbsp;None,</div></div><div class=\"p1050\" style=\"display: none;\"><div style=\"display: table-cell;\"></div><div style=\"display: table-cell;\">min_border_right&nbsp;=&nbsp;None,</div></div><div class=\"p1050\" style=\"display: none;\"><div style=\"display: table-cell;\"></div><div style=\"display: table-cell;\">min_border_top&nbsp;=&nbsp;None,</div></div><div class=\"p1050\" style=\"display: none;\"><div style=\"display: table-cell;\"></div><div style=\"display: table-cell;\">min_height&nbsp;=&nbsp;None,</div></div><div class=\"p1050\" style=\"display: none;\"><div style=\"display: table-cell;\"></div><div style=\"display: table-cell;\">min_width&nbsp;=&nbsp;None,</div></div><div class=\"p1050\" style=\"display: none;\"><div style=\"display: table-cell;\"></div><div style=\"display: table-cell;\">name&nbsp;=&nbsp;None,</div></div><div class=\"p1050\" style=\"display: none;\"><div style=\"display: table-cell;\"></div><div style=\"display: table-cell;\">outline_line_alpha&nbsp;=&nbsp;1.0,</div></div><div class=\"p1050\" style=\"display: none;\"><div style=\"display: table-cell;\"></div><div style=\"display: table-cell;\">outline_line_cap&nbsp;=&nbsp;'butt',</div></div><div class=\"p1050\" style=\"display: none;\"><div style=\"display: table-cell;\"></div><div style=\"display: table-cell;\">outline_line_color&nbsp;=&nbsp;'#e5e5e5',</div></div><div class=\"p1050\" style=\"display: none;\"><div style=\"display: table-cell;\"></div><div style=\"display: table-cell;\">outline_line_dash&nbsp;=&nbsp;[],</div></div><div class=\"p1050\" style=\"display: none;\"><div style=\"display: table-cell;\"></div><div style=\"display: table-cell;\">outline_line_dash_offset&nbsp;=&nbsp;0,</div></div><div class=\"p1050\" style=\"display: none;\"><div style=\"display: table-cell;\"></div><div style=\"display: table-cell;\">outline_line_join&nbsp;=&nbsp;'bevel',</div></div><div class=\"p1050\" style=\"display: none;\"><div style=\"display: table-cell;\"></div><div style=\"display: table-cell;\">outline_line_width&nbsp;=&nbsp;1,</div></div><div class=\"p1050\" style=\"display: none;\"><div style=\"display: table-cell;\"></div><div style=\"display: table-cell;\">output_backend&nbsp;=&nbsp;'canvas',</div></div><div class=\"p1050\" style=\"display: none;\"><div style=\"display: table-cell;\"></div><div style=\"display: table-cell;\">renderers&nbsp;=&nbsp;[GlyphRenderer(id='p1044', ...)],</div></div><div class=\"p1050\" style=\"display: none;\"><div style=\"display: table-cell;\"></div><div style=\"display: table-cell;\">reset_policy&nbsp;=&nbsp;'standard',</div></div><div class=\"p1050\" style=\"display: none;\"><div style=\"display: table-cell;\"></div><div style=\"display: table-cell;\">resizable&nbsp;=&nbsp;False,</div></div><div class=\"p1050\" style=\"display: none;\"><div style=\"display: table-cell;\"></div><div style=\"display: table-cell;\">right&nbsp;=&nbsp;[],</div></div><div class=\"p1050\" style=\"display: none;\"><div style=\"display: table-cell;\"></div><div style=\"display: table-cell;\">sizing_mode&nbsp;=&nbsp;None,</div></div><div class=\"p1050\" style=\"display: none;\"><div style=\"display: table-cell;\"></div><div style=\"display: table-cell;\">styles&nbsp;=&nbsp;{},</div></div><div class=\"p1050\" style=\"display: none;\"><div style=\"display: table-cell;\"></div><div style=\"display: table-cell;\">stylesheets&nbsp;=&nbsp;[],</div></div><div class=\"p1050\" style=\"display: none;\"><div style=\"display: table-cell;\"></div><div style=\"display: table-cell;\">subscribed_events&nbsp;=&nbsp;PropertyValueSet(),</div></div><div class=\"p1050\" style=\"display: none;\"><div style=\"display: table-cell;\"></div><div style=\"display: table-cell;\">syncable&nbsp;=&nbsp;True,</div></div><div class=\"p1050\" style=\"display: none;\"><div style=\"display: table-cell;\"></div><div style=\"display: table-cell;\">tags&nbsp;=&nbsp;[],</div></div><div class=\"p1050\" style=\"display: none;\"><div style=\"display: table-cell;\"></div><div style=\"display: table-cell;\">title&nbsp;=&nbsp;Title(id='p1011', ...),</div></div><div class=\"p1050\" style=\"display: none;\"><div style=\"display: table-cell;\"></div><div style=\"display: table-cell;\">title_location&nbsp;=&nbsp;'above',</div></div><div class=\"p1050\" style=\"display: none;\"><div style=\"display: table-cell;\"></div><div style=\"display: table-cell;\">toolbar&nbsp;=&nbsp;Toolbar(id='p1012', ...),</div></div><div class=\"p1050\" style=\"display: none;\"><div style=\"display: table-cell;\"></div><div style=\"display: table-cell;\">toolbar_inner&nbsp;=&nbsp;False,</div></div><div class=\"p1050\" style=\"display: none;\"><div style=\"display: table-cell;\"></div><div style=\"display: table-cell;\">toolbar_location&nbsp;=&nbsp;'right',</div></div><div class=\"p1050\" style=\"display: none;\"><div style=\"display: table-cell;\"></div><div style=\"display: table-cell;\">toolbar_sticky&nbsp;=&nbsp;True,</div></div><div class=\"p1050\" style=\"display: none;\"><div style=\"display: table-cell;\"></div><div style=\"display: table-cell;\">visible&nbsp;=&nbsp;True,</div></div><div class=\"p1050\" style=\"display: none;\"><div style=\"display: table-cell;\"></div><div style=\"display: table-cell;\">width&nbsp;=&nbsp;600,</div></div><div class=\"p1050\" style=\"display: none;\"><div style=\"display: table-cell;\"></div><div style=\"display: table-cell;\">width_policy&nbsp;=&nbsp;'auto',</div></div><div class=\"p1050\" style=\"display: none;\"><div style=\"display: table-cell;\"></div><div style=\"display: table-cell;\">x_range&nbsp;=&nbsp;DataRange1d(id='p1005', ...),</div></div><div class=\"p1050\" style=\"display: none;\"><div style=\"display: table-cell;\"></div><div style=\"display: table-cell;\">x_scale&nbsp;=&nbsp;LinearScale(id='p1013', ...),</div></div><div class=\"p1050\" style=\"display: none;\"><div style=\"display: table-cell;\"></div><div style=\"display: table-cell;\">y_range&nbsp;=&nbsp;DataRange1d(id='p1006', ...),</div></div><div class=\"p1050\" style=\"display: none;\"><div style=\"display: table-cell;\"></div><div style=\"display: table-cell;\">y_scale&nbsp;=&nbsp;LinearScale(id='p1014', ...))</div></div></div>\n",
       "<script>\n",
       "(function() {\n",
       "  let expanded = false;\n",
       "  const ellipsis = document.getElementById(\"p1051\");\n",
       "  ellipsis.addEventListener(\"click\", function() {\n",
       "    const rows = document.getElementsByClassName(\"p1050\");\n",
       "    for (let i = 0; i < rows.length; i++) {\n",
       "      const el = rows[i];\n",
       "      el.style.display = expanded ? \"none\" : \"table-row\";\n",
       "    }\n",
       "    ellipsis.innerHTML = expanded ? \"&hellip;)\" : \"&lsaquo;&lsaquo;&lsaquo;\";\n",
       "    expanded = !expanded;\n",
       "  });\n",
       "})();\n",
       "</script>\n"
      ],
      "text/plain": [
       "figure(id='p1004', ...)"
      ]
     },
     "execution_count": 51,
     "metadata": {},
     "output_type": "execute_result"
    }
   ],
   "source": [
    "draw_vectors(embedding[:, 0], embedding[:, 1], token=top_words)"
   ]
  },
  {
   "cell_type": "markdown",
   "metadata": {},
   "source": [
    "Для сдачи задания необходимо загрузить функции `subsample_frequent_words` и `get_negative_sampling_prob`, а также сгенерировать файл для посылки ниже и приложить в соответствующую задачу. Успехов!"
   ]
  },
  {
   "cell_type": "code",
   "execution_count": 53,
   "metadata": {},
   "outputs": [
    {
     "name": "stdout",
     "output_type": "stream",
     "text": [
      "File saved to `submission_dict.json`\n"
     ]
    }
   ],
   "source": [
    "# do not change the code in the block below\n",
    "# __________start of block__________\n",
    "import os\n",
    "import json\n",
    "\n",
    "assert os.path.exists(\n",
    "    \"words_subset.txt\"\n",
    "), \"Please, download `words_subset.txt` and place it in the working directory\"\n",
    "\n",
    "with open(\"words_subset.txt\") as iofile:\n",
    "    selected_words = iofile.read().split(\"\\n\")\n",
    "\n",
    "\n",
    "def get_matrix_for_selected_words(selected_words, embedding_matrix, word_to_index):\n",
    "    word_vectors = []\n",
    "    for word in selected_words:\n",
    "        index = word_to_index.get(word, None)\n",
    "        vector = [0.0] * embedding_matrix.shape[1]\n",
    "        if index is not None:\n",
    "            vector = embedding_matrix[index].cpu().numpy().tolist()\n",
    "        word_vectors.append(vector)\n",
    "    return word_vectors\n",
    "\n",
    "\n",
    "word_vectors = get_matrix_for_selected_words(\n",
    "    selected_words, embedding_matrix_context, word_to_index\n",
    ")\n",
    "\n",
    "with open(\"submission_dict.json\", \"w\") as iofile:\n",
    "    json.dump(word_vectors, iofile)\n",
    "print(\"File saved to `submission_dict.json`\")\n",
    "# __________end of block__________"
   ]
  },
  {
   "cell_type": "code",
   "execution_count": null,
   "metadata": {},
   "outputs": [],
   "source": []
  }
 ],
 "metadata": {
  "colab": {
   "provenance": []
  },
  "kernelspec": {
   "display_name": "Python 3.10 (py310)",
   "language": "python",
   "name": "py310"
  },
  "language_info": {
   "codemirror_mode": {
    "name": "ipython",
    "version": 3
   },
   "file_extension": ".py",
   "mimetype": "text/x-python",
   "name": "python",
   "nbconvert_exporter": "python",
   "pygments_lexer": "ipython3",
   "version": "3.10.15"
  }
 },
 "nbformat": 4,
 "nbformat_minor": 0
}
